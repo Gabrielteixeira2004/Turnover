{
 "cells": [
  {
   "cell_type": "code",
   "execution_count": 1,
   "id": "8fc08a04-7f50-4f41-9c5b-c82cae8c97e9",
   "metadata": {
    "canvas": {
     "comments": [],
     "componentType": "CodeCell",
     "copiedOriginId": null,
     "diskcache": false,
     "headerColor": "inherit",
     "id": "2d5f98aa-5409-4be5-8811-aedbeeda0450",
     "isComponent": false,
     "name": "",
     "parents": []
    }
   },
   "outputs": [],
   "source": [
    "import pandas as pd\n",
    "import polars as pl"
   ]
  },
  {
   "cell_type": "code",
   "execution_count": 3,
   "id": "750fe29d-595f-4211-81b4-27ca3bd97110",
   "metadata": {
    "canvas": {
     "comments": [],
     "componentType": "CodeCell",
     "copiedOriginId": null,
     "diskcache": false,
     "headerColor": "inherit",
     "id": "2f759479-1d48-4202-94f8-19b98b0d7cb3",
     "isComponent": false,
     "name": "",
     "parents": []
    },
    "tags": []
   },
   "outputs": [],
   "source": [
    "df_mov = pl.read_parquet('C:/Users/Gabriel.Gomes/Downloads/Turnover/Movimentações.parquet')"
   ]
  },
  {
   "cell_type": "code",
   "execution_count": 5,
   "id": "cb5d2b81-28ad-4394-9690-225933030126",
   "metadata": {
    "canvas": {
     "comments": [],
     "componentType": "CodeCell",
     "copiedOriginId": null,
     "diskcache": false,
     "headerColor": "inherit",
     "id": "2019da68-94ec-49fb-b491-e06d21ff146d",
     "isComponent": false,
     "name": "",
     "parents": []
    }
   },
   "outputs": [
    {
     "data": {
      "text/html": [
       "<div>\n",
       "<style scoped>\n",
       "    .dataframe tbody tr th:only-of-type {\n",
       "        vertical-align: middle;\n",
       "    }\n",
       "\n",
       "    .dataframe tbody tr th {\n",
       "        vertical-align: top;\n",
       "    }\n",
       "\n",
       "    .dataframe thead th {\n",
       "        text-align: right;\n",
       "    }\n",
       "\n",
       "    .dataframe td {\n",
       "        white-space: pre;\n",
       "    }\n",
       "\n",
       "    .dataframe td {\n",
       "        padding-top: 0;\n",
       "    }\n",
       "\n",
       "    .dataframe td {\n",
       "        padding-bottom: 0;\n",
       "    }\n",
       "\n",
       "    .dataframe td {\n",
       "        line-height: 95%;\n",
       "    }\n",
       "</style>\n",
       "<table border=\"1\" class=\"dataframe\">\n",
       "<small>shape: (5, 6)</small>\n",
       "<thead>\n",
       "<tr>\n",
       "<th>\n",
       "chave_coligada_chapa\n",
       "</th>\n",
       "<th>\n",
       "dtmudanca\n",
       "</th>\n",
       "<th>\n",
       "salario\n",
       "</th>\n",
       "<th>\n",
       "integrada\n",
       "</th>\n",
       "<th>\n",
       "descricao\n",
       "</th>\n",
       "<th>\n",
       "PERCENTAPLICADO\n",
       "</th>\n",
       "</tr>\n",
       "<tr>\n",
       "<td>\n",
       "str\n",
       "</td>\n",
       "<td>\n",
       "str\n",
       "</td>\n",
       "<td>\n",
       "str\n",
       "</td>\n",
       "<td>\n",
       "str\n",
       "</td>\n",
       "<td>\n",
       "str\n",
       "</td>\n",
       "<td>\n",
       "str\n",
       "</td>\n",
       "</tr>\n",
       "</thead>\n",
       "<tbody>\n",
       "<tr>\n",
       "<td>\n",
       "&quot;1011000415&quot;\n",
       "</td>\n",
       "<td>\n",
       "&quot;2021-07-01&quot;\n",
       "</td>\n",
       "<td>\n",
       "&quot;1400.0&quot;\n",
       "</td>\n",
       "<td>\n",
       "&quot;S&quot;\n",
       "</td>\n",
       "<td>\n",
       "&quot;PROMOÇÃO&quot;\n",
       "</td>\n",
       "<td>\n",
       "&quot;0.0&quot;\n",
       "</td>\n",
       "</tr>\n",
       "<tr>\n",
       "<td>\n",
       "&quot;1011000472&quot;\n",
       "</td>\n",
       "<td>\n",
       "&quot;2021-01-01&quot;\n",
       "</td>\n",
       "<td>\n",
       "&quot;25000.0&quot;\n",
       "</td>\n",
       "<td>\n",
       "&quot;S&quot;\n",
       "</td>\n",
       "<td>\n",
       "&quot;PROMOÇÃO&quot;\n",
       "</td>\n",
       "<td>\n",
       "&quot;0.0&quot;\n",
       "</td>\n",
       "</tr>\n",
       "<tr>\n",
       "<td>\n",
       "&quot;1011000541&quot;\n",
       "</td>\n",
       "<td>\n",
       "&quot;2021-03-01&quot;\n",
       "</td>\n",
       "<td>\n",
       "&quot;3500.0&quot;\n",
       "</td>\n",
       "<td>\n",
       "&quot;S&quot;\n",
       "</td>\n",
       "<td>\n",
       "&quot;PROMOÇÃO&quot;\n",
       "</td>\n",
       "<td>\n",
       "&quot;0.0&quot;\n",
       "</td>\n",
       "</tr>\n",
       "<tr>\n",
       "<td>\n",
       "&quot;1011000777&quot;\n",
       "</td>\n",
       "<td>\n",
       "&quot;2022-01-01&quot;\n",
       "</td>\n",
       "<td>\n",
       "&quot;3473.62&quot;\n",
       "</td>\n",
       "<td>\n",
       "&quot;S&quot;\n",
       "</td>\n",
       "<td>\n",
       "&quot;PROMOÇÃO&quot;\n",
       "</td>\n",
       "<td>\n",
       "&quot;0.0&quot;\n",
       "</td>\n",
       "</tr>\n",
       "<tr>\n",
       "<td>\n",
       "&quot;1011000973&quot;\n",
       "</td>\n",
       "<td>\n",
       "&quot;2021-04-01&quot;\n",
       "</td>\n",
       "<td>\n",
       "&quot;2980.59&quot;\n",
       "</td>\n",
       "<td>\n",
       "&quot;S&quot;\n",
       "</td>\n",
       "<td>\n",
       "&quot;PROMOÇÃO&quot;\n",
       "</td>\n",
       "<td>\n",
       "&quot;0.0&quot;\n",
       "</td>\n",
       "</tr>\n",
       "</tbody>\n",
       "</table>\n",
       "</div>"
      ],
      "text/plain": [
       "shape: (5, 6)\n",
       "┌──────────────────────┬────────────┬─────────┬───────────┬───────────┬─────────────────┐\n",
       "│ chave_coligada_chapa ┆ dtmudanca  ┆ salario ┆ integrada ┆ descricao ┆ PERCENTAPLICADO │\n",
       "│ ---                  ┆ ---        ┆ ---     ┆ ---       ┆ ---       ┆ ---             │\n",
       "│ str                  ┆ str        ┆ str     ┆ str       ┆ str       ┆ str             │\n",
       "╞══════════════════════╪════════════╪═════════╪═══════════╪═══════════╪═════════════════╡\n",
       "│ 1011000415           ┆ 2021-07-01 ┆ 1400.0  ┆ S         ┆ PROMOÇÃO  ┆ 0.0             │\n",
       "│ 1011000472           ┆ 2021-01-01 ┆ 25000.0 ┆ S         ┆ PROMOÇÃO  ┆ 0.0             │\n",
       "│ 1011000541           ┆ 2021-03-01 ┆ 3500.0  ┆ S         ┆ PROMOÇÃO  ┆ 0.0             │\n",
       "│ 1011000777           ┆ 2022-01-01 ┆ 3473.62 ┆ S         ┆ PROMOÇÃO  ┆ 0.0             │\n",
       "│ 1011000973           ┆ 2021-04-01 ┆ 2980.59 ┆ S         ┆ PROMOÇÃO  ┆ 0.0             │\n",
       "└──────────────────────┴────────────┴─────────┴───────────┴───────────┴─────────────────┘"
      ]
     },
     "execution_count": 5,
     "metadata": {},
     "output_type": "execute_result"
    }
   ],
   "source": [
    "df_mov.head(5)"
   ]
  },
  {
   "cell_type": "code",
   "execution_count": 12,
   "id": "80608c79-240f-4536-9046-c99b4dd300ef",
   "metadata": {
    "canvas": {
     "comments": [],
     "componentType": "CodeCell",
     "copiedOriginId": null,
     "diskcache": false,
     "headerColor": "inherit",
     "id": "957f6585-8a24-49b6-8b52-ab2bfd61dec0",
     "isComponent": false,
     "name": "",
     "parents": []
    },
    "tags": []
   },
   "outputs": [],
   "source": [
    "lazy_test = df_mov.lazy().select(\n",
    "    ['chave_coligada_chapa', 'descricao']\n",
    ")"
   ]
  },
  {
   "cell_type": "code",
   "execution_count": 13,
   "id": "172181c8-e2b3-4f43-82d6-78818d184725",
   "metadata": {
    "canvas": {
     "comments": [],
     "componentType": "CodeCell",
     "copiedOriginId": null,
     "diskcache": false,
     "headerColor": "inherit",
     "id": "2a87b9c4-ca28-4b14-8da2-de75d375a074",
     "isComponent": false,
     "name": "",
     "parents": []
    }
   },
   "outputs": [
    {
     "data": {
      "text/html": [
       "<h4>NAIVE QUERY PLAN</h4><p>run <b>LazyFrame.show_graph()</b> to see the optimized version</p><?xml version=\"1.0\" encoding=\"UTF-8\" standalone=\"no\"?>\r\n",
       "<!DOCTYPE svg PUBLIC \"-//W3C//DTD SVG 1.1//EN\"\r\n",
       " \"http://www.w3.org/Graphics/SVG/1.1/DTD/svg11.dtd\">\r\n",
       "<!-- Generated by graphviz version 6.0.2 (20221011.1828)\r\n",
       " -->\r\n",
       "<!-- Title: polars_query Pages: 1 -->\r\n",
       "<svg width=\"69pt\" height=\"133pt\"\r\n",
       " viewBox=\"0.00 0.00 69.00 133.00\" xmlns=\"http://www.w3.org/2000/svg\" xmlns:xlink=\"http://www.w3.org/1999/xlink\">\r\n",
       "<g id=\"graph0\" class=\"graph\" transform=\"scale(1 1) rotate(0) translate(4 129)\">\r\n",
       "<title>polars_query</title>\r\n",
       "<polygon fill=\"white\" stroke=\"none\" points=\"-4,4 -4,-129 65,-129 65,4 -4,4\"/>\r\n",
       "<!-- π 2/6 [(0, 0)] -->\r\n",
       "<g id=\"node1\" class=\"node\">\r\n",
       "<title>π 2/6 [(0, 0)]</title>\r\n",
       "<polygon fill=\"none\" stroke=\"black\" points=\"57.5,-125 3.5,-125 3.5,-89 57.5,-89 57.5,-125\"/>\r\n",
       "<text text-anchor=\"middle\" x=\"30.5\" y=\"-103.3\" font-family=\"Times New Roman,serif\" font-size=\"14.00\">π 2/6</text>\r\n",
       "</g>\r\n",
       "<!-- TABLE\r\n",
       "π */6;\r\n",
       "σ &#45;; [(0, 1)] -->\r\n",
       "<g id=\"node2\" class=\"node\">\r\n",
       "<title>TABLE\r\n",
       "π */6;\r\n",
       "σ &#45;; [(0, 1)]</title>\r\n",
       "<polygon fill=\"none\" stroke=\"black\" points=\"61,-53 0,-53 0,0 61,0 61,-53\"/>\r\n",
       "<text text-anchor=\"middle\" x=\"30.5\" y=\"-37.8\" font-family=\"Times New Roman,serif\" font-size=\"14.00\">TABLE</text>\r\n",
       "<text text-anchor=\"middle\" x=\"30.5\" y=\"-22.8\" font-family=\"Times New Roman,serif\" font-size=\"14.00\">π */6;</text>\r\n",
       "<text text-anchor=\"middle\" x=\"30.5\" y=\"-7.8\" font-family=\"Times New Roman,serif\" font-size=\"14.00\">σ &#45;;</text>\r\n",
       "</g>\r\n",
       "<!-- π 2/6 [(0, 0)]&#45;&#45;TABLE\r\n",
       "π */6;\r\n",
       "σ &#45;; [(0, 1)] -->\r\n",
       "<g id=\"edge1\" class=\"edge\">\r\n",
       "<title>π 2/6 [(0, 0)]&#45;&#45;TABLE\r\n",
       "π */6;\r\n",
       "σ &#45;; [(0, 1)]</title>\r\n",
       "<path fill=\"none\" stroke=\"black\" d=\"M30.5,-88.97C30.5,-78.51 30.5,-64.9 30.5,-53.16\"/>\r\n",
       "</g>\r\n",
       "</g>\r\n",
       "</svg>\r\n"
      ],
      "text/plain": [
       "<polars.LazyFrame object at 0x20941929760>"
      ]
     },
     "execution_count": 13,
     "metadata": {},
     "output_type": "execute_result"
    }
   ],
   "source": [
    "lazy_test"
   ]
  },
  {
   "cell_type": "code",
   "execution_count": 14,
   "id": "d2f846e9-a5c1-4626-ac3c-c0eec5a0e456",
   "metadata": {
    "canvas": {
     "comments": [],
     "componentType": "CodeCell",
     "copiedOriginId": null,
     "diskcache": false,
     "headerColor": "inherit",
     "id": "b6455d4b-d3a1-445f-bd69-3c8b215bd8ba",
     "isComponent": false,
     "name": "",
     "parents": []
    }
   },
   "outputs": [
    {
     "data": {
      "image/svg+xml": [
       "<svg xmlns=\"http://www.w3.org/2000/svg\" xmlns:xlink=\"http://www.w3.org/1999/xlink\" width=\"332pt\" height=\"133pt\" viewBox=\"0.00 0.00 332.00 133.00\">\n",
       "<g id=\"graph0\" class=\"graph\" transform=\"scale(1 1) rotate(0) translate(4 129)\">\n",
       "<title>polars_query</title>\n",
       "<polygon fill=\"white\" stroke=\"none\" points=\"-4,4 -4,-129 328,-129 328,4 -4,4\"/>\n",
       "<!-- FAST_PROJECT: [chave_coligada_chapa, descricao] [(0, 0)] -->\n",
       "<g id=\"node1\" class=\"node\">\n",
       "<title>FAST_PROJECT: [chave_coligada_chapa, descricao] [(0, 0)]</title>\n",
       "<polygon fill=\"none\" stroke=\"black\" points=\"324,-125 0,-125 0,-89 324,-89 324,-125\"/>\n",
       "<text text-anchor=\"middle\" x=\"162\" y=\"-103.3\" font-family=\"Times New Roman,serif\" font-size=\"14.00\">FAST_PROJECT: [chave_coligada_chapa, descricao]</text>\n",
       "</g>\n",
       "<!-- TABLE\n",
       "π 2/6;\n",
       "σ &#45;; [(0, 1)] -->\n",
       "<g id=\"node2\" class=\"node\">\n",
       "<title>TABLE\n",
       "π 2/6;\n",
       "σ -; [(0, 1)]</title>\n",
       "<polygon fill=\"none\" stroke=\"black\" points=\"192.5,-53 131.5,-53 131.5,0 192.5,0 192.5,-53\"/>\n",
       "<text text-anchor=\"middle\" x=\"162\" y=\"-37.8\" font-family=\"Times New Roman,serif\" font-size=\"14.00\">TABLE</text>\n",
       "<text text-anchor=\"middle\" x=\"162\" y=\"-22.8\" font-family=\"Times New Roman,serif\" font-size=\"14.00\">π 2/6;</text>\n",
       "<text text-anchor=\"middle\" x=\"162\" y=\"-7.8\" font-family=\"Times New Roman,serif\" font-size=\"14.00\">σ -;</text>\n",
       "</g>\n",
       "<!-- FAST_PROJECT: [chave_coligada_chapa, descricao] [(0, 0)]&#45;&#45;TABLE\n",
       "π 2/6;\n",
       "σ &#45;; [(0, 1)] -->\n",
       "<g id=\"edge1\" class=\"edge\">\n",
       "<title>FAST_PROJECT: [chave_coligada_chapa, descricao] [(0, 0)]--TABLE\n",
       "π 2/6;\n",
       "σ -; [(0, 1)]</title>\n",
       "<path fill=\"none\" stroke=\"black\" d=\"M162,-88.97C162,-78.51 162,-64.9 162,-53.16\"/>\n",
       "</g>\n",
       "</g>\n",
       "</svg>"
      ],
      "text/plain": [
       "<IPython.core.display.SVG object>"
      ]
     },
     "metadata": {},
     "output_type": "display_data"
    }
   ],
   "source": [
    "lazy_test.show_graph()"
   ]
  },
  {
   "cell_type": "code",
   "execution_count": 18,
   "id": "fe72e07a-ca15-4167-b300-e3ad01fa7cf8",
   "metadata": {
    "canvas": {
     "comments": [],
     "componentType": "CodeCell",
     "copiedOriginId": null,
     "diskcache": false,
     "headerColor": "inherit",
     "id": "f0005fd5-0ac3-4bea-9c79-58dbc6de2d48",
     "isComponent": false,
     "name": "",
     "parents": []
    }
   },
   "outputs": [
    {
     "data": {
      "image/svg+xml": [
       "<svg xmlns=\"http://www.w3.org/2000/svg\" xmlns:xlink=\"http://www.w3.org/1999/xlink\" width=\"332pt\" height=\"133pt\" viewBox=\"0.00 0.00 332.00 133.00\">\n",
       "<g id=\"graph0\" class=\"graph\" transform=\"scale(1 1) rotate(0) translate(4 129)\">\n",
       "<title>polars_query</title>\n",
       "<polygon fill=\"white\" stroke=\"none\" points=\"-4,4 -4,-129 328,-129 328,4 -4,4\"/>\n",
       "<!-- FAST_PROJECT: [chave_coligada_chapa, descricao] [(0, 0)] -->\n",
       "<g id=\"node1\" class=\"node\">\n",
       "<title>FAST_PROJECT: [chave_coligada_chapa, descricao] [(0, 0)]</title>\n",
       "<polygon fill=\"none\" stroke=\"black\" points=\"324,-125 0,-125 0,-89 324,-89 324,-125\"/>\n",
       "<text text-anchor=\"middle\" x=\"162\" y=\"-103.3\" font-family=\"Times New Roman,serif\" font-size=\"14.00\">FAST_PROJECT: [chave_coligada_chapa, descricao]</text>\n",
       "</g>\n",
       "<!-- TABLE\n",
       "π 2/6;\n",
       "σ (col(&quot;chave_coligada_chap...; [(0, 1)] -->\n",
       "<g id=\"node2\" class=\"node\">\n",
       "<title>TABLE\n",
       "π 2/6;\n",
       "σ (col(&quot;chave_coligada_chap...; [(0, 1)]</title>\n",
       "<polygon fill=\"none\" stroke=\"black\" points=\"260,-53 64,-53 64,0 260,0 260,-53\"/>\n",
       "<text text-anchor=\"middle\" x=\"162\" y=\"-37.8\" font-family=\"Times New Roman,serif\" font-size=\"14.00\">TABLE</text>\n",
       "<text text-anchor=\"middle\" x=\"162\" y=\"-22.8\" font-family=\"Times New Roman,serif\" font-size=\"14.00\">π 2/6;</text>\n",
       "<text text-anchor=\"middle\" x=\"162\" y=\"-7.8\" font-family=\"Times New Roman,serif\" font-size=\"14.00\">σ (col(&quot;chave_coligada_chap...;</text>\n",
       "</g>\n",
       "<!-- FAST_PROJECT: [chave_coligada_chapa, descricao] [(0, 0)]&#45;&#45;TABLE\n",
       "π 2/6;\n",
       "σ (col(&quot;chave_coligada_chap...; [(0, 1)] -->\n",
       "<g id=\"edge1\" class=\"edge\">\n",
       "<title>FAST_PROJECT: [chave_coligada_chapa, descricao] [(0, 0)]--TABLE\n",
       "π 2/6;\n",
       "σ (col(&quot;chave_coligada_chap...; [(0, 1)]</title>\n",
       "<path fill=\"none\" stroke=\"black\" d=\"M162,-88.97C162,-78.51 162,-64.9 162,-53.16\"/>\n",
       "</g>\n",
       "</g>\n",
       "</svg>"
      ],
      "text/plain": [
       "<IPython.core.display.SVG object>"
      ]
     },
     "metadata": {},
     "output_type": "display_data"
    }
   ],
   "source": [
    "lazy_test2 = lazy_test.filter(\n",
    "    pl.col('chave_coligada_chapa') =='1011000415'\n",
    ")\n",
    "lazy_test2.show_graph()"
   ]
  },
  {
   "cell_type": "code",
   "execution_count": 19,
   "id": "4ce9cdd9-546f-4205-8109-e7cae0c8ae59",
   "metadata": {
    "canvas": {
     "comments": [],
     "componentType": "CodeCell",
     "copiedOriginId": null,
     "diskcache": false,
     "headerColor": "inherit",
     "id": "dbb17e1e-71bb-470a-aefa-50f6cdfa41d9",
     "isComponent": false,
     "name": "",
     "parents": []
    }
   },
   "outputs": [
    {
     "data": {
      "text/html": [
       "<h4>NAIVE QUERY PLAN</h4><p>run <b>LazyFrame.show_graph()</b> to see the optimized version</p><?xml version=\"1.0\" encoding=\"UTF-8\" standalone=\"no\"?>\r\n",
       "<!DOCTYPE svg PUBLIC \"-//W3C//DTD SVG 1.1//EN\"\r\n",
       " \"http://www.w3.org/Graphics/SVG/1.1/DTD/svg11.dtd\">\r\n",
       "<!-- Generated by graphviz version 6.0.2 (20221011.1828)\r\n",
       " -->\r\n",
       "<!-- Title: polars_query Pages: 1 -->\r\n",
       "<svg width=\"263pt\" height=\"277pt\"\r\n",
       " viewBox=\"0.00 0.00 263.00 277.00\" xmlns=\"http://www.w3.org/2000/svg\" xmlns:xlink=\"http://www.w3.org/1999/xlink\">\r\n",
       "<g id=\"graph0\" class=\"graph\" transform=\"scale(1 1) rotate(0) translate(4 273)\">\r\n",
       "<title>polars_query</title>\r\n",
       "<polygon fill=\"white\" stroke=\"none\" points=\"-4,4 -4,-273 259,-273 259,4 -4,4\"/>\r\n",
       "<!-- FILTER BY (col(&quot;descricao&quot;)) == (Ut... [(0, 0)] -->\r\n",
       "<g id=\"node1\" class=\"node\">\r\n",
       "<title>FILTER BY (col(&quot;descricao&quot;)) == (Ut... [(0, 0)]</title>\r\n",
       "<polygon fill=\"none\" stroke=\"black\" points=\"250,-269 5,-269 5,-233 250,-233 250,-269\"/>\r\n",
       "<text text-anchor=\"middle\" x=\"127.5\" y=\"-247.3\" font-family=\"Times New Roman,serif\" font-size=\"14.00\">FILTER BY (col(&quot;descricao&quot;)) == (Ut...</text>\r\n",
       "</g>\r\n",
       "<!-- FILTER BY (col(&quot;chave_coligada_chap... [(0, 1)] -->\r\n",
       "<g id=\"node2\" class=\"node\">\r\n",
       "<title>FILTER BY (col(&quot;chave_coligada_chap... [(0, 1)]</title>\r\n",
       "<polygon fill=\"none\" stroke=\"black\" points=\"255,-197 0,-197 0,-161 255,-161 255,-197\"/>\r\n",
       "<text text-anchor=\"middle\" x=\"127.5\" y=\"-175.3\" font-family=\"Times New Roman,serif\" font-size=\"14.00\">FILTER BY (col(&quot;chave_coligada_chap...</text>\r\n",
       "</g>\r\n",
       "<!-- FILTER BY (col(&quot;descricao&quot;)) == (Ut... [(0, 0)]&#45;&#45;FILTER BY (col(&quot;chave_coligada_chap... [(0, 1)] -->\r\n",
       "<g id=\"edge1\" class=\"edge\">\r\n",
       "<title>FILTER BY (col(&quot;descricao&quot;)) == (Ut... [(0, 0)]&#45;&#45;FILTER BY (col(&quot;chave_coligada_chap... [(0, 1)]</title>\r\n",
       "<path fill=\"none\" stroke=\"black\" d=\"M127.5,-232.7C127.5,-221.85 127.5,-207.92 127.5,-197.1\"/>\r\n",
       "</g>\r\n",
       "<!-- π 2/6 [(0, 2)] -->\r\n",
       "<g id=\"node3\" class=\"node\">\r\n",
       "<title>π 2/6 [(0, 2)]</title>\r\n",
       "<polygon fill=\"none\" stroke=\"black\" points=\"154.5,-125 100.5,-125 100.5,-89 154.5,-89 154.5,-125\"/>\r\n",
       "<text text-anchor=\"middle\" x=\"127.5\" y=\"-103.3\" font-family=\"Times New Roman,serif\" font-size=\"14.00\">π 2/6</text>\r\n",
       "</g>\r\n",
       "<!-- FILTER BY (col(&quot;chave_coligada_chap... [(0, 1)]&#45;&#45;π 2/6 [(0, 2)] -->\r\n",
       "<g id=\"edge2\" class=\"edge\">\r\n",
       "<title>FILTER BY (col(&quot;chave_coligada_chap... [(0, 1)]&#45;&#45;π 2/6 [(0, 2)]</title>\r\n",
       "<path fill=\"none\" stroke=\"black\" d=\"M127.5,-160.7C127.5,-149.85 127.5,-135.92 127.5,-125.1\"/>\r\n",
       "</g>\r\n",
       "<!-- TABLE\r\n",
       "π */6;\r\n",
       "σ &#45;; [(0, 3)] -->\r\n",
       "<g id=\"node4\" class=\"node\">\r\n",
       "<title>TABLE\r\n",
       "π */6;\r\n",
       "σ &#45;; [(0, 3)]</title>\r\n",
       "<polygon fill=\"none\" stroke=\"black\" points=\"158,-53 97,-53 97,0 158,0 158,-53\"/>\r\n",
       "<text text-anchor=\"middle\" x=\"127.5\" y=\"-37.8\" font-family=\"Times New Roman,serif\" font-size=\"14.00\">TABLE</text>\r\n",
       "<text text-anchor=\"middle\" x=\"127.5\" y=\"-22.8\" font-family=\"Times New Roman,serif\" font-size=\"14.00\">π */6;</text>\r\n",
       "<text text-anchor=\"middle\" x=\"127.5\" y=\"-7.8\" font-family=\"Times New Roman,serif\" font-size=\"14.00\">σ &#45;;</text>\r\n",
       "</g>\r\n",
       "<!-- π 2/6 [(0, 2)]&#45;&#45;TABLE\r\n",
       "π */6;\r\n",
       "σ &#45;; [(0, 3)] -->\r\n",
       "<g id=\"edge3\" class=\"edge\">\r\n",
       "<title>π 2/6 [(0, 2)]&#45;&#45;TABLE\r\n",
       "π */6;\r\n",
       "σ &#45;; [(0, 3)]</title>\r\n",
       "<path fill=\"none\" stroke=\"black\" d=\"M127.5,-88.97C127.5,-78.51 127.5,-64.9 127.5,-53.16\"/>\r\n",
       "</g>\r\n",
       "</g>\r\n",
       "</svg>\r\n"
      ],
      "text/plain": [
       "<polars.LazyFrame object at 0x209440461F0>"
      ]
     },
     "execution_count": 19,
     "metadata": {},
     "output_type": "execute_result"
    }
   ],
   "source": [
    "lazy_test3 = lazy_test2.filter(\n",
    "    pl.col('descricao') == 'PROMOÇÃO'\n",
    ")\n",
    "lazy_test3"
   ]
  },
  {
   "cell_type": "code",
   "execution_count": 20,
   "id": "3b3a9efe-0265-40ac-b7ca-62e0c4872d60",
   "metadata": {
    "canvas": {
     "comments": [],
     "componentType": "CodeCell",
     "copiedOriginId": null,
     "diskcache": false,
     "headerColor": "inherit",
     "id": "543cecd1-a429-4639-9b9f-9ee8399466c1",
     "isComponent": false,
     "name": "",
     "parents": []
    }
   },
   "outputs": [
    {
     "data": {
      "image/svg+xml": [
       "<svg xmlns=\"http://www.w3.org/2000/svg\" xmlns:xlink=\"http://www.w3.org/1999/xlink\" width=\"332pt\" height=\"133pt\" viewBox=\"0.00 0.00 332.00 133.00\">\n",
       "<g id=\"graph0\" class=\"graph\" transform=\"scale(1 1) rotate(0) translate(4 129)\">\n",
       "<title>polars_query</title>\n",
       "<polygon fill=\"white\" stroke=\"none\" points=\"-4,4 -4,-129 328,-129 328,4 -4,4\"/>\n",
       "<!-- FAST_PROJECT: [chave_coligada_chapa, descricao] [(0, 0)] -->\n",
       "<g id=\"node1\" class=\"node\">\n",
       "<title>FAST_PROJECT: [chave_coligada_chapa, descricao] [(0, 0)]</title>\n",
       "<polygon fill=\"none\" stroke=\"black\" points=\"324,-125 0,-125 0,-89 324,-89 324,-125\"/>\n",
       "<text text-anchor=\"middle\" x=\"162\" y=\"-103.3\" font-family=\"Times New Roman,serif\" font-size=\"14.00\">FAST_PROJECT: [chave_coligada_chapa, descricao]</text>\n",
       "</g>\n",
       "<!-- TABLE\n",
       "π 2/6;\n",
       "σ ((col(&quot;chave_coligada_cha...; [(0, 1)] -->\n",
       "<g id=\"node2\" class=\"node\">\n",
       "<title>TABLE\n",
       "π 2/6;\n",
       "σ ((col(&quot;chave_coligada_cha...; [(0, 1)]</title>\n",
       "<polygon fill=\"none\" stroke=\"black\" points=\"258.5,-53 65.5,-53 65.5,0 258.5,0 258.5,-53\"/>\n",
       "<text text-anchor=\"middle\" x=\"162\" y=\"-37.8\" font-family=\"Times New Roman,serif\" font-size=\"14.00\">TABLE</text>\n",
       "<text text-anchor=\"middle\" x=\"162\" y=\"-22.8\" font-family=\"Times New Roman,serif\" font-size=\"14.00\">π 2/6;</text>\n",
       "<text text-anchor=\"middle\" x=\"162\" y=\"-7.8\" font-family=\"Times New Roman,serif\" font-size=\"14.00\">σ ((col(&quot;chave_coligada_cha...;</text>\n",
       "</g>\n",
       "<!-- FAST_PROJECT: [chave_coligada_chapa, descricao] [(0, 0)]&#45;&#45;TABLE\n",
       "π 2/6;\n",
       "σ ((col(&quot;chave_coligada_cha...; [(0, 1)] -->\n",
       "<g id=\"edge1\" class=\"edge\">\n",
       "<title>FAST_PROJECT: [chave_coligada_chapa, descricao] [(0, 0)]--TABLE\n",
       "π 2/6;\n",
       "σ ((col(&quot;chave_coligada_cha...; [(0, 1)]</title>\n",
       "<path fill=\"none\" stroke=\"black\" d=\"M162,-88.97C162,-78.51 162,-64.9 162,-53.16\"/>\n",
       "</g>\n",
       "</g>\n",
       "</svg>"
      ],
      "text/plain": [
       "<IPython.core.display.SVG object>"
      ]
     },
     "metadata": {},
     "output_type": "display_data"
    }
   ],
   "source": [
    "lazy_test3.show_graph()"
   ]
  },
  {
   "cell_type": "code",
   "execution_count": 27,
   "id": "3964f0aa-aa6a-493b-bf17-509c584b103f",
   "metadata": {
    "canvas": {
     "comments": [],
     "componentType": "CodeCell",
     "copiedOriginId": null,
     "diskcache": false,
     "headerColor": "inherit",
     "id": "d8640ef4-1732-47fa-9f52-aa5d683b2184",
     "isComponent": false,
     "name": "",
     "parents": []
    }
   },
   "outputs": [
    {
     "name": "stdout",
     "output_type": "stream",
     "text": [
      "CPU times: total: 2.31 s\n",
      "Wall time: 493 ms\n"
     ]
    }
   ],
   "source": [
    "%%time\n",
    "\n",
    "for i in df_mov['chave_coligada_chapa']:\n",
    "    base = df_mov.lazy().filter(\n",
    "        pl.col('chave_coligada_chapa') == i\n",
    "    )\n",
    "    \n",
    "    promo = base.filter(\n",
    "        pl.col('descricao') == 'PROMOÇÃO'\n",
    "    ).collect()\n",
    "    \n",
    "    merito = base.filter(\n",
    "        pl.col('descricao') == 'MÉRITO'\n",
    "    ).collect()\n",
    "    \n",
    "    "
   ]
  },
  {
   "cell_type": "code",
   "execution_count": 29,
   "id": "b1390c18-e339-4e22-b471-df3af1c40068",
   "metadata": {
    "canvas": {
     "comments": [],
     "componentType": "CodeCell",
     "copiedOriginId": null,
     "diskcache": false,
     "headerColor": "inherit",
     "id": "9d2a8f6f-7182-458e-bf66-151dda51a164",
     "isComponent": false,
     "name": "",
     "parents": []
    }
   },
   "outputs": [],
   "source": [
    "df_mov_pd = df_mov.to_pandas()[['chave_coligada_chapa','descricao']]"
   ]
  },
  {
   "cell_type": "code",
   "execution_count": 42,
   "id": "2f9fe0f8-4884-4577-952b-83ab12a94617",
   "metadata": {
    "canvas": {
     "comments": [],
     "componentType": "CodeCell",
     "copiedOriginId": null,
     "diskcache": false,
     "headerColor": "inherit",
     "id": "1731b6d4-0c5c-4b35-b156-938c04645cf6",
     "isComponent": false,
     "name": "",
     "parents": []
    }
   },
   "outputs": [
    {
     "name": "stdout",
     "output_type": "stream",
     "text": [
      "CPU times: total: 1.16 s\n",
      "Wall time: 1.14 s\n"
     ]
    }
   ],
   "source": [
    "%%time\n",
    "\n",
    "for i in df_mov_pd['chave_coligada_chapa']:\n",
    "    base = df_mov_pd.loc[df_mov_pd.chave_coligada_chapa == i].copy()\n",
    "    \n",
    "    promo = base.loc[base.descricao == 'PROMOÇÃO']\n",
    "    \n",
    "    merito = base.loc[base.descricao == 'MÉRITO']\n",
    "    \n",
    "    "
   ]
  }
 ],
 "metadata": {
  "canvas": {
   "colorPalette": [
    "inherit",
    "inherit",
    "inherit",
    "inherit",
    "inherit",
    "inherit",
    "inherit",
    "inherit",
    "inherit",
    "inherit"
   ],
   "parameters": []
  },
  "kernelspec": {
   "display_name": "Python 3 (ipykernel)",
   "language": "python",
   "name": "python3"
  },
  "language_info": {
   "codemirror_mode": {
    "name": "ipython",
    "version": 3
   },
   "file_extension": ".py",
   "mimetype": "text/x-python",
   "name": "python",
   "nbconvert_exporter": "python",
   "pygments_lexer": "ipython3",
   "version": "3.9.12"
  }
 },
 "nbformat": 4,
 "nbformat_minor": 5
}
