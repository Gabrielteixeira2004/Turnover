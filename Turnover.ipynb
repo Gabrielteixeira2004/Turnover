{
 "cells": [
  {
   "cell_type": "code",
   "execution_count": null,
   "id": "6ded8459-ac6b-4025-849d-5d737d4300b7",
   "metadata": {
    "canvas": {
     "comments": [],
     "componentType": "CodeCell",
     "copiedOriginId": null,
     "diskcache": false,
     "headerColor": "inherit",
     "id": "de981481-fc84-46dc-9c10-9367b39aca68",
     "isComponent": false,
     "name": "",
     "parents": []
    }
   },
   "outputs": [],
   "source": [
    "# This notebook's pipeline is managed through mrxlinx extension.\n",
    "# Looks like it's not organized, but in this extension shows \n",
    "# the whole pipeline correctly."
   ]
  },
  {
   "cell_type": "code",
   "execution_count": 4,
   "id": "76f04b1b-f263-4a5c-ba37-f2f8464b6f7f",
   "metadata": {
    "canvas": {
     "comments": [],
     "componentType": "CodeCell",
     "copiedOriginId": null,
     "diskcache": true,
     "headerColor": "none",
     "id": "74e47343-3dbf-44f8-8228-e584f90a0e16",
     "isComponent": true,
     "name": "Import libs",
     "parents": []
    },
    "tags": []
   },
   "outputs": [],
   "source": [
    "import pandas as pd\n",
    "import numpy as np\n",
    "import polars as pl\n",
    "from pickle import dump, load\n",
    "import itertools\n",
    "import winsound\n",
    "\n",
    "import Custom_Tools\n",
    "from sksurv.nonparametric import kaplan_meier_estimator\n",
    "from target_definition_polars import target_definition_polars\n",
    "from drop_turnover import drop_turnover\n",
    "from preprocess_turnover import preprocess_turnover\n",
    "from scale_dataset import scale_dataset\n",
    "from final_transformation import final_transformation\n",
    "\n",
    "\n",
    "from sklearn.model_selection import train_test_split, StratifiedKFold, ShuffleSplit\n",
    "from sklearn.preprocessing import MinMaxScaler\n",
    "from sklearn.feature_selection import chi2, f_classif, mutual_info_classif\n",
    "\n",
    "\n",
    "from imblearn.over_sampling import ADASYN\n",
    "from sklearn.ensemble import RandomForestClassifier, ExtraTreesClassifier\n",
    "from sklearn.linear_model import LogisticRegression\n",
    "from lightgbm import LGBMClassifier\n",
    "from xgboost import XGBClassifier\n",
    "from catboost import CatBoostClassifier\n",
    "from sklearn.naive_bayes import GaussianNB\n",
    "from sklearn import metrics\n",
    "\n",
    "import optuna\n",
    "\n",
    "import plotly.express as px\n",
    "import seaborn as sns\n",
    "import matplotlib.pyplot as plt\n",
    "import shap\n",
    "\n",
    "\n"
   ]
  },
  {
   "cell_type": "code",
   "execution_count": 5,
   "id": "bd665393-e6f6-466e-b8cb-c82ed1390f71",
   "metadata": {
    "canvas": {
     "comments": [],
     "componentType": "CodeCell",
     "copiedOriginId": null,
     "diskcache": false,
     "headerColor": "inherit",
     "id": "76d35863-9c5e-4649-82eb-174ae9ec8508",
     "isComponent": false,
     "name": "",
     "parents": []
    }
   },
   "outputs": [
    {
     "data": {
      "text/plain": [
       "Float64"
      ]
     },
     "execution_count": 5,
     "metadata": {},
     "output_type": "execute_result"
    }
   ],
   "source": [
    "pl.Float64"
   ]
  },
  {
   "cell_type": "code",
   "execution_count": null,
   "id": "1f8b59bc-7c49-44cc-a7b3-855119a3e9f3",
   "metadata": {
    "canvas": {
     "comments": [],
     "componentType": "CodeCell",
     "copiedOriginId": null,
     "diskcache": true,
     "headerColor": "inherit",
     "id": "f4e84cf3-2314-400d-8d85-f6c630928b76",
     "isComponent": true,
     "name": "Path",
     "parents": [
      {
       "id": "74e47343-3dbf-44f8-8228-e584f90a0e16",
       "name": "Import libs"
      }
     ]
    },
    "tags": []
   },
   "outputs": [],
   "source": [
    "path = 'C:/Users/Gabriel.Gomes/Downloads/Turnover/23-01-16/'"
   ]
  },
  {
   "cell_type": "code",
   "execution_count": null,
   "id": "534d67e1-9df1-42f9-aa4a-fb99829430f6",
   "metadata": {
    "canvas": {
     "comments": [],
     "componentType": "CodeCell",
     "copiedOriginId": null,
     "diskcache": false,
     "headerColor": "inherit",
     "id": "8e431cdc-4bbd-41ad-889d-c59c578e9741",
     "isComponent": true,
     "name": "Convert to parquet",
     "parents": [
      {
       "id": "f4e84cf3-2314-400d-8d85-f6c630928b76",
       "name": "Path"
      }
     ]
    },
    "tags": []
   },
   "outputs": [],
   "source": [
    "df_pd = pd.read_excel(path + 'Análise_Headcount.xlsx')\n",
    "df_pd.astype(str).to_parquet(path + 'Análise_Headcount.parquet', index=False)\n",
    "\n",
    "df_mov_pd = pd.read_excel(path + 'Movimentações.xlsx')\n",
    "df_mov_pd['dtmudanca'] = df_mov_pd.dtmudanca.dt.date\n",
    "df_mov_pd = df_mov_pd[df_mov_pd.descricao.isin(['MÉRITO', 'PROMOÇÃO'])]\n",
    "df_mov_pd.astype(str).to_parquet(path + 'Movimentações.parquet', index=False)\n",
    "\n",
    "\n",
    "duration = 1000  # milliseconds\n",
    "freq = 440  # Hz\n",
    "winsound.Beep(freq, duration)"
   ]
  },
  {
   "cell_type": "code",
   "execution_count": null,
   "id": "b8f7e0c9-66b9-4228-b072-38660cee58b0",
   "metadata": {
    "canvas": {
     "comments": [],
     "componentType": "CodeCell",
     "copiedOriginId": null,
     "diskcache": true,
     "headerColor": "none",
     "id": "df37f106-a4ff-49cb-9f22-c550f0812b37",
     "isComponent": true,
     "name": "First dataset",
     "parents": [
      {
       "id": "f4e84cf3-2314-400d-8d85-f6c630928b76",
       "name": "Path"
      }
     ]
    },
    "tags": []
   },
   "outputs": [],
   "source": [
    "df = pl.read_parquet(path + 'Análise_Headcount.parquet')\n",
    "df_mov = pl.read_parquet(path + 'Movimentações.parquet')\n",
    "\n",
    "'''\n",
    "Adicionar tipo de função (Gestor, não gestor)\n",
    "Salário, méritos e promoções\n",
    "Pulses\n",
    "\n",
    "\n",
    "'''"
   ]
  },
  {
   "cell_type": "code",
   "execution_count": null,
   "id": "f18c6d37-ff07-4e0e-b995-9abfecf1e212",
   "metadata": {
    "canvas": {
     "comments": [],
     "componentType": "CodeCell",
     "copiedOriginId": null,
     "diskcache": false,
     "headerColor": "inherit",
     "id": "606f4556-0b33-4952-a6e1-8f69796bc173",
     "isComponent": false,
     "name": "",
     "parents": []
    }
   },
   "outputs": [],
   "source": [
    "df.columns"
   ]
  },
  {
   "cell_type": "code",
   "execution_count": null,
   "id": "c480e075-3d01-4a2e-9a8f-8d706d663cac",
   "metadata": {
    "canvas": {
     "comments": [],
     "componentType": "CodeCell",
     "copiedOriginId": null,
     "diskcache": false,
     "headerColor": "inherit",
     "id": "651d005e-5f45-4ca8-96ed-50c5783a308d",
     "isComponent": true,
     "name": "Survival analysis preparation",
     "parents": [
      {
       "id": "df37f106-a4ff-49cb-9f22-c550f0812b37",
       "name": "First dataset"
      }
     ]
    },
    "tags": []
   },
   "outputs": [],
   "source": [
    "# Needs to be fixed, target_definition is excluding more than 1 year dismissals\n",
    "\n",
    "df_surv = target_definition(df, 'tipo_colaborador', 'CLT')\n",
    "df_surv = df_surv[(df_surv.tempo_de_casa > 0) & (df_surv.tempo_de_casa < 62)]\n",
    "df_surv.loc[df_surv.tipo_função == 'Docente','tipo_filial'] = 'DOCENTE'"
   ]
  },
  {
   "cell_type": "code",
   "execution_count": null,
   "id": "0d6e02ca-860d-4d51-82ba-98b726464f1c",
   "metadata": {
    "canvas": {
     "comments": [],
     "componentType": "CodeCell",
     "copiedOriginId": null,
     "diskcache": false,
     "headerColor": "inherit",
     "id": "c5f37c46-43b7-4de0-ab93-060a818a308d",
     "isComponent": false,
     "name": "",
     "parents": []
    }
   },
   "outputs": [],
   "source": [
    "df_surv.cod"
   ]
  },
  {
   "cell_type": "code",
   "execution_count": null,
   "id": "a6485dd3-6aa4-4f8f-b999-d21d5b0a090d",
   "metadata": {
    "canvas": {
     "comments": [],
     "componentType": "CodeCell",
     "copiedOriginId": null,
     "diskcache": false,
     "headerColor": "inherit",
     "id": "7eb6e6b2-a7a3-487d-8ed9-b36c7d14bd2b",
     "isComponent": false,
     "name": "",
     "parents": []
    }
   },
   "outputs": [],
   "source": [
    "fig = px.histogram(df_surv, x=\"tempo_de_casa\",  color=\"desligado\", facet_col=\"corraca_descricao\", facet_row=\"escolaridade_classificação\",height=1500, width = 1000) # noqa E501\n",
    "fig.for_each_annotation(lambda a: a.update(text=a.text.split(\"=\")[-1]))\n",
    "\n",
    "for annotation in fig['layout']['annotations']: \n",
    "    annotation['textangle']= 25\n",
    "fig.show()"
   ]
  },
  {
   "cell_type": "code",
   "execution_count": null,
   "id": "6093e34e-2981-4754-86c2-05d6c3c05b4b",
   "metadata": {
    "canvas": {
     "comments": [],
     "componentType": "CodeCell",
     "copiedOriginId": null,
     "diskcache": false,
     "headerColor": "inherit",
     "id": "7d4bd98c-77e1-4ec1-96a6-ab0d4438efe2",
     "isComponent": false,
     "name": "",
     "parents": []
    }
   },
   "outputs": [],
   "source": [
    "g = sns.FacetGrid(data=df_surv, row=\"escolaridade_classificação\", col=\"corraca_descricao\", hue = 'desligado')\n",
    "\n",
    "\n",
    "g.map(sns.kdeplot, \"tempo_de_casa\", warn_singular=False);\n",
    "\n",
    "\n",
    "\n",
    "\n"
   ]
  },
  {
   "cell_type": "code",
   "execution_count": null,
   "id": "0c58bdda-a87b-4b90-912a-232f9829979c",
   "metadata": {
    "canvas": {
     "comments": [],
     "componentType": "CodeCell",
     "copiedOriginId": null,
     "diskcache": false,
     "headerColor": "inherit",
     "id": "d695fd5d-fedd-440a-933a-e6b09ae9902b",
     "isComponent": true,
     "name": "Generate plots",
     "parents": [
      {
       "id": "651d005e-5f45-4ca8-96ed-50c5783a308d",
       "name": "Survival analysis preparation"
      }
     ]
    },
    "tags": []
   },
   "outputs": [],
   "source": [
    "data_x = df_surv.copy()\n",
    "\n",
    "data_y = df_surv.desligado==1\n",
    "\n",
    "surv_days = data_x.tempo_de_casa\n",
    "\n",
    "analyze = ['tipo_filial','VP_descricao','genero', 'corraca_descricao']\n",
    "\n",
    "for i in analyze:\n",
    "\n",
    "    analisar = i\n",
    "\n",
    "    plt.figure(figsize=(12, 12), dpi=80)\n",
    "\n",
    "    for value in data_x[analisar].unique():\n",
    "        mask = data_x[analisar] == value\n",
    "        time_cell, survival_prob_cell = kaplan_meier_estimator(data_y[mask],\n",
    "                                                               surv_days[mask])\n",
    "        plt.step(time_cell, survival_prob_cell, where=\"post\",\n",
    "                 label=\"%s (n = %d)\" % (value, mask.sum()));\n",
    "\n",
    "    plt.ylabel(\"est. probability of survival $\\hat{S}(t)$\")\n",
    "    plt.xlabel(\"Months\")\n",
    "    plt.legend(loc=\"best\");\n"
   ]
  },
  {
   "cell_type": "code",
   "execution_count": 1,
   "id": "cfc9b8e1-a680-4129-b02c-6d255ba3ac92",
   "metadata": {
    "canvas": {
     "comments": [],
     "componentType": "CodeCell",
     "copiedOriginId": null,
     "diskcache": true,
     "headerColor": "none",
     "id": "4dabbcf4-809d-4903-8e32-26279499c336",
     "isComponent": true,
     "name": "Target definition",
     "parents": [
      {
       "id": "df37f106-a4ff-49cb-9f22-c550f0812b37",
       "name": "First dataset"
      }
     ]
    },
    "tags": []
   },
   "outputs": [
    {
     "name": "stderr",
     "output_type": "stream",
     "text": [
      "C:\\Users\\Gabriel.Gomes\\OneDrive\\Documents\\GitHub\\Turnover\\feature_engineering_polars.py:76: RuntimeWarning: divide by zero encountered in true_divide\n",
      "  df_origin[col + '_proportion_contagion'] = np.nan_to_num(np.ndarray.round(np.array(col_contagion) / np.array(group_contagion),2))\n",
      "C:\\Users\\Gabriel.Gomes\\OneDrive\\Documents\\GitHub\\Turnover\\feature_engineering_polars.py:76: RuntimeWarning: invalid value encountered in true_divide\n",
      "  df_origin[col + '_proportion_contagion'] = np.nan_to_num(np.ndarray.round(np.array(col_contagion) / np.array(group_contagion),2))\n",
      "C:\\Users\\Gabriel.Gomes\\OneDrive\\Documents\\GitHub\\Turnover\\feature_engineering_polars.py:76: RuntimeWarning: divide by zero encountered in true_divide\n",
      "  df_origin[col + '_proportion_contagion'] = np.nan_to_num(np.ndarray.round(np.array(col_contagion) / np.array(group_contagion),2))\n",
      "C:\\Users\\Gabriel.Gomes\\OneDrive\\Documents\\GitHub\\Turnover\\feature_engineering_polars.py:76: RuntimeWarning: invalid value encountered in true_divide\n",
      "  df_origin[col + '_proportion_contagion'] = np.nan_to_num(np.ndarray.round(np.array(col_contagion) / np.array(group_contagion),2))\n"
     ]
    }
   ],
   "source": [
    "df_alvo = target_definition_polars(df, df_mov, 'tipo_colaborador', 'CLT')"
   ]
  },
  {
   "cell_type": "code",
   "execution_count": 7,
   "id": "97a55ce4-4c67-424b-b88f-f9b0930c2e6c",
   "metadata": {
    "canvas": {
     "comments": [],
     "componentType": "CodeCell",
     "copiedOriginId": null,
     "diskcache": false,
     "headerColor": "inherit",
     "id": "75456744-c35f-4bf6-ab2d-c7ff4b742b69",
     "isComponent": false,
     "name": "",
     "parents": []
    }
   },
   "outputs": [
    {
     "name": "stdout",
     "output_type": "stream",
     "text": [
      "codcoligada\n",
      "<class 'str'>\n",
      "codsecao\n",
      "<class 'str'>\n",
      "dataadmissao\n",
      "<class 'str'>\n",
      "datademissao\n",
      "<class 'str'>\n",
      "codpessoa\n",
      "<class 'str'>\n",
      "nome\n",
      "<class 'str'>\n",
      "chave_coligada_chapa\n",
      "<class 'str'>\n",
      "filial_cidade\n",
      "<class 'str'>\n",
      "filial_estado\n",
      "<class 'str'>\n",
      "codsindicato\n",
      "<class 'str'>\n",
      "faixa_tempo_casa\n",
      "<class 'str'>\n",
      "tempo_casa_anos\n",
      "<class 'str'>\n",
      "residencia_cidade\n",
      "<class 'str'>\n",
      "residencia_estado\n",
      "<class 'str'>\n",
      "escolaridade_descricao\n",
      "<class 'str'>\n",
      "corraca_descricao\n",
      "<class 'str'>\n",
      "idade\n",
      "<class 'str'>\n",
      "faixa_etaria\n",
      "<class 'str'>\n",
      "genero\n",
      "<class 'str'>\n",
      "ord_faixa_tempo_casa\n",
      "<class 'str'>\n",
      "ord_faixa_etaria\n",
      "<class 'str'>\n",
      "Residência\n",
      "<class 'str'>\n",
      "Filial\n",
      "<class 'str'>\n",
      "nome_sindicato\n",
      "<class 'str'>\n",
      "nome_sindicato_abreviado\n",
      "<class 'str'>\n",
      "escolaridade_faixas\n",
      "<class 'str'>\n",
      "escolaridade_classificação\n",
      "<class 'str'>\n",
      "tipo_colaborador_bertelsmann\n",
      "<class 'str'>\n",
      "VP\n",
      "<class 'str'>\n",
      "integrada\n",
      "<class 'str'>\n",
      "raiz_vp\n",
      "<class 'str'>\n",
      "filial_descricao\n",
      "<class 'str'>\n",
      "setor\n",
      "<class 'str'>\n",
      "funcao_descricao\n",
      "<class 'str'>\n",
      "VP_descricao\n",
      "<class 'str'>\n",
      "situacao\n",
      "<class 'str'>\n",
      "codigo_situacao\n",
      "<class 'str'>\n",
      "codsituacao\n",
      "<class 'str'>\n",
      "salario\n",
      "<class 'str'>\n",
      "tipo_filial\n",
      "<class 'str'>\n",
      "codregional\n",
      "<class 'str'>\n",
      "cotapcd\n",
      "<class 'str'>\n",
      "regional\n",
      "<class 'str'>\n",
      "motivo_desligamento\n",
      "<class 'str'>\n",
      "tipo_desligamento_classificação\n",
      "<class 'str'>\n",
      "tipo_desligamento\n",
      "<class 'str'>\n",
      "tipo_função\n",
      "<class 'str'>\n",
      "desligado\n",
      "<class 'str'>\n",
      "codsecao_gerencia\n",
      "<class 'str'>\n",
      "tempo_de_casa\n",
      "<class 'str'>\n",
      "funcao_descricao_clean\n",
      "<class 'str'>\n",
      "codsecao_gerencia_contagion\n",
      "<class 'str'>\n",
      "codsecao_gerencia_group_contagion\n",
      "<class 'str'>\n",
      "codsecao_gerencia_proportion_contagion\n",
      "<class 'str'>\n",
      "funcao_descricao_clean_contagion\n",
      "<class 'str'>\n",
      "funcao_descricao_clean_group_contagion\n",
      "<class 'str'>\n",
      "funcao_descricao_clean_proportion_contagion\n",
      "<class 'str'>\n",
      "engineer_promotion_indexes\n",
      "<class 'str'>\n",
      "engineer_merit_indexes\n",
      "<class 'str'>\n"
     ]
    }
   ],
   "source": []
  },
  {
   "cell_type": "code",
   "execution_count": null,
   "id": "d85c142c-b6b9-473d-9e1c-14f357ba17e3",
   "metadata": {
    "canvas": {
     "comments": [],
     "componentType": "CodeCell",
     "copiedOriginId": null,
     "diskcache": true,
     "headerColor": "none",
     "id": "ce04c155-4800-4dae-9253-501682182090",
     "isComponent": true,
     "name": "Holdout",
     "parents": [
      {
       "id": "4dabbcf4-809d-4903-8e32-26279499c336",
       "name": "Target definition"
      }
     ]
    },
    "tags": []
   },
   "outputs": [],
   "source": [
    "X, X_holdout, y, y_holdout = train_test_split(df_alvo.drop(['desligado'], axis=1), df_alvo['desligado'], test_size=0.1, random_state=42, stratify=df_alvo['desligado']) # noqa E501"
   ]
  },
  {
   "cell_type": "code",
   "execution_count": null,
   "id": "7dad1061-d3d7-496c-8e7d-b08358c8a11c",
   "metadata": {
    "canvas": {
     "comments": [],
     "componentType": "CodeCell",
     "copiedOriginId": null,
     "diskcache": false,
     "headerColor": "none",
     "id": "daf95a54-ce4c-46cc-92a8-93cafd7fbb64",
     "isComponent": true,
     "name": "Check proportions Holdout",
     "parents": [
      {
       "id": "ce04c155-4800-4dae-9253-501682182090",
       "name": "Holdout"
      }
     ]
    },
    "tags": []
   },
   "outputs": [],
   "source": [
    "print(y.value_counts()/y.shape[0])\n",
    "print(y_holdout.value_counts()/y_holdout.shape[0])"
   ]
  },
  {
   "cell_type": "code",
   "execution_count": null,
   "id": "c86e926d-9fb5-4e77-add2-0604e1269a2f",
   "metadata": {
    "canvas": {
     "comments": [],
     "componentType": "CodeCell",
     "copiedOriginId": null,
     "diskcache": true,
     "headerColor": "none",
     "id": "2c4a93db-e6d0-47c0-87ec-4a71151ad0e7",
     "isComponent": true,
     "name": "Train test",
     "parents": [
      {
       "id": "ce04c155-4800-4dae-9253-501682182090",
       "name": "Holdout"
      }
     ]
    },
    "tags": []
   },
   "outputs": [],
   "source": [
    "X_train, X_test, y_train, y_test = train_test_split(X, y, test_size=0.3, random_state=42, stratify=y) # noqa E501\n",
    "\n",
    "df_trat = X_train\n",
    "\n",
    "y_trat = y_train.loc[df_trat.index]\n",
    "\n"
   ]
  },
  {
   "cell_type": "code",
   "execution_count": null,
   "id": "c92ece53-d55c-4f48-804b-6d0274412855",
   "metadata": {
    "canvas": {
     "comments": [],
     "componentType": "CodeCell",
     "copiedOriginId": null,
     "diskcache": false,
     "headerColor": "none",
     "id": "55d86d91-0a4f-4b95-8f8b-30ade51cc1f3",
     "isComponent": true,
     "name": "Check proportion Train Test",
     "parents": [
      {
       "id": "2c4a93db-e6d0-47c0-87ec-4a71151ad0e7",
       "name": "Train test"
      }
     ]
    },
    "tags": []
   },
   "outputs": [],
   "source": [
    "print(y_train.value_counts()/y_train.shape[0])\n",
    "print(y_test.value_counts()/y_test.shape[0])"
   ]
  },
  {
   "cell_type": "code",
   "execution_count": null,
   "id": "56f7d231-9867-4613-8485-33fd9022da1a",
   "metadata": {
    "canvas": {
     "comments": [],
     "componentType": "CodeCell",
     "copiedOriginId": null,
     "diskcache": false,
     "headerColor": "inherit",
     "id": "d3a63656-d9e4-4200-80a2-ff1e529262ab",
     "isComponent": true,
     "name": "Averages for input",
     "parents": [
      {
       "id": "2c4a93db-e6d0-47c0-87ec-4a71151ad0e7",
       "name": "Train test"
      }
     ]
    },
    "tags": []
   },
   "outputs": [],
   "source": [
    "print(X_train.idade.mean())"
   ]
  },
  {
   "cell_type": "code",
   "execution_count": 1,
   "id": "3aa753aa-6568-4e9c-968b-a4407dbfb90c",
   "metadata": {
    "canvas": {
     "comments": [],
     "componentType": "CodeCell",
     "copiedOriginId": null,
     "diskcache": true,
     "headerColor": "none",
     "id": "501b8112-a010-4f1a-9bed-41508f2b1acb",
     "isComponent": true,
     "name": "Drop and Preprocess",
     "parents": [
      {
       "id": "2c4a93db-e6d0-47c0-87ec-4a71151ad0e7",
       "name": "Train test"
      }
     ]
    },
    "tags": []
   },
   "outputs": [],
   "source": [
    "df_trat_drop = drop_turnover(df_trat)\n",
    "\n",
    "df_preprocess = preprocess_turnover(df_trat_drop)"
   ]
  },
  {
   "cell_type": "code",
   "execution_count": 2,
   "id": "1552d95e-764b-4777-bd96-0fc04c75dba0",
   "metadata": {
    "canvas": {
     "comments": [],
     "componentType": "CodeCell",
     "copiedOriginId": null,
     "diskcache": false,
     "headerColor": "inherit",
     "id": "07418f20-7249-4065-945e-3e8298399c6e",
     "isComponent": false,
     "name": "",
     "parents": []
    }
   },
   "outputs": [
    {
     "name": "stdout",
     "output_type": "stream",
     "text": [
      "corraca_descricao - object\n",
      "idade - int16\n",
      "genero - int64\n",
      "ord_faixa_tempo_casa - int8\n",
      "ord_faixa_etaria - int8\n",
      "escolaridade_classificação - int64\n",
      "filial_descricao - object\n",
      "VP_descricao - object\n",
      "salario - float64\n",
      "tipo_filial - object\n",
      "cotapcd - int8\n",
      "tempo_de_casa - float32\n",
      "codsecao_gerencia_contagion - int32\n",
      "codsecao_gerencia_proportion_contagion - float64\n",
      "funcao_descricao_clean_contagion - int32\n",
      "funcao_descricao_clean_proportion_contagion - float64\n",
      "engineer_promotion_indexes - float32\n",
      "engineer_merit_indexes - float32\n"
     ]
    }
   ],
   "source": [
    "teste = df_trat_drop.copy()\n",
    "\n",
    "for i in teste:\n",
    "    print(f'{i} - {teste[i].dtype}')"
   ]
  },
  {
   "cell_type": "code",
   "execution_count": 3,
   "id": "a56d4749-fe21-47d8-a365-d908166d234f",
   "metadata": {
    "canvas": {
     "comments": [],
     "componentType": "CodeCell",
     "copiedOriginId": null,
     "diskcache": false,
     "headerColor": "none",
     "id": "953422cc-3fb0-4601-952c-2840da505de3",
     "isComponent": true,
     "name": "Engineer info",
     "parents": [
      {
       "id": "501b8112-a010-4f1a-9bed-41508f2b1acb",
       "name": "Drop and Preprocess"
      }
     ]
    },
    "tags": []
   },
   "outputs": [
    {
     "name": "stdout",
     "output_type": "stream",
     "text": [
      "Index(['idade', 'genero', 'ord_faixa_tempo_casa', 'ord_faixa_etaria',\n",
      "       'escolaridade_classificao', 'salario', 'cotapcd', 'tempo_de_casa',\n",
      "       'codsecao_gerencia_contagion', 'codsecao_gerencia_proportion_contagion',\n",
      "       'funcao_descricao_clean_contagion',\n",
      "       'funcao_descricao_clean_proportion_contagion',\n",
      "       'engineer_promotion_indexes', 'engineer_merit_indexes',\n",
      "       'corraca_descricao_Amarela', 'corraca_descricao_Branca',\n",
      "       'corraca_descricao_Indgena', 'corraca_descricao_Parda',\n",
      "       'corraca_descricao_Preta', 'filial_descricao_AFYA',\n",
      "       'filial_descricao_AFYASP', 'filial_descricao_IPEMED',\n",
      "       'filial_descricao_MEDCELEDITORAEEVENTOSSA', 'filial_descricao_PEBMED',\n",
      "       'VP_descricao_AUDITORIAINTERNA', 'VP_descricao_CEO',\n",
      "       'VP_descricao_DIRETORIAJURIDICOECOMPLIANCE',\n",
      "       'VP_descricao_VICEPRESIDENCIADEGENTEGESTAOESERVICOS',\n",
      "       'VP_descricao_VICEPRESIDENCIADEINOVACAOESERVDIGITAIS',\n",
      "       'VP_descricao_VICEPRESIDENCIADEINOVACAOETECNOLOGIA',\n",
      "       'VP_descricao_VICEPRESIDENCIADEMARKETING',\n",
      "       'VP_descricao_VICEPRESIDENCIADEMERCADO',\n",
      "       'VP_descricao_VICEPRESIDENCIADEOPERACOES',\n",
      "       'VP_descricao_VICEPRESIDENCIADESERVICOSDIGITAIS',\n",
      "       'VP_descricao_VICEPRESIDENCIAFINANCEIRA', 'tipo_filial_DIGITAL',\n",
      "       'tipo_filial_EDUCON', 'tipo_filial_HOLDING'],\n",
      "      dtype='object')\n",
      "(1030, 38)\n",
      "(1030,)\n",
      "idade                                                  0\n",
      "genero                                                 0\n",
      "ord_faixa_tempo_casa                                   0\n",
      "ord_faixa_etaria                                       0\n",
      "escolaridade_classificao                               0\n",
      "salario                                                0\n",
      "cotapcd                                                0\n",
      "tempo_de_casa                                          0\n",
      "codsecao_gerencia_contagion                            0\n",
      "codsecao_gerencia_proportion_contagion                 0\n",
      "funcao_descricao_clean_contagion                       0\n",
      "funcao_descricao_clean_proportion_contagion            0\n",
      "engineer_promotion_indexes                             0\n",
      "engineer_merit_indexes                                 0\n",
      "corraca_descricao_Amarela                              0\n",
      "corraca_descricao_Branca                               0\n",
      "corraca_descricao_Indgena                              0\n",
      "corraca_descricao_Parda                                0\n",
      "corraca_descricao_Preta                                0\n",
      "filial_descricao_AFYA                                  0\n",
      "filial_descricao_AFYASP                                0\n",
      "filial_descricao_IPEMED                                0\n",
      "filial_descricao_MEDCELEDITORAEEVENTOSSA               0\n",
      "filial_descricao_PEBMED                                0\n",
      "VP_descricao_AUDITORIAINTERNA                          0\n",
      "VP_descricao_CEO                                       0\n",
      "VP_descricao_DIRETORIAJURIDICOECOMPLIANCE              0\n",
      "VP_descricao_VICEPRESIDENCIADEGENTEGESTAOESERVICOS     0\n",
      "VP_descricao_VICEPRESIDENCIADEINOVACAOESERVDIGITAIS    0\n",
      "VP_descricao_VICEPRESIDENCIADEINOVACAOETECNOLOGIA      0\n",
      "VP_descricao_VICEPRESIDENCIADEMARKETING                0\n",
      "VP_descricao_VICEPRESIDENCIADEMERCADO                  0\n",
      "VP_descricao_VICEPRESIDENCIADEOPERACOES                0\n",
      "VP_descricao_VICEPRESIDENCIADESERVICOSDIGITAIS         0\n",
      "VP_descricao_VICEPRESIDENCIAFINANCEIRA                 0\n",
      "tipo_filial_DIGITAL                                    0\n",
      "tipo_filial_EDUCON                                     0\n",
      "tipo_filial_HOLDING                                    0\n",
      "dtype: int64\n"
     ]
    }
   ],
   "source": [
    "print(df_preprocess.columns)\n",
    "print(df_preprocess.shape)\n",
    "print(y_trat.shape)\n",
    "#print(pd.cut(df_trat_drop.salario, [0,5000,10000,15000,20000]).value_counts()/df_trat_drop.shape[0])\n",
    "print(df_preprocess.isnull().sum())\n",
    "\n",
    "duration = 1000  # milliseconds\n",
    "freq = 440  # Hz\n",
    "winsound.Beep(freq, duration)\n"
   ]
  },
  {
   "cell_type": "code",
   "execution_count": null,
   "id": "aaa7714d-cf10-458a-af19-a0cb814ff01f",
   "metadata": {
    "canvas": {
     "comments": [],
     "componentType": "CodeCell",
     "copiedOriginId": null,
     "diskcache": false,
     "headerColor": "inherit",
     "id": "9df4131d-be46-4d7a-92c7-efdeb3211dc6",
     "isComponent": false,
     "name": "",
     "parents": []
    }
   },
   "outputs": [],
   "source": [
    "df_preprocess.columns"
   ]
  },
  {
   "cell_type": "code",
   "execution_count": 42,
   "id": "53cab566-272a-4e53-a721-57fda1a68f05",
   "metadata": {
    "canvas": {
     "comments": [],
     "componentType": "CodeCell",
     "copiedOriginId": null,
     "diskcache": false,
     "headerColor": "#FAFF00",
     "id": "719aa0e4-d5ec-44f6-a6c2-79117c96874e",
     "isComponent": true,
     "name": "Scaling fit",
     "parents": [
      {
       "id": "11d639e9-9f16-4840-9ca2-932561027791",
       "name": "Features selected and save"
      }
     ]
    },
    "tags": []
   },
   "outputs": [],
   "source": [
    "Scaler = MinMaxScaler((0,1))\n",
    "Scaler.fit(df_preprocess[feature_final])\n",
    "dump(Scaler, open('Scaler.pkl', 'wb'))"
   ]
  },
  {
   "cell_type": "code",
   "execution_count": null,
   "id": "36b4be8f-b02e-4130-95bf-201a206350dd",
   "metadata": {
    "canvas": {
     "comments": [],
     "componentType": "CodeCell",
     "copiedOriginId": null,
     "diskcache": false,
     "headerColor": "inherit",
     "id": "590a45d6-397a-4bb8-9351-c0bf299c598d",
     "isComponent": false,
     "name": "",
     "parents": []
    }
   },
   "outputs": [],
   "source": [
    "df_eng.loc[df_eng.filial_descricao.str.contains('IPEMED'), 'filial_descricao'] = 'IPEMED'\n",
    "\n",
    "df_eng.filial_descricao.unique()"
   ]
  },
  {
   "cell_type": "code",
   "execution_count": null,
   "id": "e13a076c-7a0d-4b35-b5a2-270b147ad1e6",
   "metadata": {
    "canvas": {
     "comments": [],
     "componentType": "CodeCell",
     "copiedOriginId": null,
     "diskcache": false,
     "headerColor": "inherit",
     "id": "962749c9-3724-4721-b0a4-a46d74b20aba",
     "isComponent": false,
     "name": "",
     "parents": []
    }
   },
   "outputs": [],
   "source": [
    "df_eng.filial_descricao.unique()"
   ]
  },
  {
   "cell_type": "code",
   "execution_count": null,
   "id": "9cb5e23d-1dde-486d-bcdb-34701629fca9",
   "metadata": {
    "canvas": {
     "comments": [],
     "componentType": "CodeCell",
     "copiedOriginId": null,
     "diskcache": false,
     "headerColor": "inherit",
     "id": "a7324ce3-3533-4319-82d0-3360324d7249",
     "isComponent": true,
     "name": "Hashing High Cardinality test",
     "parents": [
      {
       "id": "2c4a93db-e6d0-47c0-87ec-4a71151ad0e7",
       "name": "Train test"
      }
     ]
    },
    "tags": []
   },
   "outputs": [],
   "source": [
    "from sklearn.feature_extraction import FeatureHasher\n",
    "\n",
    "def useful_metrics(X_df, y_df, model, threshold=0.5):\n",
    "    evaluation = {}\n",
    "    \n",
    "    results = model.predict_proba(X_df)[:,-1]>threshold\n",
    "\n",
    "    base_metrics = [\n",
    "                metrics.f1_score,\n",
    "                metrics.recall_score,\n",
    "                metrics.precision_score,\n",
    "                metrics.brier_score_loss]\n",
    "\n",
    "    for metric in base_metrics:\n",
    "            \n",
    "        if metric.__name__ == 'brier_score_loss':\n",
    "        \n",
    "            evaluation[metric.__name__] = round(metric(y_df, model.predict_proba(X_df)[:,-1]),2)\n",
    "        \n",
    "        else:\n",
    "            \n",
    "            evaluation[metric.__name__] = round(metric(y_df, results, zero_division=0),2)\n",
    "\n",
    "    return pd.DataFrame(evaluation, index=[0])\n",
    "\n",
    "\n",
    "\n",
    "\n",
    "\n",
    "def feature_hashing_optimum(col_name, final_number_of_columns = 0):\n",
    "    \n",
    "    from tqdm.notebook import tqdm\n",
    "    \n",
    "    scores = pd.DataFrame()\n",
    "    \n",
    "    if final_number_of_columns == 0:\n",
    "\n",
    "        for i in tqdm(range(3,20)):\n",
    "\n",
    "            n_features = i\n",
    "\n",
    "            hashf = FeatureHasher(n_features=n_features,  input_type='string')\n",
    "\n",
    "            cols = ['Test_'+str(i) for i in range(n_features)]\n",
    "\n",
    "            train_hash = pd.DataFrame(hashf.fit_transform(df_trat[col_name]).toarray(), columns = cols )\n",
    "\n",
    "            test_hash = pd.DataFrame(hashf.transform(X_test[col_name]).toarray(), columns = cols)\n",
    "\n",
    "            model = XGBClassifier(use_label_encoder=False, verbosity=0)\n",
    "\n",
    "            model.fit(train_hash, y_trat)\n",
    "\n",
    "            score = useful_metrics(test_hash, y_test, model)\n",
    "\n",
    "            score['cols'] = i\n",
    "\n",
    "            scores = pd.concat([scores, score])\n",
    "\n",
    "        return scores\n",
    "\n",
    "    else:\n",
    "\n",
    "        hashf = FeatureHasher(n_features=final_number_of_columns,  input_type='string')\n",
    "        hashf.fit(df_trat[col_name])\n",
    "\n",
    "        return hashf\n",
    "\n"
   ]
  },
  {
   "cell_type": "code",
   "execution_count": null,
   "id": "eee64ea7-0484-43a7-acdb-5ece0448095b",
   "metadata": {
    "canvas": {
     "comments": [],
     "componentType": "CodeCell",
     "copiedOriginId": null,
     "diskcache": false,
     "headerColor": "inherit",
     "id": "5669ed67-1b77-4450-872b-1f553bc24b2e",
     "isComponent": true,
     "name": "Scores chart",
     "parents": [
      {
       "id": "a7324ce3-3533-4319-82d0-3360324d7249",
       "name": "Hashing High Cardinality test"
      }
     ]
    },
    "tags": []
   },
   "outputs": [],
   "source": [
    "final_score = feature_hashing_optimum('codsecao')\n",
    "final_score\n",
    "scores_trat = final_score.copy() \n",
    "scores_trat.index = scores_trat.cols\n",
    "scores_trat[['f1_score', 'recall_score', 'precision_score']].plot(figsize=(10, 6))"
   ]
  },
  {
   "cell_type": "code",
   "execution_count": null,
   "id": "7d8ae86b-ca36-4b69-abcf-2fb89ce3a0dc",
   "metadata": {
    "canvas": {
     "comments": [],
     "componentType": "CodeCell",
     "copiedOriginId": null,
     "diskcache": false,
     "headerColor": "inherit",
     "id": "62d0dfa4-99a4-48be-86e0-0e9f318271e2",
     "isComponent": false,
     "name": "",
     "parents": []
    }
   },
   "outputs": [],
   "source": [
    "df_trat.columns"
   ]
  },
  {
   "cell_type": "code",
   "execution_count": null,
   "id": "e94acaa6-978e-45c3-a726-081bbf153b8b",
   "metadata": {
    "canvas": {
     "comments": [],
     "componentType": "CodeCell",
     "copiedOriginId": null,
     "diskcache": false,
     "headerColor": "inherit",
     "id": "14d6be4b-11b8-41de-a586-024ccad375e4",
     "isComponent": true,
     "name": "Choose number of columns",
     "parents": [
      {
       "id": "5669ed67-1b77-4450-872b-1f553bc24b2e",
       "name": "Scores chart"
      }
     ]
    },
    "tags": []
   },
   "outputs": [],
   "source": [
    "scores_trat['score'] = scores_trat.cols*3 - scores_trat.f1_score*200\n",
    "\n",
    "scores_trat.sort_values('score')"
   ]
  },
  {
   "cell_type": "code",
   "execution_count": null,
   "id": "be70f026-2e82-4c4f-a690-9d63525d9ecb",
   "metadata": {
    "canvas": {
     "comments": [],
     "componentType": "CodeCell",
     "copiedOriginId": null,
     "diskcache": false,
     "headerColor": "inherit",
     "id": "0e56a607-10b4-4729-84c6-c6a3cf2cdc34",
     "isComponent": false,
     "name": "",
     "parents": []
    }
   },
   "outputs": [],
   "source": [
    "a = feature_hashing_optimum('codsecao', 11)"
   ]
  },
  {
   "cell_type": "code",
   "execution_count": null,
   "id": "31865e40-3cbb-4e19-8095-bfb747f1600b",
   "metadata": {
    "canvas": {
     "comments": [],
     "componentType": "CodeCell",
     "copiedOriginId": null,
     "diskcache": false,
     "headerColor": "inherit",
     "id": "52a87b1a-f4ef-4c87-9a15-944b983ea7d3",
     "isComponent": false,
     "name": "",
     "parents": []
    }
   },
   "outputs": [],
   "source": [
    "a.fit_transform(df_trat['codsecao']).toarray()"
   ]
  },
  {
   "cell_type": "code",
   "execution_count": null,
   "id": "39c17e00-cd58-4d89-8d29-8e00e642707c",
   "metadata": {
    "canvas": {
     "comments": [],
     "componentType": "CodeCell",
     "copiedOriginId": null,
     "diskcache": false,
     "headerColor": "inherit",
     "id": "d32a99ad-b5cd-493b-a45d-d1e94ee007b5",
     "isComponent": true,
     "name": "Dump hasher",
     "parents": [
      {
       "id": "a7324ce3-3533-4319-82d0-3360324d7249",
       "name": "Hashing High Cardinality test"
      }
     ]
    },
    "tags": []
   },
   "outputs": [],
   "source": [
    "dump(feature_hashing_optimum('codsecao', 11),\n",
    "     open('codsecao_hasher.pkl', 'wb'))"
   ]
  },
  {
   "cell_type": "code",
   "execution_count": null,
   "id": "59430098-f3cc-439a-a3a4-8f3e843a958e",
   "metadata": {
    "canvas": {
     "comments": [],
     "componentType": "CodeCell",
     "copiedOriginId": null,
     "diskcache": false,
     "headerColor": "inherit",
     "id": "33d1cc7f-6e09-44f3-a0a6-5fc0e9d1dbda",
     "isComponent": false,
     "name": "",
     "parents": []
    }
   },
   "outputs": [],
   "source": [
    "tt.columns"
   ]
  },
  {
   "cell_type": "code",
   "execution_count": null,
   "id": "d600fabe-bee0-4a61-bcd8-d04e635f6e35",
   "metadata": {
    "canvas": {
     "comments": [],
     "componentType": "CodeCell",
     "copiedOriginId": null,
     "diskcache": false,
     "headerColor": "inherit",
     "id": "66a0a9f2-25dd-41a0-a90a-5b36211e7cc1",
     "isComponent": false,
     "name": "",
     "parents": []
    }
   },
   "outputs": [],
   "source": [
    "def feature_hashing(df, col_name, hasher):\n",
    "\n",
    "    cols = [col_name+'_'+str(i) for i in range(hasher.get_params()['n_features'])]\n",
    "\n",
    "    return  pd.concat([df, pd.DataFrame(hasher.transform(df[col_name]).toarray(), columns = cols, index=df.index)], axis=1)"
   ]
  },
  {
   "cell_type": "code",
   "execution_count": null,
   "id": "cf03808a-1594-43a9-ac68-643726efe374",
   "metadata": {
    "canvas": {
     "comments": [],
     "componentType": "CodeCell",
     "copiedOriginId": null,
     "diskcache": false,
     "headerColor": "inherit",
     "id": "f6acf242-bdfa-4553-911e-fe799537effb",
     "isComponent": false,
     "name": "",
     "parents": []
    }
   },
   "outputs": [],
   "source": [
    "pd.DataFrame()"
   ]
  },
  {
   "cell_type": "code",
   "execution_count": null,
   "id": "5ccc2d94",
   "metadata": {
    "canvas": {
     "comments": [],
     "componentType": "CodeCell",
     "copiedOriginId": null,
     "diskcache": false,
     "headerColor": "none",
     "id": "a0a0ac22-58ae-4f9b-9106-fb48dce72a38",
     "isComponent": false,
     "name": "",
     "parents": []
    }
   },
   "outputs": [],
   "source": [
    "\n",
    "a = feature_hashing(df_trat, 'codsecao', hasher1)\n",
    "a"
   ]
  },
  {
   "cell_type": "code",
   "execution_count": 22,
   "id": "4ee2afe7-22dd-40f4-91cf-ea9680bcbc86",
   "metadata": {
    "canvas": {
     "comments": [],
     "componentType": "CodeCell",
     "copiedOriginId": null,
     "diskcache": false,
     "headerColor": "inherit",
     "id": "dc3a1beb-1805-4b81-b1a7-62b5786c7892",
     "isComponent": false,
     "name": "",
     "parents": []
    },
    "tags": []
   },
   "outputs": [],
   "source": [
    "Scaler = load(open('Scaler.pkl', 'rb'))\n",
    "feature_final = load(open('feature_selection.pkl', 'rb'))\n",
    "#feature_final = df_preprocess.columns.tolist()\n",
    "scaled_df = df_preprocess[feature_final]\n",
    "scaled_df = scale_dataset(df_preprocess, feature_final, Scaler)"
   ]
  },
  {
   "cell_type": "code",
   "execution_count": null,
   "id": "98f9d1d7-4db6-4a66-999c-2d4003be395f",
   "metadata": {
    "canvas": {
     "comments": [],
     "componentType": "CodeCell",
     "copiedOriginId": null,
     "diskcache": false,
     "headerColor": "inherit",
     "id": "d191f08e-5e37-4384-b761-f5ce8597035d",
     "isComponent": false,
     "name": "",
     "parents": []
    }
   },
   "outputs": [],
   "source": [
    "df_preprocess.columns"
   ]
  },
  {
   "cell_type": "code",
   "execution_count": null,
   "id": "bef3221e-f343-4cb8-bfaf-ca5fcab46df9",
   "metadata": {
    "canvas": {
     "comments": [],
     "componentType": "CodeCell",
     "copiedOriginId": null,
     "diskcache": false,
     "headerColor": "none",
     "id": "825318b2-890f-4cd9-984b-5d282130a117",
     "isComponent": true,
     "name": "Custom Tool analysis",
     "parents": [
      {
       "id": "501b8112-a010-4f1a-9bed-41508f2b1acb",
       "name": "Drop and Preprocess"
      }
     ]
    },
    "tags": []
   },
   "outputs": [],
   "source": [
    "df_preprocess_analysis = scaled_df.copy()\n",
    "df_preprocess_analysis['desligado'] = y_train\n",
    "\n",
    "aval = Custom_Tools.preprocess_afya(df_preprocess_analysis)\n",
    "\n",
    "cols = aval.col_missing()\n",
    "\n",
    "card = aval.cardinality()\n",
    "\n",
    "rws = aval.row_missing()"
   ]
  },
  {
   "cell_type": "code",
   "execution_count": null,
   "id": "0fa0872f-d3a3-403e-90b4-6692131c0494",
   "metadata": {
    "canvas": {
     "comments": [],
     "componentType": "CodeCell",
     "copiedOriginId": null,
     "diskcache": false,
     "headerColor": "none",
     "id": "04b793a6-4c8e-4598-828a-62fa4903b5bb",
     "isComponent": true,
     "name": "Row evaluation",
     "parents": [
      {
       "id": "825318b2-890f-4cd9-984b-5d282130a117",
       "name": "Custom Tool analysis"
      }
     ]
    },
    "tags": []
   },
   "outputs": [],
   "source": [
    "print(rws[rws > 0])"
   ]
  },
  {
   "cell_type": "code",
   "execution_count": null,
   "id": "d4a9f3e1-03a4-476a-a189-dfd05190b505",
   "metadata": {
    "canvas": {
     "comments": [],
     "componentType": "CodeCell",
     "copiedOriginId": null,
     "diskcache": false,
     "headerColor": "none",
     "id": "c649590d-5e04-47b6-8889-a0bd2901b1ba",
     "isComponent": true,
     "name": "Column evaluation",
     "parents": [
      {
       "id": "04b793a6-4c8e-4598-828a-62fa4903b5bb",
       "name": "Row evaluation"
      }
     ]
    },
    "tags": []
   },
   "outputs": [],
   "source": [
    "print(cols[cols > 0])"
   ]
  },
  {
   "cell_type": "code",
   "execution_count": null,
   "id": "2cb82114-65e5-4911-be0b-f4fc906e31e0",
   "metadata": {
    "canvas": {
     "comments": [],
     "componentType": "CodeCell",
     "copiedOriginId": null,
     "diskcache": false,
     "headerColor": "none",
     "id": "71d97441-9ca3-4f82-85ec-fd6b861e7abf",
     "isComponent": false,
     "name": "",
     "parents": []
    }
   },
   "outputs": [],
   "source": [
    "cols = df_preprocess_analysis.columns.tolist()"
   ]
  },
  {
   "cell_type": "code",
   "execution_count": null,
   "id": "43c35e6f-47a7-40f5-964a-43ef46fec5ba",
   "metadata": {
    "canvas": {
     "comments": [],
     "componentType": "CodeCell",
     "copiedOriginId": null,
     "diskcache": false,
     "headerColor": "none",
     "id": "1da59815-cace-45d8-af1d-73152da11c26",
     "isComponent": false,
     "name": "",
     "parents": []
    }
   },
   "outputs": [],
   "source": [
    "cols.remove('desligado')"
   ]
  },
  {
   "cell_type": "code",
   "execution_count": null,
   "id": "2020585d-6960-46ca-8e57-f0fd7a4ea2a5",
   "metadata": {
    "canvas": {
     "comments": [],
     "componentType": "CodeCell",
     "copiedOriginId": null,
     "diskcache": false,
     "headerColor": "none",
     "id": "32f34cd9-0931-401f-a9d6-9a693ac009c7",
     "isComponent": false,
     "name": "",
     "parents": []
    },
    "tags": []
   },
   "outputs": [],
   "source": [
    "aval.distribution(cols, 'desligado')"
   ]
  },
  {
   "cell_type": "markdown",
   "id": "4b1bb84f-ecbf-4c6b-b56e-35053e980aa1",
   "metadata": {
    "canvas": {
     "comments": [],
     "componentType": "CodeCell",
     "copiedOriginId": null,
     "diskcache": false,
     "headerColor": "none",
     "id": "f357bed5-2762-4366-8780-ea2ee65a36c5",
     "isComponent": false,
     "name": "",
     "parents": []
    }
   },
   "source": [
    "# Feature Selection"
   ]
  },
  {
   "cell_type": "code",
   "execution_count": null,
   "id": "58ac2990-8b03-4516-8037-bd971a33c056",
   "metadata": {
    "canvas": {
     "comments": [],
     "componentType": "CodeCell",
     "copiedOriginId": null,
     "diskcache": false,
     "headerColor": "none",
     "id": "fe377f68-53d0-49a6-9ba2-75dc995540a6",
     "isComponent": false,
     "name": "",
     "parents": []
    }
   },
   "outputs": [],
   "source": []
  },
  {
   "cell_type": "code",
   "execution_count": null,
   "id": "01938789-bf2a-41ad-a475-6ac880dc1c90",
   "metadata": {
    "canvas": {
     "comments": [],
     "componentType": "CodeCell",
     "copiedOriginId": null,
     "diskcache": false,
     "headerColor": "none",
     "id": "1d823b21-d279-4e1e-892a-20660260bbbb",
     "isComponent": false,
     "name": "",
     "parents": []
    }
   },
   "outputs": [],
   "source": [
    "y_trat.shape"
   ]
  },
  {
   "cell_type": "code",
   "execution_count": 13,
   "id": "fdb2f0c3-34cb-48a6-a7a9-5744f4afc47e",
   "metadata": {
    "canvas": {
     "comments": [],
     "componentType": "CodeCell",
     "copiedOriginId": null,
     "diskcache": false,
     "headerColor": "inherit",
     "id": "53ae2420-6e0d-4fe6-8016-7eef6928de3a",
     "isComponent": false,
     "name": "",
     "parents": []
    }
   },
   "outputs": [
    {
     "data": {
      "text/plain": [
       "932      0.000000e+00\n",
       "993     2.781342e-310\n",
       "732     5.006416e-310\n",
       "148      0.000000e+00\n",
       "968      0.000000e+00\n",
       "            ...      \n",
       "1142    3.893879e-310\n",
       "624      0.000000e+00\n",
       "674      0.000000e+00\n",
       "495      0.000000e+00\n",
       "575      0.000000e+00\n",
       "Name: funcao_descricao_clean_proportion_contagion, Length: 1030, dtype: float64"
      ]
     },
     "execution_count": 13,
     "metadata": {},
     "output_type": "execute_result"
    }
   ],
   "source": [
    "df_preprocess.iloc[:,11]"
   ]
  },
  {
   "cell_type": "code",
   "execution_count": 11,
   "id": "6d3d3f2c-84ff-4b88-9a30-ee7331085de7",
   "metadata": {
    "canvas": {
     "comments": [],
     "componentType": "CodeCell",
     "copiedOriginId": null,
     "diskcache": false,
     "headerColor": "inherit",
     "id": "71269304-ddf9-4591-a4d0-c45357dfb043",
     "isComponent": true,
     "name": "Feature Selection run",
     "parents": [
      {
       "id": "501b8112-a010-4f1a-9bed-41508f2b1acb",
       "name": "Drop and Preprocess"
      }
     ]
    },
    "tags": []
   },
   "outputs": [
    {
     "data": {
      "application/vnd.jupyter.widget-view+json": {
       "model_id": "c61ecfbc5ce447cd827560e47e2fcd15",
       "version_major": 2,
       "version_minor": 0
      },
      "text/plain": [
       "  0%|          | 0/500 [00:00<?, ?it/s]"
      ]
     },
     "metadata": {},
     "output_type": "display_data"
    }
   ],
   "source": [
    "feature_check = [x for x in df_preprocess.columns]\n",
    "algorithms = [chi2, f_classif, mutual_info_classif]\n",
    "selection = Custom_Tools.feature_selection(df_preprocess[feature_check], y_trat, algorithms, 500)\n"
   ]
  },
  {
   "cell_type": "code",
   "execution_count": 13,
   "id": "be08dc34-e359-4793-853f-1cba68b28b87",
   "metadata": {
    "canvas": {
     "comments": [],
     "componentType": "CodeCell",
     "copiedOriginId": null,
     "diskcache": false,
     "headerColor": "none",
     "id": "682bc2af-bc55-4ab6-b54e-6fe993e32e8f",
     "isComponent": true,
     "name": "Feature Selection results",
     "parents": [
      {
       "id": "71269304-ddf9-4591-a4d0-c45357dfb043",
       "name": "Feature Selection run"
      }
     ]
    },
    "tags": []
   },
   "outputs": [
    {
     "data": {
      "text/plain": [
       "Columns\n",
       "codsecao_gerencia_contagion                            1500\n",
       "tempo_de_casa                                          1500\n",
       "codsecao_gerencia_proportion_contagion                 1500\n",
       "ord_faixa_tempo_casa                                   1500\n",
       "VP_descricao_VICEPRESIDENCIADEMERCADO                  1355\n",
       "funcao_descricao_clean_contagion                       1226\n",
       "idade                                                  1202\n",
       "filial_descricao_MEDCELEDITORAEEVENTOSSA               1060\n",
       "VP_descricao_VICEPRESIDENCIADEINOVACAOETECNOLOGIA      1056\n",
       "engineer_promotion_indexes                             1000\n",
       "engineer_merit_indexes                                 1000\n",
       "salario                                                 979\n",
       "ord_faixa_etaria                                        573\n",
       "genero                                                  563\n",
       "filial_descricao_AFYA                                   558\n",
       "funcao_descricao_clean_proportion_contagion             499\n",
       "VP_descricao_VICEPRESIDENCIADEOPERACOES                  55\n",
       "corraca_descricao_Indgena                                54\n",
       "tipo_filial_DIGITAL                                      54\n",
       "VP_descricao_VICEPRESIDENCIAFINANCEIRA                   49\n",
       "corraca_descricao_Preta                                  49\n",
       "escolaridade_classificao                                 49\n",
       "VP_descricao_VICEPRESIDENCIADEINOVACAOESERVDIGITAIS      46\n",
       "tipo_filial_HOLDING                                      44\n",
       "VP_descricao_VICEPRESIDENCIADESERVICOSDIGITAIS           43\n",
       "corraca_descricao_Parda                                  42\n",
       "VP_descricao_VICEPRESIDENCIADEGENTEGESTAOESERVICOS       41\n",
       "filial_descricao_IPEMED                                  40\n",
       "filial_descricao_PEBMED                                  40\n",
       "corraca_descricao_Branca                                 40\n",
       "cotapcd                                                  38\n",
       "corraca_descricao_Amarela                                38\n",
       "tipo_filial_EDUCON                                       37\n",
       "filial_descricao_AFYASP                                  36\n",
       "VP_descricao_CEO                                         36\n",
       "VP_descricao_VICEPRESIDENCIADEMARKETING                  34\n",
       "VP_descricao_DIRETORIAJURIDICOECOMPLIANCE                32\n",
       "VP_descricao_AUDITORIAINTERNA                            32\n",
       "Name: Total_points, dtype: int64"
      ]
     },
     "execution_count": 13,
     "metadata": {},
     "output_type": "execute_result"
    }
   ],
   "source": [
    "features = selection.columns.tolist()\n",
    "features.remove('Total_points')\n",
    "Kbest_eval = selection.groupby('Columns').sum()['Total_points'].sort_values(ascending=False) # noqa E501\n",
    "Kbest_eval"
   ]
  },
  {
   "cell_type": "code",
   "execution_count": 15,
   "id": "c8ae115b-84e2-4078-aacb-77bf0eaf6704",
   "metadata": {
    "canvas": {
     "comments": [],
     "componentType": "CodeCell",
     "copiedOriginId": null,
     "diskcache": false,
     "headerColor": "inherit",
     "id": "1104da9c-538f-466e-8ff4-7ec4154c050e",
     "isComponent": false,
     "name": "",
     "parents": []
    }
   },
   "outputs": [
    {
     "data": {
      "text/plain": [
       "['codsecao_gerencia_contagion',\n",
       " 'tempo_de_casa',\n",
       " 'codsecao_gerencia_proportion_contagion',\n",
       " 'ord_faixa_tempo_casa',\n",
       " 'VP_descricao_VICEPRESIDENCIADEMERCADO',\n",
       " 'funcao_descricao_clean_contagion',\n",
       " 'idade',\n",
       " 'filial_descricao_MEDCELEDITORAEEVENTOSSA',\n",
       " 'VP_descricao_VICEPRESIDENCIADEINOVACAOETECNOLOGIA',\n",
       " 'engineer_promotion_indexes',\n",
       " 'engineer_merit_indexes',\n",
       " 'salario',\n",
       " 'ord_faixa_etaria',\n",
       " 'genero',\n",
       " 'filial_descricao_AFYA',\n",
       " 'funcao_descricao_clean_proportion_contagion']"
      ]
     },
     "execution_count": 15,
     "metadata": {},
     "output_type": "execute_result"
    }
   ],
   "source": [
    "Kbest_eval[(Kbest_eval/Kbest_eval[0])>0.3].index.tolist()"
   ]
  },
  {
   "cell_type": "code",
   "execution_count": 81,
   "id": "a9a0a679-dbc4-4b4b-8a07-88e369eba9e0",
   "metadata": {
    "canvas": {
     "comments": [],
     "componentType": "CodeCell",
     "copiedOriginId": null,
     "diskcache": false,
     "headerColor": "none",
     "id": "11d639e9-9f16-4840-9ca2-932561027791",
     "isComponent": true,
     "name": "Features selected and save",
     "parents": [
      {
       "id": "501b8112-a010-4f1a-9bed-41508f2b1acb",
       "name": "Drop and Preprocess"
      }
     ]
    },
    "tags": []
   },
   "outputs": [],
   "source": [
    "# Tempo de casa redundante com ord_faixa_tempo_casa\n",
    "feature_final = ['tipo_filial_DIGITAL', 'filial_descricao_AFYA',\n",
    "       'genero',\n",
    "       'engineer_merit_indexes',\n",
    "       'codsecao_gerencia_contagion',\n",
    "       'salario', 'funcao_descricao_clean_contagion',\n",
    "       'tempo_de_casa', 'engineer_promotion_indexes']\n",
    "\n",
    "#feature_final = df_preprocess.columns\n",
    "\n",
    "dump(feature_final, open('feature_selection.pkl', 'wb'))"
   ]
  },
  {
   "cell_type": "code",
   "execution_count": 42,
   "id": "60d60310-3c4b-48e3-a515-7640519d0e43",
   "metadata": {
    "canvas": {
     "comments": [],
     "componentType": "CodeCell",
     "copiedOriginId": null,
     "diskcache": true,
     "headerColor": "none",
     "id": "68316262-8a81-4e81-8305-99a17550bfcc",
     "isComponent": true,
     "name": "Scaling transform",
     "parents": [
      {
       "id": "501b8112-a010-4f1a-9bed-41508f2b1acb",
       "name": "Drop and Preprocess"
      }
     ]
    },
    "tags": []
   },
   "outputs": [],
   "source": [
    "Scaler = load(open('Scaler.pkl', 'rb'))\n",
    "feature_final = load(open('feature_selection.pkl', 'rb'))\n",
    "#feature_final = df_preprocess.columns.tolist()\n",
    "scaled_df = df_preprocess[feature_final].copy()\n",
    "scaled_df = scale_dataset(df_preprocess, feature_final, None)\n",
    "\n",
    "\n",
    "# Comment if feature selection was used\n",
    "# dump(feature_final, open('feature_selection.pkl', 'wb'))\n",
    "\n",
    "X_train_final = scaled_df[feature_final].copy()"
   ]
  },
  {
   "cell_type": "code",
   "execution_count": 96,
   "id": "de285aec-1eeb-40dd-ba68-ecf80d11afa2",
   "metadata": {
    "canvas": {
     "comments": [],
     "componentType": "CodeCell",
     "copiedOriginId": null,
     "diskcache": false,
     "headerColor": "inherit",
     "id": "a64980d3-525f-4ab5-bb2b-af17041f4cbd",
     "isComponent": false,
     "name": "",
     "parents": []
    }
   },
   "outputs": [
    {
     "data": {
      "text/plain": [
       "Index(['idade', 'genero', 'ord_faixa_tempo_casa', 'ord_faixa_etaria',\n",
       "       'escolaridade_classificao', 'salario', 'cotapcd', 'tempo_de_casa',\n",
       "       'codsecao_gerencia_contagion', 'codsecao_gerencia_proportion_contagion',\n",
       "       'funcao_descricao_clean_contagion',\n",
       "       'funcao_descricao_clean_proportion_contagion',\n",
       "       'engineer_promotion_indexes', 'engineer_merit_indexes',\n",
       "       'corraca_descricao_Amarela', 'corraca_descricao_Branca',\n",
       "       'corraca_descricao_Indgena', 'corraca_descricao_Parda',\n",
       "       'corraca_descricao_Preta', 'filial_descricao_AFYA',\n",
       "       'filial_descricao_AFYASP', 'filial_descricao_IPEMED',\n",
       "       'filial_descricao_MEDCELEDITORAEEVENTOSSA', 'filial_descricao_PEBMED',\n",
       "       'VP_descricao_AUDITORIAINTERNA', 'VP_descricao_CEO',\n",
       "       'VP_descricao_DIRETORIAJURIDICOECOMPLIANCE',\n",
       "       'VP_descricao_VICEPRESIDENCIADEGENTEGESTAOESERVICOS',\n",
       "       'VP_descricao_VICEPRESIDENCIADEINOVACAOESERVDIGITAIS',\n",
       "       'VP_descricao_VICEPRESIDENCIADEINOVACAOETECNOLOGIA',\n",
       "       'VP_descricao_VICEPRESIDENCIADEMARKETING',\n",
       "       'VP_descricao_VICEPRESIDENCIADEMERCADO',\n",
       "       'VP_descricao_VICEPRESIDENCIADEOPERACOES',\n",
       "       'VP_descricao_VICEPRESIDENCIADESERVICOSDIGITAIS',\n",
       "       'VP_descricao_VICEPRESIDENCIAFINANCEIRA', 'tipo_filial_DIGITAL',\n",
       "       'tipo_filial_EDUCON', 'tipo_filial_HOLDING'],\n",
       "      dtype='object')"
      ]
     },
     "execution_count": 96,
     "metadata": {},
     "output_type": "execute_result"
    }
   ],
   "source": [
    "feature_final"
   ]
  },
  {
   "cell_type": "code",
   "execution_count": null,
   "id": "8806d1c9-b260-4867-bc88-b823c58988f8",
   "metadata": {
    "canvas": {
     "comments": [],
     "componentType": "CodeCell",
     "copiedOriginId": null,
     "diskcache": false,
     "headerColor": "none",
     "id": "616712eb-bc91-4af4-9b97-9bf57d3df147",
     "isComponent": true,
     "name": "Models init overfit eval",
     "parents": [
      {
       "id": "68316262-8a81-4e81-8305-99a17550bfcc",
       "name": "Scaling transform"
      }
     ]
    },
    "tags": []
   },
   "outputs": [],
   "source": [
    "lr = LogisticRegression(max_iter=10000)\n",
    "lgbm = LGBMClassifier()\n",
    "gnb = GaussianNB()\n",
    "\n",
    "\n",
    "models = {'Logistic Regression': lr,\n",
    "          'LGBM': lgbm,\n",
    "          'Gaussian NB': gnb,\n",
    "          'Random Forest | Default': RandomForestClassifier()}\n",
    "\n",
    "for a in range(5, 3, -1):\n",
    "    models['Random Forest - Max_depth:'+str(a)] = RandomForestClassifier(max_depth=a) # noqa E501\n"
   ]
  },
  {
   "cell_type": "code",
   "execution_count": null,
   "id": "16693039-5283-41aa-97b7-5ecba87b43ed",
   "metadata": {
    "canvas": {
     "comments": [],
     "componentType": "CodeCell",
     "copiedOriginId": null,
     "diskcache": false,
     "headerColor": "none",
     "id": "debb4de3-4dc3-47f9-bc4a-2fdc9b774ed4",
     "isComponent": true,
     "name": "One model test",
     "parents": [
      {
       "id": "68316262-8a81-4e81-8305-99a17550bfcc",
       "name": "Scaling transform"
      }
     ]
    },
    "tags": []
   },
   "outputs": [],
   "source": [
    "models_1 = {'Random Forest - Default': RandomForestClassifier()}"
   ]
  },
  {
   "cell_type": "code",
   "execution_count": null,
   "id": "6d500ba1-87fb-4f20-a9ce-b911a1ca6787",
   "metadata": {
    "canvas": {
     "comments": [],
     "componentType": "CodeCell",
     "copiedOriginId": null,
     "diskcache": false,
     "headerColor": "none",
     "id": "ef1548bb-523d-4e9d-bb0b-5e25c8f4bbeb",
     "isComponent": true,
     "name": "Test results",
     "parents": [
      {
       "id": "debb4de3-4dc3-47f9-bc4a-2fdc9b774ed4",
       "name": "One model test"
      }
     ]
    },
    "tags": []
   },
   "outputs": [],
   "source": [
    "test = Custom_Tools.overfit(X_train_final, y_trat, models_1, None, None)\n",
    "test_results = test.overfit(metrics.f1_score)\n",
    "test_results"
   ]
  },
  {
   "cell_type": "code",
   "execution_count": null,
   "id": "bb0aca77-2dc0-4d70-8a76-23dcb69bd615",
   "metadata": {
    "canvas": {
     "comments": [],
     "componentType": "CodeCell",
     "copiedOriginId": null,
     "diskcache": false,
     "headerColor": "none",
     "id": "b2b08397-d1fa-49bb-b121-6d2fbd86f821",
     "isComponent": true,
     "name": "Test results chart",
     "parents": [
      {
       "id": "ef1548bb-523d-4e9d-bb0b-5e25c8f4bbeb",
       "name": "Test results"
      }
     ]
    },
    "tags": []
   },
   "outputs": [],
   "source": [
    "fig = px.line(test_results, x=\"Sample\", y=\"f1_score\", color=\"Dataset\", facet_col=\"Model\", facet_col_wrap=4, height=500, range_y=[0,1]) # noqa E501\n",
    "fig.show()"
   ]
  },
  {
   "cell_type": "code",
   "execution_count": 26,
   "id": "3fe0989a-a872-4504-bb8f-c39b75cec68e",
   "metadata": {
    "canvas": {
     "comments": [],
     "componentType": "CodeCell",
     "copiedOriginId": null,
     "diskcache": false,
     "headerColor": "inherit",
     "id": "dac101ac-b57e-445a-8101-b90e36ac28f7",
     "isComponent": true,
     "name": "All models run F1 score",
     "parents": [
      {
       "id": "616712eb-bc91-4af4-9b97-9bf57d3df147",
       "name": "Models init overfit eval"
      }
     ]
    },
    "tags": []
   },
   "outputs": [
    {
     "name": "stdout",
     "output_type": "stream",
     "text": [
      "\n",
      "Amount of sample fitted and predicted on train set: 144\n",
      "Amount of sample predicted on test set: 61\n",
      "Sample 20% generated \n",
      "\n",
      "Logistic Regression: 0 seconds\n",
      "LGBM: 0 seconds\n",
      "Gaussian NB: 0 seconds\n",
      "Random Forest | Default: 0 seconds\n",
      "Random Forest - Max_depth:5: 0 seconds\n",
      "Random Forest - Max_depth:4: 0 seconds\n",
      "\n",
      "Total sample training time: 0 seconds\n",
      "\n",
      "\n",
      "Amount of sample fitted and predicted on train set: 288\n",
      "Amount of sample predicted on test set: 123\n",
      "Sample 40% generated \n",
      "\n",
      "Logistic Regression: 0 seconds\n",
      "LGBM: 0 seconds\n",
      "Gaussian NB: 0 seconds\n",
      "Random Forest | Default: 0 seconds\n",
      "Random Forest - Max_depth:5: 0 seconds\n",
      "Random Forest - Max_depth:4: 0 seconds\n",
      "\n",
      "Total sample training time: 0 seconds\n",
      "\n",
      "\n",
      "Amount of sample fitted and predicted on train set: 432\n",
      "Amount of sample predicted on test set: 185\n",
      "Sample 60% generated \n",
      "\n",
      "Logistic Regression: 0 seconds\n",
      "LGBM: 0 seconds\n",
      "Gaussian NB: 0 seconds\n",
      "Random Forest | Default: 0 seconds\n",
      "Random Forest - Max_depth:5: 0 seconds\n",
      "Random Forest - Max_depth:4: 0 seconds\n",
      "\n",
      "Total sample training time: 0 seconds\n",
      "\n",
      "\n",
      "Amount of sample fitted and predicted on train set: 576\n",
      "Amount of sample predicted on test set: 247\n",
      "Sample 80% generated \n",
      "\n",
      "Logistic Regression: 0 seconds\n",
      "LGBM: 0 seconds\n",
      "Gaussian NB: 0 seconds\n",
      "Random Forest | Default: 0 seconds\n",
      "Random Forest - Max_depth:5: 0 seconds\n",
      "Random Forest - Max_depth:4: 0 seconds\n",
      "\n",
      "Total sample training time: 0 seconds\n",
      "\n",
      "\n",
      "Amount of sample fitted and predicted on train set: 721\n",
      "Amount of sample predicted on test set: 309\n",
      "Sample 100% generated \n",
      "\n",
      "Logistic Regression: 0 seconds\n",
      "LGBM: 0 seconds\n",
      "Gaussian NB: 0 seconds\n",
      "Random Forest | Default: 0 seconds\n",
      "Random Forest - Max_depth:5: 0 seconds\n",
      "Random Forest - Max_depth:4: 0 seconds\n",
      "\n",
      "Total sample training time: 0 seconds\n",
      "\n",
      "\n",
      "Total training time: 3 seconds\n",
      "\n",
      "\n",
      "Amount of sample fitted and predicted on train set: 144\n",
      "Amount of sample predicted on test set: 61\n",
      "Sample 20% generated \n",
      "\n",
      "Logistic Regression - ADASYN: 0 seconds\n",
      "LGBM - ADASYN: 0 seconds\n",
      "Gaussian NB - ADASYN: 0 seconds\n",
      "Random Forest | Default - ADASYN: 0 seconds\n",
      "Random Forest - Max_depth:5 - ADASYN: 0 seconds\n",
      "Random Forest - Max_depth:4 - ADASYN: 0 seconds\n",
      "\n",
      "Total sample training time: 0 seconds\n",
      "\n",
      "\n",
      "Amount of sample fitted and predicted on train set: 288\n",
      "Amount of sample predicted on test set: 123\n",
      "Sample 40% generated \n",
      "\n",
      "Logistic Regression - ADASYN: 0 seconds\n",
      "LGBM - ADASYN: 0 seconds\n",
      "Gaussian NB - ADASYN: 0 seconds\n",
      "Random Forest | Default - ADASYN: 0 seconds\n",
      "Random Forest - Max_depth:5 - ADASYN: 0 seconds\n",
      "Random Forest - Max_depth:4 - ADASYN: 0 seconds\n",
      "\n",
      "Total sample training time: 0 seconds\n",
      "\n",
      "\n",
      "Amount of sample fitted and predicted on train set: 432\n",
      "Amount of sample predicted on test set: 185\n",
      "Sample 60% generated \n",
      "\n",
      "Logistic Regression - ADASYN: 0 seconds\n",
      "LGBM - ADASYN: 0 seconds\n",
      "Gaussian NB - ADASYN: 0 seconds\n",
      "Random Forest | Default - ADASYN: 0 seconds\n",
      "Random Forest - Max_depth:5 - ADASYN: 0 seconds\n",
      "Random Forest - Max_depth:4 - ADASYN: 0 seconds\n",
      "\n",
      "Total sample training time: 0 seconds\n",
      "\n",
      "\n",
      "Amount of sample fitted and predicted on train set: 576\n",
      "Amount of sample predicted on test set: 247\n",
      "Sample 80% generated \n",
      "\n",
      "Logistic Regression - ADASYN: 0 seconds\n",
      "LGBM - ADASYN: 0 seconds\n",
      "Gaussian NB - ADASYN: 0 seconds\n",
      "Random Forest | Default - ADASYN: 0 seconds\n",
      "Random Forest - Max_depth:5 - ADASYN: 0 seconds\n",
      "Random Forest - Max_depth:4 - ADASYN: 0 seconds\n",
      "\n",
      "Total sample training time: 0 seconds\n",
      "\n",
      "\n",
      "Amount of sample fitted and predicted on train set: 721\n",
      "Amount of sample predicted on test set: 309\n",
      "Sample 100% generated \n",
      "\n",
      "Logistic Regression - ADASYN: 0 seconds\n",
      "LGBM - ADASYN: 0 seconds\n",
      "Gaussian NB - ADASYN: 0 seconds\n",
      "Random Forest | Default - ADASYN: 0 seconds\n",
      "Random Forest - Max_depth:5 - ADASYN: 0 seconds\n",
      "Random Forest - Max_depth:4 - ADASYN: 0 seconds\n",
      "\n",
      "Total sample training time: 0 seconds\n",
      "\n",
      "\n",
      "Total training time: 3 seconds\n",
      "\n"
     ]
    }
   ],
   "source": [
    "All_models_f1 = Custom_Tools.overfit(X_train_final, y_trat, models, None, None)\n",
    "All_models_results_f1 = All_models_f1.overfit(metrics.f1_score)\n",
    "All_models_f1 = Custom_Tools.overfit(X_train_final, y_trat, models, None, ADASYN(sampling_strategy= 1.0)) # noqa E501\n",
    "All_models_results_f1 = pd.concat([All_models_results_f1, All_models_f1.overfit(metrics.f1_score)]) # noqa E501"
   ]
  },
  {
   "cell_type": "code",
   "execution_count": 29,
   "id": "f6814abe-71c9-43f1-bfbb-240b1697955f",
   "metadata": {
    "canvas": {
     "comments": [],
     "componentType": "CodeCell",
     "copiedOriginId": null,
     "diskcache": false,
     "headerColor": "inherit",
     "id": "60fd0370-09a6-49e3-abdf-9c29067c6754",
     "isComponent": true,
     "name": "F1 Score",
     "parents": [
      {
       "id": "dac101ac-b57e-445a-8101-b90e36ac28f7",
       "name": "All models run F1 score"
      }
     ]
    },
    "tags": []
   },
   "outputs": [
    {
     "data": {
      "text/html": [
       "<div>\n",
       "<style scoped>\n",
       "    .dataframe tbody tr th:only-of-type {\n",
       "        vertical-align: middle;\n",
       "    }\n",
       "\n",
       "    .dataframe tbody tr th {\n",
       "        vertical-align: top;\n",
       "    }\n",
       "\n",
       "    .dataframe thead th {\n",
       "        text-align: right;\n",
       "    }\n",
       "</style>\n",
       "<table border=\"1\" class=\"dataframe\">\n",
       "  <thead>\n",
       "    <tr style=\"text-align: right;\">\n",
       "      <th>Dataset</th>\n",
       "      <th>Overfit</th>\n",
       "      <th>Test</th>\n",
       "    </tr>\n",
       "    <tr>\n",
       "      <th>Model</th>\n",
       "      <th></th>\n",
       "      <th></th>\n",
       "    </tr>\n",
       "  </thead>\n",
       "  <tbody>\n",
       "    <tr>\n",
       "      <th>Gaussian NB</th>\n",
       "      <td>0.093712</td>\n",
       "      <td>0.326360</td>\n",
       "    </tr>\n",
       "    <tr>\n",
       "      <th>Logistic Regression</th>\n",
       "      <td>0.130270</td>\n",
       "      <td>0.175050</td>\n",
       "    </tr>\n",
       "    <tr>\n",
       "      <th>Random Forest - Max_depth:5</th>\n",
       "      <td>0.137548</td>\n",
       "      <td>0.556435</td>\n",
       "    </tr>\n",
       "    <tr>\n",
       "      <th>Random Forest - Max_depth:4</th>\n",
       "      <td>0.142976</td>\n",
       "      <td>0.526247</td>\n",
       "    </tr>\n",
       "    <tr>\n",
       "      <th>Logistic Regression - ADASYN</th>\n",
       "      <td>0.346865</td>\n",
       "      <td>0.377680</td>\n",
       "    </tr>\n",
       "    <tr>\n",
       "      <th>Gaussian NB - ADASYN</th>\n",
       "      <td>0.354814</td>\n",
       "      <td>0.325404</td>\n",
       "    </tr>\n",
       "    <tr>\n",
       "      <th>Random Forest - Max_depth:4 - ADASYN</th>\n",
       "      <td>0.398969</td>\n",
       "      <td>0.478287</td>\n",
       "    </tr>\n",
       "    <tr>\n",
       "      <th>Random Forest - Max_depth:5 - ADASYN</th>\n",
       "      <td>0.426661</td>\n",
       "      <td>0.477932</td>\n",
       "    </tr>\n",
       "    <tr>\n",
       "      <th>Random Forest | Default</th>\n",
       "      <td>0.452410</td>\n",
       "      <td>0.547590</td>\n",
       "    </tr>\n",
       "    <tr>\n",
       "      <th>LGBM - ADASYN</th>\n",
       "      <td>0.537931</td>\n",
       "      <td>0.462069</td>\n",
       "    </tr>\n",
       "    <tr>\n",
       "      <th>Random Forest | Default - ADASYN</th>\n",
       "      <td>0.565556</td>\n",
       "      <td>0.434444</td>\n",
       "    </tr>\n",
       "    <tr>\n",
       "      <th>LGBM</th>\n",
       "      <td>0.565731</td>\n",
       "      <td>0.404640</td>\n",
       "    </tr>\n",
       "  </tbody>\n",
       "</table>\n",
       "</div>"
      ],
      "text/plain": [
       "Dataset                                Overfit      Test\n",
       "Model                                                   \n",
       "Gaussian NB                           0.093712  0.326360\n",
       "Logistic Regression                   0.130270  0.175050\n",
       "Random Forest - Max_depth:5           0.137548  0.556435\n",
       "Random Forest - Max_depth:4           0.142976  0.526247\n",
       "Logistic Regression - ADASYN          0.346865  0.377680\n",
       "Gaussian NB - ADASYN                  0.354814  0.325404\n",
       "Random Forest - Max_depth:4 - ADASYN  0.398969  0.478287\n",
       "Random Forest - Max_depth:5 - ADASYN  0.426661  0.477932\n",
       "Random Forest | Default               0.452410  0.547590\n",
       "LGBM - ADASYN                         0.537931  0.462069\n",
       "Random Forest | Default - ADASYN      0.565556  0.434444\n",
       "LGBM                                  0.565731  0.404640"
      ]
     },
     "execution_count": 29,
     "metadata": {},
     "output_type": "execute_result"
    }
   ],
   "source": [
    "pivot_f1 = All_models_results_f1.pivot(index=['Sample', 'Model'], columns='Dataset', values='f1_score') # noqa E501\n",
    "pivot_f1['Overfit'] = abs(pivot_f1['Test']-pivot_f1['Train'])\n",
    "pivot_f1 = pivot_f1.groupby(['Model'])[['Overfit', 'Test']].mean().sort_values(['Overfit']) # noqa E501\n",
    "pivot_f1[pivot_f1.Test > 0]"
   ]
  },
  {
   "cell_type": "code",
   "execution_count": null,
   "id": "b01292e7-8a7e-4c9a-a5a9-672c35720f8c",
   "metadata": {
    "canvas": {
     "comments": [],
     "componentType": "CodeCell",
     "copiedOriginId": null,
     "diskcache": false,
     "headerColor": "inherit",
     "id": "1119e28a-1d6f-4bb5-b243-be1a37bafa68",
     "isComponent": false,
     "name": "",
     "parents": []
    }
   },
   "outputs": [],
   "source": [
    "All_models_recall = Custom_Tools.overfit(X_train_final, y_trat, models, None, None) # noqa E501\n",
    "All_models_results_recall = All_models_recall.overfit(metrics.recall_score)\n",
    "All_models_recall = Custom_Tools.overfit(X_train_final, y_trat, models, None, ADASYN(sampling_strategy= 1.0)) # noqa E501\n",
    "All_models_results_recall = pd.concat([All_models_results_recall, All_models_recall.overfit(metrics.recall_score)]) # noqa E501"
   ]
  },
  {
   "cell_type": "code",
   "execution_count": null,
   "id": "d125dc7b-2083-4987-8840-1401d1401a5b",
   "metadata": {
    "canvas": {
     "comments": [],
     "componentType": "CodeCell",
     "copiedOriginId": null,
     "diskcache": false,
     "headerColor": "inherit",
     "id": "3b7b5c94-c5c8-4e8a-b3bd-44ba9599ffe4",
     "isComponent": true,
     "name": "All models run recall score",
     "parents": [
      {
       "id": "dac101ac-b57e-445a-8101-b90e36ac28f7",
       "name": "All models run F1 score"
      }
     ]
    },
    "tags": []
   },
   "outputs": [],
   "source": [
    "All_models_recall = Custom_Tools.overfit(X_train_final, y_trat, models, None, None) # noqa E501\n",
    "All_models_results_recall = All_models_recall.overfit(metrics.recall_score)\n",
    "All_models_recall = Custom_Tools.overfit(X_train_final, y_trat, models, None, ADASYN(sampling_strategy= 1.0)) # noqa E501\n",
    "All_models_results_recall = pd.concat([All_models_results_recall, All_models_recall.overfit(metrics.recall_score)]) # noqa E501"
   ]
  },
  {
   "cell_type": "code",
   "execution_count": null,
   "id": "a9356e73-66f3-40b6-8312-32c23036d551",
   "metadata": {
    "canvas": {
     "comments": [],
     "componentType": "CodeCell",
     "copiedOriginId": null,
     "diskcache": false,
     "headerColor": "inherit",
     "id": "ccc11b2b-9de9-48b0-83f2-e68c8c091fbf",
     "isComponent": true,
     "name": "Recall score",
     "parents": [
      {
       "id": "3b7b5c94-c5c8-4e8a-b3bd-44ba9599ffe4",
       "name": "All models run recall score"
      }
     ]
    },
    "tags": []
   },
   "outputs": [],
   "source": [
    "pivot_recall = All_models_results_recall.pivot(index=['Sample', 'Model'], columns='Dataset', values='recall_score') # noqa E501\n",
    "pivot_recall['Overfit'] = abs(pivot_recall['Test']-pivot_recall['Train'])\n",
    "pivot_recall = pivot_recall.groupby('Model')['Overfit', 'Test'].mean().sort_values('Overfit') # noqa E501\n",
    "pivot_recall[pivot_recall.Test > 0]"
   ]
  },
  {
   "cell_type": "code",
   "execution_count": null,
   "id": "3918e8d3-f55b-420e-928b-5f2fa2ba140b",
   "metadata": {
    "canvas": {
     "comments": [],
     "componentType": "CodeCell",
     "copiedOriginId": null,
     "diskcache": false,
     "headerColor": "inherit",
     "id": "031c15a8-39ef-4fbe-8dfd-30eb5cc95288",
     "isComponent": true,
     "name": "All models run precision score",
     "parents": [
      {
       "id": "3b7b5c94-c5c8-4e8a-b3bd-44ba9599ffe4",
       "name": "All models run recall score"
      }
     ]
    },
    "tags": []
   },
   "outputs": [],
   "source": [
    "All_models_precision = Custom_Tools.overfit(X_train_final, y_trat, models, None, None) # noqa E501\n",
    "All_models_results_precision = All_models_precision.overfit(metrics.f1_score)\n",
    "All_models_precision = Custom_Tools.overfit(X_train_final, y_trat, models, None, ADASYN(sampling_strategy= 1.0)) # noqa E501\n",
    "All_models_results_precision = pd.concat([All_models_results_precision, All_models_precision.overfit(metrics.precision_score)]) # noqa E501\n"
   ]
  },
  {
   "cell_type": "code",
   "execution_count": null,
   "id": "4714fa8f-2578-4391-bc58-a5f132118fd7",
   "metadata": {
    "canvas": {
     "comments": [],
     "componentType": "CodeCell",
     "copiedOriginId": null,
     "diskcache": false,
     "headerColor": "inherit",
     "id": "2873ca00-5d55-4437-9f3d-1c723e51a070",
     "isComponent": true,
     "name": "Precision score",
     "parents": [
      {
       "id": "031c15a8-39ef-4fbe-8dfd-30eb5cc95288",
       "name": "All models run precision score"
      }
     ]
    },
    "tags": []
   },
   "outputs": [],
   "source": [
    "pivot_precision = All_models_results_precision.pivot(index=['Sample', 'Model'], columns='Dataset', values='precision_score') # noqa E501\n",
    "pivot_precision['Overfit'] = abs(pivot_precision['Test']-pivot_precision['Train'])\n",
    "pivot_precision = pivot_precision.groupby('Model')[['Overfit', 'Test']].mean().sort_values('Overfit') # noqa E501\n",
    "pivot_precision[pivot_precision.Test > 0]"
   ]
  },
  {
   "cell_type": "code",
   "execution_count": null,
   "id": "e06880b8-21c1-4239-8c25-748621549a34",
   "metadata": {
    "canvas": {
     "comments": [],
     "componentType": "CodeCell",
     "copiedOriginId": null,
     "diskcache": false,
     "headerColor": "inherit",
     "id": "3f3ebc60-249b-4113-948e-ce6e3f8a891e",
     "isComponent": false,
     "name": "",
     "parents": []
    },
    "tags": []
   },
   "outputs": [],
   "source": [
    "fig = px.line(All_models_results_f1, x=\"Sample\", y=\"f1_score\",color=\"Dataset\",facet_col=\"Model\",facet_col_wrap=4, height=2500,range_y=[0,1]) # noqa E501\n",
    "fig.show()"
   ]
  },
  {
   "cell_type": "code",
   "execution_count": 44,
   "id": "b03f424d-f98a-4068-9d88-4defd8c2a1f9",
   "metadata": {
    "canvas": {
     "comments": [],
     "componentType": "CodeCell",
     "copiedOriginId": null,
     "diskcache": true,
     "headerColor": "inherit",
     "id": "180c9593-1123-4208-aa33-b2bf9c86b1e8",
     "isComponent": true,
     "name": "Prepare X_test dataset",
     "parents": [
      {
       "id": "68316262-8a81-4e81-8305-99a17550bfcc",
       "name": "Scaling transform"
      },
      {
       "id": "2c4a93db-e6d0-47c0-87ec-4a71151ad0e7",
       "name": "Train test"
      }
     ]
    },
    "tags": []
   },
   "outputs": [],
   "source": [
    "X_test_final = final_transformation(X_test, feature_final, 0, None)"
   ]
  },
  {
   "cell_type": "code",
   "execution_count": 45,
   "id": "3ac756f6-fd99-466b-a3a8-cc7dc20fcc94",
   "metadata": {
    "canvas": {
     "comments": [],
     "componentType": "CodeCell",
     "copiedOriginId": null,
     "diskcache": false,
     "headerColor": "inherit",
     "id": "ed11713f-0689-4c22-8af1-bbb8c5aee1ce",
     "isComponent": false,
     "name": "",
     "parents": []
    }
   },
   "outputs": [
    {
     "data": {
      "text/plain": [
       "Index(['tipo_filial_DIGITAL', 'VP_descricao_VICEPRESIDENCIADESERVICOSDIGITAIS',\n",
       "       'filial_descricao_AFYA', 'VP_descricao_VICEPRESIDENCIADEMERCADO',\n",
       "       'genero', 'VP_descricao_VICEPRESIDENCIADEINOVACAOESERVDIGITAIS',\n",
       "       'engineer_merit_indexes', 'codsecao_gerencia_contagion', 'salario',\n",
       "       'funcao_descricao_clean_contagion', 'tempo_de_casa',\n",
       "       'engineer_promotion_indexes'],\n",
       "      dtype='object')"
      ]
     },
     "execution_count": 45,
     "metadata": {},
     "output_type": "execute_result"
    }
   ],
   "source": [
    "X_test_final.columns"
   ]
  },
  {
   "cell_type": "code",
   "execution_count": null,
   "id": "38187ee2-42d0-457e-ab30-2ec04f8a3970",
   "metadata": {
    "canvas": {
     "comments": [],
     "componentType": "CodeCell",
     "copiedOriginId": null,
     "diskcache": true,
     "headerColor": "inherit",
     "id": "bdd387d9-c775-4d8e-9f80-bac1575a1ef0",
     "isComponent": true,
     "name": "Wrap up final datasets",
     "parents": [
      {
       "id": "180c9593-1123-4208-aa33-b2bf9c86b1e8",
       "name": "Prepare X_test dataset"
      }
     ]
    },
    "tags": []
   },
   "outputs": [],
   "source": [
    "X_train_final, y_train_final = X_train_final, y_trat"
   ]
  },
  {
   "cell_type": "code",
   "execution_count": null,
   "id": "f3f4ccfb-2295-41c7-b4eb-1bb1e5adb64c",
   "metadata": {
    "canvas": {
     "comments": [],
     "componentType": "CodeCell",
     "copiedOriginId": null,
     "diskcache": false,
     "headerColor": "inherit",
     "id": "c969afb6-beca-462c-994b-3711f45b9725",
     "isComponent": true,
     "name": "Check shapes",
     "parents": [
      {
       "id": "bdd387d9-c775-4d8e-9f80-bac1575a1ef0",
       "name": "Wrap up final datasets"
      }
     ]
    },
    "tags": []
   },
   "outputs": [],
   "source": [
    "print(X_train_final.shape)\n",
    "print(y_train_final.shape)\n",
    "print(X_test_final.shape)\n",
    "print(y_test.shape)"
   ]
  },
  {
   "cell_type": "code",
   "execution_count": null,
   "id": "45dd0021-251b-425e-93f3-47515a942c54",
   "metadata": {
    "canvas": {
     "comments": [],
     "componentType": "CodeCell",
     "copiedOriginId": null,
     "diskcache": true,
     "headerColor": "inherit",
     "id": "16da288a-1d46-4d2f-96e9-b9e59c5505f3",
     "isComponent": true,
     "name": "Metrics function",
     "parents": [
      {
       "id": "bdd387d9-c775-4d8e-9f80-bac1575a1ef0",
       "name": "Wrap up final datasets"
      }
     ]
    },
    "tags": []
   },
   "outputs": [],
   "source": [
    "def useful_metrics(X_df, y_df, model, threshold=0.5):\n",
    "    evaluation = {}\n",
    "    \n",
    "    results = model.predict_proba(X_df)[:,-1]>threshold\n",
    "\n",
    "    base_metrics = [\n",
    "                metrics.f1_score,\n",
    "                metrics.recall_score,\n",
    "                metrics.precision_score,\n",
    "                metrics.brier_score_loss]\n",
    "\n",
    "    for metric in base_metrics:\n",
    "            \n",
    "        if metric.__name__ == 'brier_score_loss':\n",
    "        \n",
    "            evaluation[metric.__name__] = round(metric(y_df, model.predict_proba(X_df)[:,-1]),2)\n",
    "        \n",
    "        else:\n",
    "            \n",
    "            evaluation[metric.__name__] = round(metric(y_df, results, zero_division=0),2)\n",
    "\n",
    "    return pd.DataFrame(evaluation, index=[0])"
   ]
  },
  {
   "cell_type": "code",
   "execution_count": 28,
   "id": "97cf6f68-bdc2-40f6-9221-faee728c7071",
   "metadata": {
    "canvas": {
     "comments": [],
     "componentType": "CodeCell",
     "copiedOriginId": null,
     "diskcache": false,
     "headerColor": "inherit",
     "id": "10188aaf-83cc-4fcb-afe3-d7520346a34a",
     "isComponent": true,
     "name": "Chosen model baseline",
     "parents": [
      {
       "id": "16da288a-1d46-4d2f-96e9-b9e59c5505f3",
       "name": "Metrics function"
      }
     ]
    },
    "tags": []
   },
   "outputs": [
    {
     "name": "stdout",
     "output_type": "stream",
     "text": [
      "GaussianNB\n",
      "   f1_score  recall_score  precision_score  brier_score_loss\n",
      "0      0.45          0.42             0.48              0.15\n",
      "CatBoostClassifier\n",
      "   f1_score  recall_score  precision_score  brier_score_loss\n",
      "0      0.47          0.35             0.73              0.09\n",
      "XGBClassifier\n",
      "   f1_score  recall_score  precision_score  brier_score_loss\n",
      "0      0.54          0.46             0.64               0.1\n",
      "LogisticRegression\n",
      "   f1_score  recall_score  precision_score  brier_score_loss\n",
      "0       0.3           0.2             0.61              0.11\n"
     ]
    }
   ],
   "source": [
    "gnb = GaussianNB()\n",
    "\n",
    "cat = CatBoostClassifier(silent=True)\n",
    "\n",
    "xgb = XGBClassifier(use_label_encoder=False, verbosity=0)\n",
    "\n",
    "lr = LogisticRegression()\n",
    "\n",
    "models = [gnb, cat, xgb, lr]\n",
    "\n",
    "for model in models:\n",
    "\n",
    "    print(model.__class__.__name__)\n",
    "\n",
    "    model.fit(X_train_final, y_train_final)\n",
    "\n",
    "    print(useful_metrics(X_test_final[X_train_final.columns.tolist()],\n",
    "                         y_test, model))\n"
   ]
  },
  {
   "cell_type": "code",
   "execution_count": null,
   "id": "51db22ae-8f8e-438f-8de8-3bd86f855fb2",
   "metadata": {
    "canvas": {
     "comments": [],
     "componentType": "CodeCell",
     "copiedOriginId": null,
     "diskcache": false,
     "headerColor": "inherit",
     "id": "7acf7ed6-5d99-48f5-a277-cd9973b9a2a6",
     "isComponent": false,
     "name": "",
     "parents": []
    }
   },
   "outputs": [],
   "source": [
    "xgb.a"
   ]
  },
  {
   "cell_type": "code",
   "execution_count": null,
   "id": "fa1f3062-bec9-4049-86bb-e298c0644459",
   "metadata": {
    "canvas": {
     "comments": [],
     "componentType": "CodeCell",
     "copiedOriginId": null,
     "diskcache": false,
     "headerColor": "inherit",
     "id": "6df8c49c-0056-46e7-92f7-abc1b172b73e",
     "isComponent": false,
     "name": "",
     "parents": []
    }
   },
   "outputs": [],
   "source": [
    "X_optuna.shape"
   ]
  },
  {
   "cell_type": "code",
   "execution_count": null,
   "id": "6d3e02ac-7e16-4041-82d4-401c9377b868",
   "metadata": {
    "canvas": {
     "comments": [],
     "componentType": "CodeCell",
     "copiedOriginId": null,
     "diskcache": true,
     "headerColor": "inherit",
     "id": "a878d86e-3707-49be-bb85-3a5c0cbe3972",
     "isComponent": true,
     "name": "Optuna dataset",
     "parents": [
      {
       "id": "16da288a-1d46-4d2f-96e9-b9e59c5505f3",
       "name": "Metrics function"
      }
     ]
    },
    "tags": []
   },
   "outputs": [],
   "source": [
    "X_optuna = pd.concat([X_train_final, X_test_final])\n",
    "y_optuna = pd.concat([y_train_final, y_test])"
   ]
  },
  {
   "cell_type": "code",
   "execution_count": null,
   "id": "94411012-e2e7-4804-8ad4-056d5e8f0abf",
   "metadata": {
    "canvas": {
     "comments": [],
     "componentType": "CodeCell",
     "copiedOriginId": null,
     "diskcache": false,
     "headerColor": "inherit",
     "id": "d5742407-e18a-4185-a945-f5ac11dcb854",
     "isComponent": true,
     "name": "Optuna function Gaussian",
     "parents": [
      {
       "id": "a878d86e-3707-49be-bb85-3a5c0cbe3972",
       "name": "Optuna dataset"
      }
     ]
    },
    "tags": []
   },
   "outputs": [],
   "source": [
    "\n",
    "sequence = [ ]\n",
    "for i in range(-9, 1):\n",
    "    sequence.append(10**i)\n",
    "\n",
    "def objective_gnb(trial):\n",
    "\n",
    "    skf = StratifiedKFold(n_splits=5)\n",
    "    \n",
    "    model_grid = {\n",
    "        'var_smoothing': trial.suggest_categorical('var_smoothing', sequence)\n",
    "    }\n",
    "    \n",
    "\n",
    "    param_grid = {\n",
    "    'threshold': trial.suggest_float('threshold',0.2,1.0,step=0.01)\n",
    "    }\n",
    "\n",
    "    model = GaussianNB(**model_grid)\n",
    "\n",
    "    F_evaluation = pd.DataFrame()\n",
    "\n",
    "\n",
    "    for train_index, test_index in skf.split(X_optuna, y_optuna):\n",
    "        X_train, y_train = X_optuna.iloc[train_index], y_optuna.iloc[train_index]\n",
    "        X_test, y_test = X_optuna.iloc[test_index], y_optuna.iloc[test_index]\n",
    "\n",
    "        model.fit(X_train, y_train)\n",
    "        \n",
    "        evaluation = useful_metrics(X_test, y_test, model, **param_grid)\n",
    "\n",
    "        F_evaluation = pd.concat([F_evaluation,evaluation])\n",
    "\n",
    "    return(F_evaluation.f1_score.mean(), F_evaluation.precision_score.mean(),F_evaluation.recall_score.mean(),F_evaluation.brier_score_loss.mean())"
   ]
  },
  {
   "cell_type": "code",
   "execution_count": null,
   "id": "dfca367c-af21-4e25-a732-9c0077091a37",
   "metadata": {
    "canvas": {
     "comments": [],
     "componentType": "CodeCell",
     "copiedOriginId": null,
     "diskcache": false,
     "headerColor": "inherit",
     "id": "4c1c6b7a-df84-4315-87d9-7f5cf80bf175",
     "isComponent": true,
     "name": "Optuna function LR",
     "parents": [
      {
       "id": "a878d86e-3707-49be-bb85-3a5c0cbe3972",
       "name": "Optuna dataset"
      }
     ]
    },
    "tags": []
   },
   "outputs": [],
   "source": [
    "def objective_lr(trial):\n",
    "\n",
    "    skf = StratifiedKFold(n_splits=5)\n",
    "    \n",
    "    model_grid = {\n",
    "        'max_iter':10000\n",
    "    }\n",
    "    \n",
    "    oversample_grid = {\n",
    "        'sampling_strategy': trial.suggest_float('sampling_strategy',0.5,1.0,step=0.01)\n",
    "    }\n",
    "    \n",
    "\n",
    "    param_grid = {\n",
    "    'threshold': trial.suggest_float('threshold',0.2,1.0,step=0.01)\n",
    "    }\n",
    "\n",
    "    model = LogisticRegression(**model_grid)\n",
    "\n",
    "    F_evaluation = pd.DataFrame()\n",
    "    \n",
    "    over_under = ADASYN(**oversample_grid)\n",
    "\n",
    "\n",
    "    for train_index, test_index in skf.split(X_optuna, y_optuna):\n",
    "        X_train, y_train = X_optuna.iloc[train_index], y_optuna.iloc[train_index]\n",
    "        X_test, y_test = X_optuna.iloc[test_index], y_optuna.iloc[test_index]\n",
    "        \n",
    "        X_train, y_train = over_under.fit_resample(X_train, y_train)\n",
    "\n",
    "        model.fit(X_train, y_train)\n",
    "        \n",
    "        evaluation = useful_metrics(X_test, y_test, model, **param_grid)\n",
    "\n",
    "        F_evaluation = pd.concat([F_evaluation,evaluation])\n",
    "\n",
    "    return(F_evaluation.f1_score.mean(), F_evaluation.precision_score.mean(),F_evaluation.recall_score.mean(),F_evaluation.brier_score_loss.mean())"
   ]
  },
  {
   "cell_type": "code",
   "execution_count": null,
   "id": "b186ba60-e7ef-483d-8771-110fb2a7f53f",
   "metadata": {
    "canvas": {
     "comments": [],
     "componentType": "CodeCell",
     "copiedOriginId": null,
     "diskcache": false,
     "headerColor": "inherit",
     "id": "2ff29722-5176-486b-8ec0-7b138fbe2c05",
     "isComponent": true,
     "name": "Optuna Run LR",
     "parents": [
      {
       "id": "4c1c6b7a-df84-4315-87d9-7f5cf80bf175",
       "name": "Optuna function LR"
      }
     ]
    },
    "tags": []
   },
   "outputs": [],
   "source": [
    "study = optuna.create_study(directions=['maximize','maximize', 'maximize', 'minimize'])\n",
    "study.optimize(objective_lr, n_trials=100)"
   ]
  },
  {
   "cell_type": "code",
   "execution_count": null,
   "id": "fc59b144-2220-4956-885d-1e609793a6a1",
   "metadata": {
    "canvas": {
     "comments": [],
     "componentType": "CodeCell",
     "copiedOriginId": null,
     "diskcache": false,
     "headerColor": "inherit",
     "id": "88d3d4bc-b1c4-4988-bbf4-44be5ff37fc4",
     "isComponent": true,
     "name": "Optuna Results LR",
     "parents": [
      {
       "id": "2ff29722-5176-486b-8ec0-7b138fbe2c05",
       "name": "Optuna Run LR"
      }
     ]
    },
    "tags": []
   },
   "outputs": [],
   "source": [
    "metrics_name = ['F1','Precision','Recall','Brier']\n",
    "\n",
    "tries = pd.DataFrame()\n",
    "try_1 = {}\n",
    "for trial in study.best_trials:\n",
    "    \n",
    "    for metric, value in zip(metrics_name,trial.values):\n",
    "        \n",
    "        try_1[metric] = value\n",
    "        \n",
    "    try_1['Params'] = str(trial.params)\n",
    "    \n",
    "    tries = pd.concat([tries, pd.DataFrame(try_1, index=[0])], ignore_index=True)\n",
    "    \n",
    "    tries = tries[tries.Precision > 0]\n",
    "    \n",
    "tries.sort_values(['F1','Brier','Precision'], ascending= [False, True, False]).head(20)"
   ]
  },
  {
   "cell_type": "code",
   "execution_count": 64,
   "id": "ee44b8fb-c32b-4da6-bfbf-87b19ecfe457",
   "metadata": {
    "canvas": {
     "comments": [],
     "componentType": "CodeCell",
     "copiedOriginId": null,
     "diskcache": true,
     "headerColor": "inherit",
     "id": "8f560d16-8a82-4a85-821e-0a6dbf399eaf",
     "isComponent": true,
     "name": "Optuna function XGB",
     "parents": [
      {
       "id": "a878d86e-3707-49be-bb85-3a5c0cbe3972",
       "name": "Optuna dataset"
      }
     ]
    },
    "tags": []
   },
   "outputs": [],
   "source": [
    "def objective_xgb(trial):\n",
    "\n",
    "    skf = StratifiedKFold(n_splits=5)\n",
    "\n",
    "    model_grid = {\n",
    "        # Prevent Overfit\n",
    "        'max_depth': trial.suggest_int('max_depth', 3, 7, step=1),\n",
    "        'min_child_weight': trial.suggest_int('min_child_weight', 1, 7, step=1),\n",
    "        'gamma': trial.suggest_int('gamma', 0, 7, step=1),\n",
    "        # Imbalanced dataset\n",
    "        'max_delta_step': trial.suggest_int('max_delta_step', 0, 10, step=1)\n",
    "    }\n",
    "    '''\n",
    "    param_grid = {\n",
    "        'threshold': trial.suggest_float('threshold', 0.2, 1.0, step=0.01)\n",
    "    }'''\n",
    "    \n",
    "    param_grid = {'threshold':0.5}\n",
    "\n",
    "    model = XGBClassifier(use_label_encoder=False, verbosity=0, **model_grid)\n",
    "\n",
    "    F_evaluation = pd.DataFrame()\n",
    "\n",
    "    for train_index, test_index in skf.split(X_optuna, y_optuna):\n",
    "        X_train, y_train = X_optuna.iloc[train_index], y_optuna.iloc[train_index]\n",
    "        X_test, y_test = X_optuna.iloc[test_index], y_optuna.iloc[test_index]\n",
    "\n",
    "        model.fit(X_train, y_train)\n",
    "\n",
    "        evaluation = useful_metrics(X_test, y_test, model, **param_grid)\n",
    "\n",
    "        F_evaluation = pd.concat([F_evaluation, evaluation])\n",
    "\n",
    "    return(F_evaluation.f1_score.std(),\n",
    "           F_evaluation.f1_score.mean(), F_evaluation.precision_score.mean(),\n",
    "           F_evaluation.recall_score.mean(),\n",
    "           F_evaluation.brier_score_loss.mean())"
   ]
  },
  {
   "cell_type": "code",
   "execution_count": 126,
   "id": "c6258d00-ebdf-4e2d-bdd5-b84a5a4bc0a5",
   "metadata": {
    "canvas": {
     "comments": [],
     "componentType": "CodeCell",
     "copiedOriginId": null,
     "diskcache": true,
     "headerColor": "inherit",
     "id": "eff17d3c-b5ab-4ccc-8088-4f7673a9e4a0",
     "isComponent": true,
     "name": "Optuna Run XGB",
     "parents": [
      {
       "id": "8f560d16-8a82-4a85-821e-0a6dbf399eaf",
       "name": "Optuna function XGB"
      }
     ]
    },
    "tags": []
   },
   "outputs": [
    {
     "name": "stderr",
     "output_type": "stream",
     "text": [
      "\u001b[32m[I 2023-02-01 11:49:34,547]\u001b[0m A new study created in memory with name: no-name-0dcf2f9c-4ae5-45fd-b4bd-84cb7929cd64\u001b[0m\n",
      "\u001b[32m[I 2023-02-01 11:49:35,541]\u001b[0m Trial 0 finished with values: [0.047222875812470366, 0.594, 0.8859999999999999, 0.45, 0.084] and parameters: {'max_depth': 3, 'min_child_weight': 7, 'gamma': 6, 'max_delta_step': 3}. \u001b[0m\n",
      "\u001b[32m[I 2023-02-01 11:49:36,716]\u001b[0m Trial 1 finished with values: [0.03361547262794322, 0.604, 0.9719999999999999, 0.43599999999999994, 0.07800000000000001] and parameters: {'max_depth': 5, 'min_child_weight': 1, 'gamma': 6, 'max_delta_step': 9}. \u001b[0m\n",
      "\u001b[32m[I 2023-02-01 11:49:38,171]\u001b[0m Trial 2 finished with values: [0.04505552130427525, 0.584, 0.898, 0.43, 0.082] and parameters: {'max_depth': 7, 'min_child_weight': 5, 'gamma': 6, 'max_delta_step': 9}. \u001b[0m\n",
      "\u001b[32m[I 2023-02-01 11:49:39,472]\u001b[0m Trial 3 finished with values: [0.03577708763999663, 0.6060000000000001, 0.9339999999999999, 0.45, 0.082] and parameters: {'max_depth': 6, 'min_child_weight': 5, 'gamma': 4, 'max_delta_step': 5}. \u001b[0m\n",
      "\u001b[32m[I 2023-02-01 11:49:40,963]\u001b[0m Trial 4 finished with values: [0.02966479394838268, 0.6159999999999999, 0.9480000000000001, 0.454, 0.08] and parameters: {'max_depth': 7, 'min_child_weight': 4, 'gamma': 3, 'max_delta_step': 4}. \u001b[0m\n",
      "\u001b[32m[I 2023-02-01 11:49:42,429]\u001b[0m Trial 5 finished with values: [0.023021728866442697, 0.634, 0.876, 0.49800000000000005, 0.07800000000000001] and parameters: {'max_depth': 5, 'min_child_weight': 1, 'gamma': 0, 'max_delta_step': 6}. \u001b[0m\n",
      "\u001b[32m[I 2023-02-01 11:49:43,946]\u001b[0m Trial 6 finished with values: [0.031304951684997064, 0.5860000000000001, 0.9099999999999999, 0.43, 0.082] and parameters: {'max_depth': 7, 'min_child_weight': 6, 'gamma': 6, 'max_delta_step': 3}. \u001b[0m\n",
      "\u001b[32m[I 2023-02-01 11:49:45,194]\u001b[0m Trial 7 finished with values: [0.034928498393145935, 0.5879999999999999, 0.8640000000000001, 0.446, 0.08600000000000001] and parameters: {'max_depth': 4, 'min_child_weight': 7, 'gamma': 7, 'max_delta_step': 9}. \u001b[0m\n",
      "\u001b[32m[I 2023-02-01 11:49:46,640]\u001b[0m Trial 8 finished with values: [0.03361547262794325, 0.616, 0.868, 0.476, 0.08] and parameters: {'max_depth': 5, 'min_child_weight': 6, 'gamma': 0, 'max_delta_step': 0}. \u001b[0m\n",
      "\u001b[32m[I 2023-02-01 11:49:48,186]\u001b[0m Trial 9 finished with values: [0.02588435821108959, 0.622, 0.9119999999999999, 0.472, 0.082] and parameters: {'max_depth': 7, 'min_child_weight': 6, 'gamma': 2, 'max_delta_step': 6}. \u001b[0m\n",
      "\u001b[32m[I 2023-02-01 11:49:49,499]\u001b[0m Trial 10 finished with values: [0.04764451699828639, 0.592, 0.9359999999999999, 0.43, 0.082] and parameters: {'max_depth': 5, 'min_child_weight': 5, 'gamma': 6, 'max_delta_step': 7}. \u001b[0m\n",
      "\u001b[32m[I 2023-02-01 11:49:51,050]\u001b[0m Trial 11 finished with values: [0.027748873851023242, 0.602, 0.9800000000000001, 0.43, 0.07800000000000001] and parameters: {'max_depth': 6, 'min_child_weight': 1, 'gamma': 6, 'max_delta_step': 8}. \u001b[0m\n",
      "\u001b[32m[I 2023-02-01 11:49:52,294]\u001b[0m Trial 12 finished with values: [0.03768288736283353, 0.5780000000000001, 0.932, 0.418, 0.084] and parameters: {'max_depth': 3, 'min_child_weight': 5, 'gamma': 7, 'max_delta_step': 4}. \u001b[0m\n",
      "\u001b[32m[I 2023-02-01 11:49:53,791]\u001b[0m Trial 13 finished with values: [0.038340579025361664, 0.622, 0.8939999999999999, 0.47400000000000003, 0.078] and parameters: {'max_depth': 5, 'min_child_weight': 5, 'gamma': 1, 'max_delta_step': 2}. \u001b[0m\n",
      "\u001b[32m[I 2023-02-01 11:49:55,332]\u001b[0m Trial 14 finished with values: [0.031937438845342614, 0.6020000000000001, 0.8300000000000001, 0.47400000000000003, 0.08] and parameters: {'max_depth': 5, 'min_child_weight': 5, 'gamma': 0, 'max_delta_step': 9}. \u001b[0m\n",
      "\u001b[32m[I 2023-02-01 11:49:56,961]\u001b[0m Trial 15 finished with values: [0.04929503017546496, 0.604, 0.93, 0.446, 0.08] and parameters: {'max_depth': 7, 'min_child_weight': 2, 'gamma': 4, 'max_delta_step': 9}. \u001b[0m\n",
      "\u001b[32m[I 2023-02-01 11:49:58,291]\u001b[0m Trial 16 finished with values: [0.039623225512317936, 0.6020000000000001, 0.93, 0.442, 0.082] and parameters: {'max_depth': 5, 'min_child_weight': 6, 'gamma': 3, 'max_delta_step': 8}. \u001b[0m\n",
      "\u001b[32m[I 2023-02-01 11:49:59,610]\u001b[0m Trial 17 finished with values: [0.026076809620810618, 0.604, 0.9440000000000002, 0.43999999999999995, 0.08] and parameters: {'max_depth': 5, 'min_child_weight': 4, 'gamma': 2, 'max_delta_step': 1}. \u001b[0m\n",
      "\u001b[32m[I 2023-02-01 11:50:00,880]\u001b[0m Trial 18 finished with values: [0.025495097567963948, 0.62, 0.916, 0.46799999999999997, 0.07600000000000001] and parameters: {'max_depth': 4, 'min_child_weight': 4, 'gamma': 1, 'max_delta_step': 9}. \u001b[0m\n",
      "\u001b[32m[I 2023-02-01 11:50:02,274]\u001b[0m Trial 19 finished with values: [0.03911521443121588, 0.586, 0.9460000000000001, 0.422, 0.08] and parameters: {'max_depth': 5, 'min_child_weight': 4, 'gamma': 4, 'max_delta_step': 1}. \u001b[0m\n",
      "\u001b[32m[I 2023-02-01 11:50:03,676]\u001b[0m Trial 20 finished with values: [0.05540758070878026, 0.592, 0.9199999999999999, 0.43599999999999994, 0.082] and parameters: {'max_depth': 4, 'min_child_weight': 7, 'gamma': 5, 'max_delta_step': 7}. \u001b[0m\n",
      "\u001b[32m[I 2023-02-01 11:50:05,258]\u001b[0m Trial 21 finished with values: [0.05019960159204452, 0.6020000000000001, 0.9040000000000001, 0.45, 0.08] and parameters: {'max_depth': 7, 'min_child_weight': 6, 'gamma': 3, 'max_delta_step': 0}. \u001b[0m\n",
      "\u001b[32m[I 2023-02-01 11:50:06,569]\u001b[0m Trial 22 finished with values: [0.06348228099241551, 0.596, 0.89, 0.45, 0.084] and parameters: {'max_depth': 5, 'min_child_weight': 7, 'gamma': 6, 'max_delta_step': 8}. \u001b[0m\n",
      "\u001b[32m[I 2023-02-01 11:50:08,198]\u001b[0m Trial 23 finished with values: [0.0374165738677394, 0.5900000000000001, 0.9480000000000001, 0.426, 0.082] and parameters: {'max_depth': 7, 'min_child_weight': 4, 'gamma': 6, 'max_delta_step': 1}. \u001b[0m\n",
      "\u001b[32m[I 2023-02-01 11:50:09,686]\u001b[0m Trial 24 finished with values: [0.04658325879540844, 0.602, 0.9480000000000001, 0.43999999999999995, 0.082] and parameters: {'max_depth': 6, 'min_child_weight': 6, 'gamma': 4, 'max_delta_step': 2}. \u001b[0m\n",
      "\u001b[32m[I 2023-02-01 11:50:10,822]\u001b[0m Trial 25 finished with values: [0.03346640106136305, 0.6180000000000001, 0.908, 0.466, 0.078] and parameters: {'max_depth': 3, 'min_child_weight': 4, 'gamma': 0, 'max_delta_step': 8}. \u001b[0m\n",
      "\u001b[32m[I 2023-02-01 11:50:12,371]\u001b[0m Trial 26 finished with values: [0.02915475947422653, 0.63, 0.8640000000000001, 0.49800000000000005, 0.07600000000000001] and parameters: {'max_depth': 7, 'min_child_weight': 3, 'gamma': 0, 'max_delta_step': 7}. \u001b[0m\n",
      "\u001b[32m[I 2023-02-01 11:50:14,755]\u001b[0m Trial 27 finished with values: [0.034641016151377525, 0.5900000000000001, 1.0, 0.418, 0.082] and parameters: {'max_depth': 7, 'min_child_weight': 3, 'gamma': 7, 'max_delta_step': 10}. \u001b[0m\n",
      "\u001b[32m[I 2023-02-01 11:50:16,578]\u001b[0m Trial 28 finished with values: [0.04147288270665545, 0.608, 0.916, 0.454, 0.08] and parameters: {'max_depth': 7, 'min_child_weight': 3, 'gamma': 2, 'max_delta_step': 6}. \u001b[0m\n",
      "\u001b[32m[I 2023-02-01 11:50:17,823]\u001b[0m Trial 29 finished with values: [0.032710854467592254, 0.592, 0.9800000000000001, 0.422, 0.082] and parameters: {'max_depth': 4, 'min_child_weight': 4, 'gamma': 6, 'max_delta_step': 2}. \u001b[0m\n",
      "\u001b[32m[I 2023-02-01 11:50:19,161]\u001b[0m Trial 30 finished with values: [0.0363318042491699, 0.608, 0.8879999999999999, 0.462, 0.078] and parameters: {'max_depth': 5, 'min_child_weight': 7, 'gamma': 1, 'max_delta_step': 2}. \u001b[0m\n",
      "\u001b[32m[I 2023-02-01 11:50:20,563]\u001b[0m Trial 31 finished with values: [0.027928480087537906, 0.6159999999999999, 0.8460000000000001, 0.48600000000000004, 0.08] and parameters: {'max_depth': 5, 'min_child_weight': 7, 'gamma': 0, 'max_delta_step': 5}. \u001b[0m\n",
      "\u001b[32m[I 2023-02-01 11:50:21,722]\u001b[0m Trial 32 finished with values: [0.032710854467592254, 0.592, 0.9700000000000001, 0.422, 0.07800000000000001] and parameters: {'max_depth': 3, 'min_child_weight': 1, 'gamma': 5, 'max_delta_step': 4}. \u001b[0m\n",
      "\u001b[32m[I 2023-02-01 11:50:23,403]\u001b[0m Trial 33 finished with values: [0.034641016151377525, 0.5900000000000001, 0.944, 0.426, 0.082] and parameters: {'max_depth': 7, 'min_child_weight': 2, 'gamma': 7, 'max_delta_step': 0}. \u001b[0m\n",
      "\u001b[32m[I 2023-02-01 11:50:24,882]\u001b[0m Trial 34 finished with values: [0.035637059362410954, 0.608, 0.9400000000000001, 0.44799999999999995, 0.08] and parameters: {'max_depth': 5, 'min_child_weight': 4, 'gamma': 3, 'max_delta_step': 2}. \u001b[0m\n",
      "\u001b[32m[I 2023-02-01 11:50:26,979]\u001b[0m Trial 35 finished with values: [0.02345207879911717, 0.62, 0.836, 0.49399999999999994, 0.08] and parameters: {'max_depth': 7, 'min_child_weight': 4, 'gamma': 0, 'max_delta_step': 4}. \u001b[0m\n",
      "\u001b[32m[I 2023-02-01 11:50:28,905]\u001b[0m Trial 36 finished with values: [0.027748873851023242, 0.602, 0.9800000000000001, 0.43, 0.07800000000000001] and parameters: {'max_depth': 6, 'min_child_weight': 1, 'gamma': 6, 'max_delta_step': 10}. \u001b[0m\n",
      "\u001b[32m[I 2023-02-01 11:50:30,921]\u001b[0m Trial 37 finished with values: [0.030822070014844872, 0.6, 0.916, 0.44399999999999995, 0.08] and parameters: {'max_depth': 5, 'min_child_weight': 2, 'gamma': 4, 'max_delta_step': 0}. \u001b[0m\n",
      "\u001b[32m[I 2023-02-01 11:50:32,553]\u001b[0m Trial 38 finished with values: [0.02073644135332774, 0.636, 0.8560000000000001, 0.506, 0.07800000000000001] and parameters: {'max_depth': 4, 'min_child_weight': 2, 'gamma': 0, 'max_delta_step': 0}. \u001b[0m\n",
      "\u001b[32m[I 2023-02-01 11:50:34,215]\u001b[0m Trial 39 finished with values: [0.05029910535983718, 0.6140000000000001, 0.908, 0.462, 0.078] and parameters: {'max_depth': 4, 'min_child_weight': 7, 'gamma': 1, 'max_delta_step': 0}. \u001b[0m\n",
      "\u001b[32m[I 2023-02-01 11:50:36,010]\u001b[0m Trial 40 finished with values: [0.025495097567963948, 0.6, 0.9720000000000001, 0.43, 0.07800000000000001] and parameters: {'max_depth': 6, 'min_child_weight': 2, 'gamma': 6, 'max_delta_step': 7}. \u001b[0m\n",
      "\u001b[32m[I 2023-02-01 11:50:37,192]\u001b[0m Trial 41 finished with values: [0.05029910535983715, 0.604, 0.9259999999999999, 0.446, 0.084] and parameters: {'max_depth': 4, 'min_child_weight': 6, 'gamma': 3, 'max_delta_step': 2}. \u001b[0m\n",
      "\u001b[32m[I 2023-02-01 11:50:38,695]\u001b[0m Trial 42 finished with values: [0.02345207879911717, 0.62, 0.836, 0.49399999999999994, 0.08] and parameters: {'max_depth': 7, 'min_child_weight': 4, 'gamma': 0, 'max_delta_step': 5}. \u001b[0m\n",
      "\u001b[32m[I 2023-02-01 11:50:40,360]\u001b[0m Trial 43 finished with values: [0.034641016151377525, 0.5900000000000001, 0.9719999999999999, 0.422, 0.082] and parameters: {'max_depth': 6, 'min_child_weight': 4, 'gamma': 7, 'max_delta_step': 8}. \u001b[0m\n",
      "\u001b[32m[I 2023-02-01 11:50:41,911]\u001b[0m Trial 44 finished with values: [0.030495901363953838, 0.614, 0.9540000000000001, 0.45, 0.07800000000000001] and parameters: {'max_depth': 4, 'min_child_weight': 1, 'gamma': 3, 'max_delta_step': 10}. \u001b[0m\n",
      "\u001b[32m[I 2023-02-01 11:50:43,327]\u001b[0m Trial 45 finished with values: [0.03492849839314596, 0.5980000000000001, 1.0, 0.42800000000000005, 0.082] and parameters: {'max_depth': 3, 'min_child_weight': 1, 'gamma': 7, 'max_delta_step': 0}. \u001b[0m\n",
      "\u001b[32m[I 2023-02-01 11:50:44,645]\u001b[0m Trial 46 finished with values: [0.034928498393145935, 0.5879999999999999, 0.874, 0.446, 0.08600000000000001] and parameters: {'max_depth': 3, 'min_child_weight': 7, 'gamma': 7, 'max_delta_step': 0}. \u001b[0m\n",
      "\u001b[32m[I 2023-02-01 11:50:46,639]\u001b[0m Trial 47 finished with values: [0.05019960159204452, 0.6020000000000001, 0.9040000000000001, 0.45, 0.08] and parameters: {'max_depth': 7, 'min_child_weight': 6, 'gamma': 3, 'max_delta_step': 9}. \u001b[0m\n",
      "\u001b[32m[I 2023-02-01 11:50:47,743]\u001b[0m Trial 48 finished with values: [0.04301162633521312, 0.59, 0.9200000000000002, 0.43, 0.082] and parameters: {'max_depth': 3, 'min_child_weight': 6, 'gamma': 3, 'max_delta_step': 1}. \u001b[0m\n",
      "\u001b[32m[I 2023-02-01 11:50:49,424]\u001b[0m Trial 49 finished with values: [0.047222875812470394, 0.604, 0.8860000000000001, 0.458, 0.078] and parameters: {'max_depth': 7, 'min_child_weight': 1, 'gamma': 3, 'max_delta_step': 5}. \u001b[0m\n",
      "\u001b[32m[I 2023-02-01 11:50:50,781]\u001b[0m Trial 50 finished with values: [0.03, 0.5900000000000001, 0.9359999999999999, 0.43, 0.082] and parameters: {'max_depth': 5, 'min_child_weight': 6, 'gamma': 6, 'max_delta_step': 10}. \u001b[0m\n",
      "\u001b[32m[I 2023-02-01 11:50:52,492]\u001b[0m Trial 51 finished with values: [0.03420526275297417, 0.638, 0.8780000000000001, 0.502, 0.078] and parameters: {'max_depth': 7, 'min_child_weight': 4, 'gamma': 1, 'max_delta_step': 4}. \u001b[0m\n",
      "\u001b[32m[I 2023-02-01 11:50:53,883]\u001b[0m Trial 52 finished with values: [0.033166247903554026, 0.6100000000000001, 0.9800000000000001, 0.43999999999999995, 0.07800000000000001] and parameters: {'max_depth': 5, 'min_child_weight': 2, 'gamma': 5, 'max_delta_step': 0}. \u001b[0m\n",
      "\u001b[32m[I 2023-02-01 11:50:55,519]\u001b[0m Trial 53 finished with values: [0.03781534080237805, 0.594, 0.9380000000000001, 0.43, 0.082] and parameters: {'max_depth': 7, 'min_child_weight': 3, 'gamma': 6, 'max_delta_step': 6}. \u001b[0m\n",
      "\u001b[32m[I 2023-02-01 11:50:56,820]\u001b[0m Trial 54 finished with values: [0.04494441010848846, 0.5980000000000001, 0.9280000000000002, 0.43999999999999995, 0.084] and parameters: {'max_depth': 4, 'min_child_weight': 6, 'gamma': 5, 'max_delta_step': 7}. \u001b[0m\n",
      "\u001b[32m[I 2023-02-01 11:50:58,300]\u001b[0m Trial 55 finished with values: [0.025495097567963948, 0.6, 0.9720000000000001, 0.43, 0.07800000000000001] and parameters: {'max_depth': 6, 'min_child_weight': 2, 'gamma': 6, 'max_delta_step': 7}. \u001b[0m\n",
      "\u001b[32m[I 2023-02-01 11:50:59,676]\u001b[0m Trial 56 finished with values: [0.03271085446759228, 0.618, 0.9099999999999999, 0.46799999999999997, 0.078] and parameters: {'max_depth': 5, 'min_child_weight': 4, 'gamma': 1, 'max_delta_step': 2}. \u001b[0m\n",
      "\u001b[32m[I 2023-02-01 11:51:01,121]\u001b[0m Trial 57 finished with values: [0.057271284253105424, 0.6140000000000001, 0.892, 0.46799999999999997, 0.082] and parameters: {'max_depth': 5, 'min_child_weight': 7, 'gamma': 2, 'max_delta_step': 2}. \u001b[0m\n",
      "\u001b[32m[I 2023-02-01 11:51:02,619]\u001b[0m Trial 58 finished with values: [0.05049752469181044, 0.63, 0.826, 0.506, 0.08000000000000002] and parameters: {'max_depth': 5, 'min_child_weight': 2, 'gamma': 0, 'max_delta_step': 9}. \u001b[0m\n",
      "\u001b[32m[I 2023-02-01 11:51:04,254]\u001b[0m Trial 59 finished with values: [0.023021728866442697, 0.634, 0.876, 0.49800000000000005, 0.07800000000000001] and parameters: {'max_depth': 5, 'min_child_weight': 1, 'gamma': 0, 'max_delta_step': 3}. \u001b[0m\n",
      "\u001b[32m[I 2023-02-01 11:51:05,874]\u001b[0m Trial 60 finished with values: [0.03492849839314596, 0.5980000000000001, 0.96, 0.43599999999999994, 0.082] and parameters: {'max_depth': 7, 'min_child_weight': 4, 'gamma': 5, 'max_delta_step': 5}. \u001b[0m\n",
      "\u001b[32m[I 2023-02-01 11:51:07,453]\u001b[0m Trial 61 finished with values: [0.02345207879911717, 0.62, 0.836, 0.49399999999999994, 0.08] and parameters: {'max_depth': 7, 'min_child_weight': 4, 'gamma': 0, 'max_delta_step': 8}. \u001b[0m\n",
      "\u001b[32m[I 2023-02-01 11:51:09,117]\u001b[0m Trial 62 finished with values: [0.034641016151377525, 0.5900000000000001, 0.944, 0.426, 0.082] and parameters: {'max_depth': 7, 'min_child_weight': 2, 'gamma': 7, 'max_delta_step': 0}. \u001b[0m\n",
      "\u001b[32m[I 2023-02-01 11:51:10,713]\u001b[0m Trial 63 finished with values: [0.032863353450309996, 0.6140000000000001, 0.9800000000000001, 0.446, 0.08] and parameters: {'max_depth': 7, 'min_child_weight': 4, 'gamma': 4, 'max_delta_step': 0}. \u001b[0m\n",
      "\u001b[32m[I 2023-02-01 11:51:12,124]\u001b[0m Trial 64 finished with values: [0.03082207001484491, 0.61, 0.9640000000000001, 0.446, 0.07800000000000001] and parameters: {'max_depth': 4, 'min_child_weight': 2, 'gamma': 3, 'max_delta_step': 0}. \u001b[0m\n",
      "\u001b[32m[I 2023-02-01 11:51:13,778]\u001b[0m Trial 65 finished with values: [0.02966479394838268, 0.6159999999999999, 0.9480000000000001, 0.454, 0.08] and parameters: {'max_depth': 7, 'min_child_weight': 4, 'gamma': 3, 'max_delta_step': 0}. \u001b[0m\n",
      "\u001b[32m[I 2023-02-01 11:51:15,244]\u001b[0m Trial 66 finished with values: [0.03361547262794325, 0.616, 0.868, 0.476, 0.08] and parameters: {'max_depth': 5, 'min_child_weight': 6, 'gamma': 0, 'max_delta_step': 2}. \u001b[0m\n",
      "\u001b[32m[I 2023-02-01 11:51:16,640]\u001b[0m Trial 67 finished with values: [0.038340579025361664, 0.622, 0.8939999999999999, 0.47400000000000003, 0.078] and parameters: {'max_depth': 5, 'min_child_weight': 5, 'gamma': 1, 'max_delta_step': 2}. \u001b[0m\n",
      "\u001b[32m[I 2023-02-01 11:51:18,049]\u001b[0m Trial 68 finished with values: [0.03271085446759224, 0.642, 0.9339999999999999, 0.49000000000000005, 0.07600000000000001] and parameters: {'max_depth': 5, 'min_child_weight': 1, 'gamma': 1, 'max_delta_step': 4}. \u001b[0m\n",
      "\u001b[32m[I 2023-02-01 11:51:19,475]\u001b[0m Trial 69 finished with values: [0.029495762407505247, 0.592, 0.9179999999999999, 0.434, 0.082] and parameters: {'max_depth': 4, 'min_child_weight': 5, 'gamma': 4, 'max_delta_step': 7}. \u001b[0m\n",
      "\u001b[32m[I 2023-02-01 11:51:20,779]\u001b[0m Trial 70 finished with values: [0.04494441010848846, 0.5980000000000001, 0.9280000000000002, 0.43999999999999995, 0.084] and parameters: {'max_depth': 4, 'min_child_weight': 6, 'gamma': 5, 'max_delta_step': 2}. \u001b[0m\n",
      "\u001b[32m[I 2023-02-01 11:51:22,327]\u001b[0m Trial 71 finished with values: [0.049295030175464966, 0.606, 0.9199999999999999, 0.44799999999999995, 0.08] and parameters: {'max_depth': 6, 'min_child_weight': 1, 'gamma': 3, 'max_delta_step': 1}. \u001b[0m\n",
      "\u001b[32m[I 2023-02-01 11:51:23,504]\u001b[0m Trial 72 finished with values: [0.047222875812470366, 0.594, 0.8859999999999999, 0.45, 0.084] and parameters: {'max_depth': 3, 'min_child_weight': 7, 'gamma': 6, 'max_delta_step': 2}. \u001b[0m\n",
      "\u001b[32m[I 2023-02-01 11:51:25,055]\u001b[0m Trial 73 finished with values: [0.05540758070878026, 0.588, 0.874, 0.446, 0.084] and parameters: {'max_depth': 7, 'min_child_weight': 7, 'gamma': 6, 'max_delta_step': 10}. \u001b[0m\n",
      "\u001b[32m[I 2023-02-01 11:51:26,447]\u001b[0m Trial 74 finished with values: [0.0408656334834051, 0.588, 0.9460000000000001, 0.426, 0.082] and parameters: {'max_depth': 4, 'min_child_weight': 5, 'gamma': 6, 'max_delta_step': 0}. \u001b[0m\n",
      "\u001b[32m[I 2023-02-01 11:51:28,319]\u001b[0m Trial 75 finished with values: [0.04277849927241487, 0.604, 0.932, 0.446, 0.08] and parameters: {'max_depth': 7, 'min_child_weight': 6, 'gamma': 5, 'max_delta_step': 0}. \u001b[0m\n",
      "\u001b[32m[I 2023-02-01 11:51:30,323]\u001b[0m Trial 76 finished with values: [0.023021728866442694, 0.6060000000000001, 0.9640000000000001, 0.43999999999999995, 0.08] and parameters: {'max_depth': 6, 'min_child_weight': 4, 'gamma': 4, 'max_delta_step': 9}. \u001b[0m\n",
      "\u001b[32m[I 2023-02-01 11:51:31,530]\u001b[0m Trial 77 finished with values: [0.04024922359499623, 0.6020000000000001, 0.944, 0.43999999999999995, 0.08] and parameters: {'max_depth': 3, 'min_child_weight': 5, 'gamma': 3, 'max_delta_step': 3}. \u001b[0m\n",
      "\u001b[32m[I 2023-02-01 11:51:33,188]\u001b[0m Trial 78 finished with values: [0.054772255750516606, 0.6, 0.9120000000000001, 0.44399999999999995, 0.082] and parameters: {'max_depth': 7, 'min_child_weight': 7, 'gamma': 3, 'max_delta_step': 9}. \u001b[0m\n",
      "\u001b[32m[I 2023-02-01 11:51:34,880]\u001b[0m Trial 79 finished with values: [0.038340579025361664, 0.628, 0.892, 0.484, 0.078] and parameters: {'max_depth': 5, 'min_child_weight': 6, 'gamma': 1, 'max_delta_step': 8}. \u001b[0m\n",
      "\u001b[32m[I 2023-02-01 11:51:36,575]\u001b[0m Trial 80 finished with values: [0.03271085446759228, 0.642, 0.8939999999999999, 0.502, 0.07400000000000001] and parameters: {'max_depth': 4, 'min_child_weight': 1, 'gamma': 0, 'max_delta_step': 0}. \u001b[0m\n",
      "\u001b[32m[I 2023-02-01 11:51:38,953]\u001b[0m Trial 81 finished with values: [0.04505552130427525, 0.584, 0.898, 0.43, 0.082] and parameters: {'max_depth': 7, 'min_child_weight': 5, 'gamma': 6, 'max_delta_step': 8}. \u001b[0m\n",
      "\u001b[32m[I 2023-02-01 11:51:40,511]\u001b[0m Trial 82 finished with values: [0.031937438845342614, 0.6020000000000001, 0.8300000000000001, 0.47400000000000003, 0.08] and parameters: {'max_depth': 5, 'min_child_weight': 5, 'gamma': 0, 'max_delta_step': 9}. \u001b[0m\n",
      "\u001b[32m[I 2023-02-01 11:51:42,045]\u001b[0m Trial 83 finished with values: [0.02345207879911717, 0.62, 0.836, 0.49399999999999994, 0.08] and parameters: {'max_depth': 7, 'min_child_weight': 4, 'gamma': 0, 'max_delta_step': 4}. \u001b[0m\n",
      "\u001b[32m[I 2023-02-01 11:51:43,696]\u001b[0m Trial 84 finished with values: [0.05167204273105524, 0.592, 0.908, 0.43599999999999994, 0.08] and parameters: {'max_depth': 4, 'min_child_weight': 7, 'gamma': 3, 'max_delta_step': 0}. \u001b[0m\n",
      "\u001b[32m[I 2023-02-01 11:51:46,217]\u001b[0m Trial 85 finished with values: [0.025495097567963948, 0.62, 0.916, 0.46799999999999997, 0.07600000000000001] and parameters: {'max_depth': 4, 'min_child_weight': 4, 'gamma': 1, 'max_delta_step': 4}. \u001b[0m\n",
      "\u001b[32m[I 2023-02-01 11:51:48,834]\u001b[0m Trial 86 finished with values: [0.02345207879911717, 0.62, 0.836, 0.49399999999999994, 0.08] and parameters: {'max_depth': 7, 'min_child_weight': 4, 'gamma': 0, 'max_delta_step': 7}. \u001b[0m\n",
      "\u001b[32m[I 2023-02-01 11:51:51,498]\u001b[0m Trial 87 finished with values: [0.03701351104664353, 0.618, 0.9099999999999999, 0.46799999999999997, 0.07600000000000001] and parameters: {'max_depth': 7, 'min_child_weight': 1, 'gamma': 2, 'max_delta_step': 1}. \u001b[0m\n",
      "\u001b[32m[I 2023-02-01 11:51:54,034]\u001b[0m Trial 88 finished with values: [0.032710854467592254, 0.592, 0.9800000000000001, 0.422, 0.082] and parameters: {'max_depth': 5, 'min_child_weight': 3, 'gamma': 6, 'max_delta_step': 0}. \u001b[0m\n",
      "\u001b[32m[I 2023-02-01 11:51:55,633]\u001b[0m Trial 89 finished with values: [0.03701351104664347, 0.5880000000000001, 0.9199999999999999, 0.43, 0.082] and parameters: {'max_depth': 7, 'min_child_weight': 4, 'gamma': 6, 'max_delta_step': 6}. \u001b[0m\n",
      "\u001b[32m[I 2023-02-01 11:51:56,743]\u001b[0m Trial 90 finished with values: [0.025495097567963948, 0.64, 0.892, 0.49800000000000005, 0.07600000000000001] and parameters: {'max_depth': 3, 'min_child_weight': 1, 'gamma': 0, 'max_delta_step': 6}. \u001b[0m\n",
      "\u001b[32m[I 2023-02-01 11:51:57,928]\u001b[0m Trial 91 finished with values: [0.038078865529319515, 0.6, 0.924, 0.446, 0.08600000000000001] and parameters: {'max_depth': 4, 'min_child_weight': 6, 'gamma': 7, 'max_delta_step': 0}. \u001b[0m\n",
      "\u001b[32m[I 2023-02-01 11:51:59,551]\u001b[0m Trial 92 finished with values: [0.04159326868617083, 0.584, 0.876, 0.43999999999999995, 0.08600000000000001] and parameters: {'max_depth': 7, 'min_child_weight': 7, 'gamma': 5, 'max_delta_step': 5}. \u001b[0m\n",
      "\u001b[32m[I 2023-02-01 11:52:00,858]\u001b[0m Trial 93 finished with values: [0.032710854467592254, 0.592, 0.9800000000000001, 0.422, 0.082] and parameters: {'max_depth': 4, 'min_child_weight': 4, 'gamma': 6, 'max_delta_step': 6}. \u001b[0m\n",
      "\u001b[32m[I 2023-02-01 11:52:02,618]\u001b[0m Trial 94 finished with values: [0.029495762407505233, 0.608, 0.844, 0.47800000000000004, 0.078] and parameters: {'max_depth': 7, 'min_child_weight': 7, 'gamma': 0, 'max_delta_step': 5}. \u001b[0m\n",
      "\u001b[32m[I 2023-02-01 11:52:04,411]\u001b[0m Trial 95 finished with values: [0.031144823004794903, 0.618, 0.9560000000000001, 0.45199999999999996, 0.08] and parameters: {'max_depth': 6, 'min_child_weight': 4, 'gamma': 3, 'max_delta_step': 2}. \u001b[0m\n",
      "\u001b[32m[I 2023-02-01 11:52:05,886]\u001b[0m Trial 96 finished with values: [0.03768288736283353, 0.6220000000000001, 0.9059999999999999, 0.472, 0.078] and parameters: {'max_depth': 3, 'min_child_weight': 6, 'gamma': 0, 'max_delta_step': 1}. \u001b[0m\n",
      "\u001b[32m[I 2023-02-01 11:52:07,849]\u001b[0m Trial 97 finished with values: [0.036055512754639925, 0.62, 0.8240000000000001, 0.49800000000000005, 0.08] and parameters: {'max_depth': 6, 'min_child_weight': 2, 'gamma': 0, 'max_delta_step': 4}. \u001b[0m\n",
      "\u001b[32m[I 2023-02-01 11:52:09,411]\u001b[0m Trial 98 finished with values: [0.03346640106136305, 0.6180000000000001, 0.908, 0.466, 0.078] and parameters: {'max_depth': 3, 'min_child_weight': 4, 'gamma': 0, 'max_delta_step': 4}. \u001b[0m\n",
      "\u001b[32m[I 2023-02-01 11:52:11,565]\u001b[0m Trial 99 finished with values: [0.023021728866442697, 0.634, 0.876, 0.49800000000000005, 0.07800000000000001] and parameters: {'max_depth': 5, 'min_child_weight': 1, 'gamma': 0, 'max_delta_step': 8}. \u001b[0m\n"
     ]
    }
   ],
   "source": [
    "study = optuna.create_study(directions=['minimize', 'maximize','maximize', 'maximize', 'minimize'])\n",
    "study.optimize(objective_xgb, n_trials=100)\n",
    "\n",
    "duration = 2000  # milliseconds\n",
    "freq = 440  # Hz\n",
    "winsound.Beep(freq, duration)\n"
   ]
  },
  {
   "cell_type": "code",
   "execution_count": 135,
   "id": "ec29f302-ca29-462c-adf6-33bcb22d82e9",
   "metadata": {
    "canvas": {
     "comments": [],
     "componentType": "CodeCell",
     "copiedOriginId": null,
     "diskcache": true,
     "headerColor": "inherit",
     "id": "c8443305-4d7a-4455-9492-a7aeaaff5e07",
     "isComponent": true,
     "name": "Optuna Results XGB",
     "parents": [
      {
       "id": "eff17d3c-b5ab-4ccc-8088-4f7673a9e4a0",
       "name": "Optuna Run XGB"
      }
     ]
    },
    "tags": []
   },
   "outputs": [
    {
     "data": {
      "text/html": [
       "<div>\n",
       "<style scoped>\n",
       "    .dataframe tbody tr th:only-of-type {\n",
       "        vertical-align: middle;\n",
       "    }\n",
       "\n",
       "    .dataframe tbody tr th {\n",
       "        vertical-align: top;\n",
       "    }\n",
       "\n",
       "    .dataframe thead th {\n",
       "        text-align: right;\n",
       "    }\n",
       "</style>\n",
       "<table border=\"1\" class=\"dataframe\">\n",
       "  <thead>\n",
       "    <tr style=\"text-align: right;\">\n",
       "      <th></th>\n",
       "      <th>std_F1</th>\n",
       "      <th>F1</th>\n",
       "      <th>Precision</th>\n",
       "      <th>Recall</th>\n",
       "      <th>Brier</th>\n",
       "      <th>max_depth</th>\n",
       "      <th>min_child_weight</th>\n",
       "      <th>gamma</th>\n",
       "      <th>max_delta_step</th>\n",
       "      <th>Params</th>\n",
       "    </tr>\n",
       "  </thead>\n",
       "  <tbody>\n",
       "    <tr>\n",
       "      <th>17</th>\n",
       "      <td>0.032711</td>\n",
       "      <td>0.642</td>\n",
       "      <td>0.934</td>\n",
       "      <td>0.490</td>\n",
       "      <td>0.076</td>\n",
       "      <td>5</td>\n",
       "      <td>1</td>\n",
       "      <td>1</td>\n",
       "      <td>4</td>\n",
       "      <td>{'max_depth': 5, 'min_child_weight': 1, 'gamma...</td>\n",
       "    </tr>\n",
       "    <tr>\n",
       "      <th>2</th>\n",
       "      <td>0.025884</td>\n",
       "      <td>0.622</td>\n",
       "      <td>0.912</td>\n",
       "      <td>0.472</td>\n",
       "      <td>0.082</td>\n",
       "      <td>7</td>\n",
       "      <td>6</td>\n",
       "      <td>2</td>\n",
       "      <td>6</td>\n",
       "      <td>{'max_depth': 7, 'min_child_weight': 6, 'gamma...</td>\n",
       "    </tr>\n",
       "    <tr>\n",
       "      <th>4</th>\n",
       "      <td>0.025495</td>\n",
       "      <td>0.620</td>\n",
       "      <td>0.916</td>\n",
       "      <td>0.468</td>\n",
       "      <td>0.076</td>\n",
       "      <td>4</td>\n",
       "      <td>4</td>\n",
       "      <td>1</td>\n",
       "      <td>9</td>\n",
       "      <td>{'max_depth': 4, 'min_child_weight': 4, 'gamma...</td>\n",
       "    </tr>\n",
       "    <tr>\n",
       "      <th>20</th>\n",
       "      <td>0.025495</td>\n",
       "      <td>0.620</td>\n",
       "      <td>0.916</td>\n",
       "      <td>0.468</td>\n",
       "      <td>0.076</td>\n",
       "      <td>4</td>\n",
       "      <td>4</td>\n",
       "      <td>1</td>\n",
       "      <td>4</td>\n",
       "      <td>{'max_depth': 4, 'min_child_weight': 4, 'gamma...</td>\n",
       "    </tr>\n",
       "    <tr>\n",
       "      <th>22</th>\n",
       "      <td>0.031145</td>\n",
       "      <td>0.618</td>\n",
       "      <td>0.956</td>\n",
       "      <td>0.452</td>\n",
       "      <td>0.080</td>\n",
       "      <td>6</td>\n",
       "      <td>4</td>\n",
       "      <td>3</td>\n",
       "      <td>2</td>\n",
       "      <td>{'max_depth': 6, 'min_child_weight': 4, 'gamma...</td>\n",
       "    </tr>\n",
       "    <tr>\n",
       "      <th>16</th>\n",
       "      <td>0.029665</td>\n",
       "      <td>0.616</td>\n",
       "      <td>0.948</td>\n",
       "      <td>0.454</td>\n",
       "      <td>0.080</td>\n",
       "      <td>7</td>\n",
       "      <td>4</td>\n",
       "      <td>3</td>\n",
       "      <td>0</td>\n",
       "      <td>{'max_depth': 7, 'min_child_weight': 4, 'gamma...</td>\n",
       "    </tr>\n",
       "    <tr>\n",
       "      <th>0</th>\n",
       "      <td>0.029665</td>\n",
       "      <td>0.616</td>\n",
       "      <td>0.948</td>\n",
       "      <td>0.454</td>\n",
       "      <td>0.080</td>\n",
       "      <td>7</td>\n",
       "      <td>4</td>\n",
       "      <td>3</td>\n",
       "      <td>4</td>\n",
       "      <td>{'max_depth': 7, 'min_child_weight': 4, 'gamma...</td>\n",
       "    </tr>\n",
       "    <tr>\n",
       "      <th>14</th>\n",
       "      <td>0.032863</td>\n",
       "      <td>0.614</td>\n",
       "      <td>0.980</td>\n",
       "      <td>0.446</td>\n",
       "      <td>0.080</td>\n",
       "      <td>7</td>\n",
       "      <td>4</td>\n",
       "      <td>4</td>\n",
       "      <td>0</td>\n",
       "      <td>{'max_depth': 7, 'min_child_weight': 4, 'gamma...</td>\n",
       "    </tr>\n",
       "    <tr>\n",
       "      <th>9</th>\n",
       "      <td>0.030496</td>\n",
       "      <td>0.614</td>\n",
       "      <td>0.954</td>\n",
       "      <td>0.450</td>\n",
       "      <td>0.078</td>\n",
       "      <td>4</td>\n",
       "      <td>1</td>\n",
       "      <td>3</td>\n",
       "      <td>10</td>\n",
       "      <td>{'max_depth': 4, 'min_child_weight': 1, 'gamma...</td>\n",
       "    </tr>\n",
       "    <tr>\n",
       "      <th>11</th>\n",
       "      <td>0.033166</td>\n",
       "      <td>0.610</td>\n",
       "      <td>0.980</td>\n",
       "      <td>0.440</td>\n",
       "      <td>0.078</td>\n",
       "      <td>5</td>\n",
       "      <td>2</td>\n",
       "      <td>5</td>\n",
       "      <td>0</td>\n",
       "      <td>{'max_depth': 5, 'min_child_weight': 2, 'gamma...</td>\n",
       "    </tr>\n",
       "    <tr>\n",
       "      <th>15</th>\n",
       "      <td>0.030822</td>\n",
       "      <td>0.610</td>\n",
       "      <td>0.964</td>\n",
       "      <td>0.446</td>\n",
       "      <td>0.078</td>\n",
       "      <td>4</td>\n",
       "      <td>2</td>\n",
       "      <td>3</td>\n",
       "      <td>0</td>\n",
       "      <td>{'max_depth': 4, 'min_child_weight': 2, 'gamma...</td>\n",
       "    </tr>\n",
       "    <tr>\n",
       "      <th>18</th>\n",
       "      <td>0.023022</td>\n",
       "      <td>0.606</td>\n",
       "      <td>0.964</td>\n",
       "      <td>0.440</td>\n",
       "      <td>0.080</td>\n",
       "      <td>6</td>\n",
       "      <td>4</td>\n",
       "      <td>4</td>\n",
       "      <td>9</td>\n",
       "      <td>{'max_depth': 6, 'min_child_weight': 4, 'gamma...</td>\n",
       "    </tr>\n",
       "    <tr>\n",
       "      <th>6</th>\n",
       "      <td>0.027749</td>\n",
       "      <td>0.602</td>\n",
       "      <td>0.980</td>\n",
       "      <td>0.430</td>\n",
       "      <td>0.078</td>\n",
       "      <td>6</td>\n",
       "      <td>1</td>\n",
       "      <td>6</td>\n",
       "      <td>10</td>\n",
       "      <td>{'max_depth': 6, 'min_child_weight': 1, 'gamma...</td>\n",
       "    </tr>\n",
       "    <tr>\n",
       "      <th>3</th>\n",
       "      <td>0.027749</td>\n",
       "      <td>0.602</td>\n",
       "      <td>0.980</td>\n",
       "      <td>0.430</td>\n",
       "      <td>0.078</td>\n",
       "      <td>6</td>\n",
       "      <td>1</td>\n",
       "      <td>6</td>\n",
       "      <td>8</td>\n",
       "      <td>{'max_depth': 6, 'min_child_weight': 1, 'gamma...</td>\n",
       "    </tr>\n",
       "    <tr>\n",
       "      <th>8</th>\n",
       "      <td>0.025495</td>\n",
       "      <td>0.600</td>\n",
       "      <td>0.972</td>\n",
       "      <td>0.430</td>\n",
       "      <td>0.078</td>\n",
       "      <td>6</td>\n",
       "      <td>2</td>\n",
       "      <td>6</td>\n",
       "      <td>7</td>\n",
       "      <td>{'max_depth': 6, 'min_child_weight': 2, 'gamma...</td>\n",
       "    </tr>\n",
       "    <tr>\n",
       "      <th>10</th>\n",
       "      <td>0.034928</td>\n",
       "      <td>0.598</td>\n",
       "      <td>1.000</td>\n",
       "      <td>0.428</td>\n",
       "      <td>0.082</td>\n",
       "      <td>3</td>\n",
       "      <td>1</td>\n",
       "      <td>7</td>\n",
       "      <td>0</td>\n",
       "      <td>{'max_depth': 3, 'min_child_weight': 1, 'gamma...</td>\n",
       "    </tr>\n",
       "    <tr>\n",
       "      <th>5</th>\n",
       "      <td>0.034641</td>\n",
       "      <td>0.590</td>\n",
       "      <td>1.000</td>\n",
       "      <td>0.418</td>\n",
       "      <td>0.082</td>\n",
       "      <td>7</td>\n",
       "      <td>3</td>\n",
       "      <td>7</td>\n",
       "      <td>10</td>\n",
       "      <td>{'max_depth': 7, 'min_child_weight': 3, 'gamma...</td>\n",
       "    </tr>\n",
       "  </tbody>\n",
       "</table>\n",
       "</div>"
      ],
      "text/plain": [
       "      std_F1     F1  Precision  Recall  Brier  max_depth  min_child_weight  \\\n",
       "17  0.032711  0.642      0.934   0.490  0.076          5                 1   \n",
       "2   0.025884  0.622      0.912   0.472  0.082          7                 6   \n",
       "4   0.025495  0.620      0.916   0.468  0.076          4                 4   \n",
       "20  0.025495  0.620      0.916   0.468  0.076          4                 4   \n",
       "22  0.031145  0.618      0.956   0.452  0.080          6                 4   \n",
       "16  0.029665  0.616      0.948   0.454  0.080          7                 4   \n",
       "0   0.029665  0.616      0.948   0.454  0.080          7                 4   \n",
       "14  0.032863  0.614      0.980   0.446  0.080          7                 4   \n",
       "9   0.030496  0.614      0.954   0.450  0.078          4                 1   \n",
       "11  0.033166  0.610      0.980   0.440  0.078          5                 2   \n",
       "15  0.030822  0.610      0.964   0.446  0.078          4                 2   \n",
       "18  0.023022  0.606      0.964   0.440  0.080          6                 4   \n",
       "6   0.027749  0.602      0.980   0.430  0.078          6                 1   \n",
       "3   0.027749  0.602      0.980   0.430  0.078          6                 1   \n",
       "8   0.025495  0.600      0.972   0.430  0.078          6                 2   \n",
       "10  0.034928  0.598      1.000   0.428  0.082          3                 1   \n",
       "5   0.034641  0.590      1.000   0.418  0.082          7                 3   \n",
       "\n",
       "    gamma  max_delta_step                                             Params  \n",
       "17      1               4  {'max_depth': 5, 'min_child_weight': 1, 'gamma...  \n",
       "2       2               6  {'max_depth': 7, 'min_child_weight': 6, 'gamma...  \n",
       "4       1               9  {'max_depth': 4, 'min_child_weight': 4, 'gamma...  \n",
       "20      1               4  {'max_depth': 4, 'min_child_weight': 4, 'gamma...  \n",
       "22      3               2  {'max_depth': 6, 'min_child_weight': 4, 'gamma...  \n",
       "16      3               0  {'max_depth': 7, 'min_child_weight': 4, 'gamma...  \n",
       "0       3               4  {'max_depth': 7, 'min_child_weight': 4, 'gamma...  \n",
       "14      4               0  {'max_depth': 7, 'min_child_weight': 4, 'gamma...  \n",
       "9       3              10  {'max_depth': 4, 'min_child_weight': 1, 'gamma...  \n",
       "11      5               0  {'max_depth': 5, 'min_child_weight': 2, 'gamma...  \n",
       "15      3               0  {'max_depth': 4, 'min_child_weight': 2, 'gamma...  \n",
       "18      4               9  {'max_depth': 6, 'min_child_weight': 4, 'gamma...  \n",
       "6       6              10  {'max_depth': 6, 'min_child_weight': 1, 'gamma...  \n",
       "3       6               8  {'max_depth': 6, 'min_child_weight': 1, 'gamma...  \n",
       "8       6               7  {'max_depth': 6, 'min_child_weight': 2, 'gamma...  \n",
       "10      7               0  {'max_depth': 3, 'min_child_weight': 1, 'gamma...  \n",
       "5       7              10  {'max_depth': 7, 'min_child_weight': 3, 'gamma...  "
      ]
     },
     "execution_count": 135,
     "metadata": {},
     "output_type": "execute_result"
    }
   ],
   "source": [
    "metrics_name = ['std_F1','F1', 'Precision', 'Recall', 'Brier']\n",
    "\n",
    "tries = pd.DataFrame()\n",
    "try_1 = {}\n",
    "for trial in study.best_trials:\n",
    "\n",
    "    for metric, value in zip(metrics_name, trial.values):\n",
    "\n",
    "        try_1[metric] = value\n",
    "\n",
    "    try_1.update(trial.params)\n",
    "    try_1['Params'] = str(trial.params)\n",
    "\n",
    "    tries = pd.concat([tries, pd.DataFrame(try_1, index=[0])], ignore_index=True)\n",
    "\n",
    "    tries = tries[tries.Precision > 0]\n",
    "\n",
    "best_params = tries.sort_values(['std_F1', 'Precision','F1','Brier'], ascending= [True, False, True, False]).head(100)\n",
    "\n",
    "best_params[(best_params.Recall > 0.200) & (best_params.Precision > 0.900)].drop_duplicates().sort_values('F1', ascending=False)"
   ]
  },
  {
   "cell_type": "code",
   "execution_count": 137,
   "id": "25207b73-52d7-49b6-b57b-1f11850b0582",
   "metadata": {
    "canvas": {
     "comments": [],
     "componentType": "CodeCell",
     "copiedOriginId": null,
     "diskcache": false,
     "headerColor": "inherit",
     "id": "c38556e2-ae00-43f3-bd45-9f5c8dec1597",
     "isComponent": false,
     "name": "",
     "parents": []
    }
   },
   "outputs": [
    {
     "data": {
      "text/plain": [
       "{4: \"{'max_depth': 4, 'min_child_weight': 4, 'gamma': 1, 'max_delta_step': 9}\"}"
      ]
     },
     "execution_count": 137,
     "metadata": {},
     "output_type": "execute_result"
    }
   ],
   "source": [
    "best_params.loc[best_params.index == 4,\"Params\"].to_dict()"
   ]
  },
  {
   "cell_type": "code",
   "execution_count": null,
   "id": "68538e12-7707-4756-982c-78bdf004af2f",
   "metadata": {
    "canvas": {
     "comments": [],
     "componentType": "CodeCell",
     "copiedOriginId": null,
     "diskcache": false,
     "headerColor": "inherit",
     "id": "871e9ac7-aa0b-4abc-82a3-450b1bb7b257",
     "isComponent": true,
     "name": "Optuna run Gaussian",
     "parents": [
      {
       "id": "d5742407-e18a-4185-a945-f5ac11dcb854",
       "name": "Optuna function Gaussian"
      }
     ]
    },
    "tags": []
   },
   "outputs": [],
   "source": [
    "study = optuna.create_study(directions=['maximize','maximize', 'maximize', 'minimize'])\n",
    "study.optimize(objective_gnb, n_trials=200)"
   ]
  },
  {
   "cell_type": "code",
   "execution_count": null,
   "id": "778a5e8b-f87e-4c95-a9f3-09ed049a6dcd",
   "metadata": {
    "canvas": {
     "comments": [],
     "componentType": "CodeCell",
     "copiedOriginId": null,
     "diskcache": false,
     "headerColor": "inherit",
     "id": "05f7e787-a336-4342-b603-78809382262e",
     "isComponent": true,
     "name": "Optuna results",
     "parents": [
      {
       "id": "871e9ac7-aa0b-4abc-82a3-450b1bb7b257",
       "name": "Optuna run Gaussian"
      }
     ]
    },
    "tags": []
   },
   "outputs": [],
   "source": [
    "metrics_name = ['F1','Precision','Recall','Brier']\n",
    "\n",
    "tries = pd.DataFrame()\n",
    "try_1 = {}\n",
    "for trial in study.best_trials:\n",
    "    \n",
    "    for metric, value in zip(metrics_name,trial.values):\n",
    "        \n",
    "        try_1[metric] = value\n",
    "        \n",
    "    try_1['Params'] = str(trial.params)\n",
    "    \n",
    "    tries = pd.concat([tries, pd.DataFrame(try_1, index=[0])], ignore_index=True)\n",
    "    \n",
    "    tries = tries[tries.Precision > 0]\n",
    "    \n",
    "tries"
   ]
  },
  {
   "cell_type": "code",
   "execution_count": null,
   "id": "38865532-740a-4de0-af0f-4358b5338334",
   "metadata": {
    "canvas": {
     "comments": [],
     "componentType": "CodeCell",
     "copiedOriginId": null,
     "diskcache": false,
     "headerColor": "inherit",
     "id": "d7fdb49f-1502-43d4-87ef-e452da6ecf74",
     "isComponent": true,
     "name": "Top 20 results optuna",
     "parents": [
      {
       "id": "05f7e787-a336-4342-b603-78809382262e",
       "name": "Optuna results"
      }
     ]
    },
    "tags": []
   },
   "outputs": [],
   "source": [
    "tries.sort_values(['F1','Brier','Precision'], ascending= [False, True, False]).head(20)"
   ]
  },
  {
   "cell_type": "code",
   "execution_count": 62,
   "id": "c0c029e3-d857-49d9-bc9f-8c14e1efa205",
   "metadata": {
    "canvas": {
     "comments": [],
     "componentType": "CodeCell",
     "copiedOriginId": null,
     "diskcache": true,
     "headerColor": "inherit",
     "id": "5fc0c45d-b30d-4092-b717-eeaf44c5e2c7",
     "isComponent": true,
     "name": "Final model params",
     "parents": [
      {
       "id": "a878d86e-3707-49be-bb85-3a5c0cbe3972",
       "name": "Optuna dataset"
      }
     ]
    },
    "tags": []
   },
   "outputs": [],
   "source": [
    "params = {'max_depth': 4, 'min_child_weight': 4, 'gamma': 1, 'max_delta_step': 9}\n",
    "\n",
    "\n",
    "threshold = 0.5\n",
    "\n",
    "xgb = XGBClassifier(use_label_encoder=False, verbosity=0, random_state=42, **params)\n",
    "\n",
    "#xgb = XGBClassifier(use_label_encoder=False, verbosity=0, random_state=42)"
   ]
  },
  {
   "cell_type": "code",
   "execution_count": 106,
   "id": "85ce49bd-6e94-4401-a063-52820c0f892e",
   "metadata": {
    "canvas": {
     "comments": [],
     "componentType": "CodeCell",
     "copiedOriginId": null,
     "diskcache": false,
     "headerColor": "inherit",
     "id": "0f59996a-a2d4-43df-8a8a-4bcfaee7adc7",
     "isComponent": false,
     "name": "",
     "parents": []
    }
   },
   "outputs": [
    {
     "data": {
      "text/plain": [
       "Index(['idade', 'genero', 'ord_faixa_tempo_casa', 'ord_faixa_etaria',\n",
       "       'escolaridade_classificao', 'salario', 'cotapcd', 'tempo_de_casa',\n",
       "       'codsecao_gerencia_contagion', 'codsecao_gerencia_proportion_contagion',\n",
       "       'funcao_descricao_clean_contagion',\n",
       "       'funcao_descricao_clean_proportion_contagion',\n",
       "       'engineer_promotion_indexes', 'engineer_merit_indexes',\n",
       "       'corraca_descricao_Amarela', 'corraca_descricao_Branca',\n",
       "       'corraca_descricao_Indgena', 'corraca_descricao_Parda',\n",
       "       'corraca_descricao_Preta', 'filial_descricao_AFYA',\n",
       "       'filial_descricao_AFYASP', 'filial_descricao_IPEMED',\n",
       "       'filial_descricao_MEDCELEDITORAEEVENTOSSA', 'filial_descricao_PEBMED',\n",
       "       'VP_descricao_AUDITORIAINTERNA', 'VP_descricao_CEO',\n",
       "       'VP_descricao_DIRETORIAJURIDICOECOMPLIANCE',\n",
       "       'VP_descricao_VICEPRESIDENCIADEGENTEGESTAOESERVICOS',\n",
       "       'VP_descricao_VICEPRESIDENCIADEINOVACAOESERVDIGITAIS',\n",
       "       'VP_descricao_VICEPRESIDENCIADEINOVACAOETECNOLOGIA',\n",
       "       'VP_descricao_VICEPRESIDENCIADEMARKETING',\n",
       "       'VP_descricao_VICEPRESIDENCIADEMERCADO',\n",
       "       'VP_descricao_VICEPRESIDENCIADEOPERACOES',\n",
       "       'VP_descricao_VICEPRESIDENCIADESERVICOSDIGITAIS',\n",
       "       'VP_descricao_VICEPRESIDENCIAFINANCEIRA', 'tipo_filial_DIGITAL',\n",
       "       'tipo_filial_EDUCON', 'tipo_filial_HOLDING'],\n",
       "      dtype='object')"
      ]
     },
     "execution_count": 106,
     "metadata": {},
     "output_type": "execute_result"
    }
   ],
   "source": [
    "X_test_final.columns"
   ]
  },
  {
   "cell_type": "code",
   "execution_count": 97,
   "id": "5fcffc89-6efb-4939-8b37-812ca37b238a",
   "metadata": {
    "canvas": {
     "comments": [],
     "componentType": "CodeCell",
     "copiedOriginId": null,
     "diskcache": true,
     "headerColor": "inherit",
     "id": "514f62d4-03db-4a35-b1a7-e1487f81d6f8",
     "isComponent": true,
     "name": "Why",
     "parents": [
      {
       "id": "5fc0c45d-b30d-4092-b717-eeaf44c5e2c7",
       "name": "Final model params"
      }
     ]
    },
    "tags": []
   },
   "outputs": [
    {
     "name": "stderr",
     "output_type": "stream",
     "text": [
      "Permutation explainer: 443it [00:48,  7.09it/s]                                                                        \n"
     ]
    }
   ],
   "source": [
    "\n",
    "\n",
    "xgb.fit(X_train_final, y_train_final)\n",
    "\n",
    "explainer = shap.Explainer(xgb.predict, X_train_final)\n",
    "shap_values = explainer(X_test_final)"
   ]
  },
  {
   "cell_type": "code",
   "execution_count": 107,
   "id": "f68836b7-dc4c-4cce-a11f-adbf73fb154b",
   "metadata": {
    "canvas": {
     "comments": [],
     "componentType": "CodeCell",
     "copiedOriginId": null,
     "diskcache": true,
     "headerColor": "inherit",
     "id": "fbfdab1e-5273-4851-8ccd-e8293d6011f8",
     "isComponent": true,
     "name": "Shap summary plot",
     "parents": [
      {
       "id": "514f62d4-03db-4a35-b1a7-e1487f81d6f8",
       "name": "Why"
      }
     ]
    },
    "tags": []
   },
   "outputs": [
    {
     "data": {
      "image/png": "[encoded data removed]",
      "text/plain": [
       "<Figure size 576x684 with 2 Axes>"
      ]
     },
     "metadata": {},
     "output_type": "display_data"
    }
   ],
   "source": [
    "shap.summary_plot(shap_values, plot_type='violin')"
   ]
  },
  {
   "cell_type": "code",
   "execution_count": 109,
   "id": "50dbf251-941f-4b33-8a29-fa51edfcb4c8",
   "metadata": {
    "canvas": {
     "comments": [],
     "componentType": "CodeCell",
     "copiedOriginId": null,
     "diskcache": true,
     "headerColor": "inherit",
     "id": "95127e46-d9bb-4f24-9c39-41ed4c9603fd",
     "isComponent": true,
     "name": "Target true e pred analysis",
     "parents": [
      {
       "id": "fbfdab1e-5273-4851-8ccd-e8293d6011f8",
       "name": "Shap summary plot"
      }
     ]
    },
    "tags": []
   },
   "outputs": [
    {
     "data": {
      "image/png": "[encoded data removed]",
      "text/plain": [
       "<Figure size 576x396 with 1 Axes>"
      ]
     },
     "metadata": {},
     "output_type": "display_data"
    },
    {
     "data": {
      "text/plain": [
       "<AxesSubplot:ylabel='Frequency'>"
      ]
     },
     "execution_count": 109,
     "metadata": {},
     "output_type": "execute_result"
    }
   ],
   "source": [
    "X_test_analysis = X_test_final.copy()\n",
    "\n",
    "X_test_analysis['pred_proba'] = xgb.predict_proba(X_test_final)[:, -1]\n",
    "\n",
    "X_test_analysis['true'] = y_test\n",
    "\n",
    "X_test_analysis = X_test_analysis.reset_index()\n",
    "\n",
    "test = pd.DataFrame({'true': y_test, 'pred':xgb.predict_proba(X_test_final)[:, -1]})\n",
    "\n",
    "limit = 40\n",
    "bins = 50\n",
    "\n",
    "test[test.true==1].pred.plot.hist(bins=bins, ylim=(0,limit), fc=(0, 0, 1, 0.5), legend='Legend', label='Voluntary Attrition', yticks=np.arange(0,limit,2))\n",
    "test[test.true==0].pred.plot.hist(bins=bins, ylim=(0,limit), fc=(0, 0.4, 0.3, 0.5), legend='Legend', label='Active')"
   ]
  },
  {
   "cell_type": "code",
   "execution_count": 51,
   "id": "1ca76e46-e595-49e0-aace-b3ff682a8988",
   "metadata": {
    "canvas": {
     "comments": [],
     "componentType": "CodeCell",
     "copiedOriginId": null,
     "diskcache": true,
     "headerColor": "inherit",
     "id": "8f6a2b7e-a44c-4363-80a5-aeb90dadbb89",
     "isComponent": true,
     "name": "shap raw data",
     "parents": [
      {
       "id": "95127e46-d9bb-4f24-9c39-41ed4c9603fd",
       "name": "Target true e pred analysis"
      }
     ]
    },
    "tags": []
   },
   "outputs": [
    {
     "data": {
      "text/html": [
       "<div>\n",
       "<style scoped>\n",
       "    .dataframe tbody tr th:only-of-type {\n",
       "        vertical-align: middle;\n",
       "    }\n",
       "\n",
       "    .dataframe tbody tr th {\n",
       "        vertical-align: top;\n",
       "    }\n",
       "\n",
       "    .dataframe thead th {\n",
       "        text-align: right;\n",
       "    }\n",
       "</style>\n",
       "<table border=\"1\" class=\"dataframe\">\n",
       "  <thead>\n",
       "    <tr style=\"text-align: right;\">\n",
       "      <th></th>\n",
       "      <th>tipo_filial_DIGITAL</th>\n",
       "      <th>VP_descricao_VICEPRESIDENCIADESERVICOSDIGITAIS</th>\n",
       "      <th>filial_descricao_AFYA</th>\n",
       "      <th>VP_descricao_VICEPRESIDENCIADEMERCADO</th>\n",
       "      <th>genero</th>\n",
       "      <th>VP_descricao_VICEPRESIDENCIADEINOVACAOESERVDIGITAIS</th>\n",
       "      <th>engineer_merit_indexes</th>\n",
       "      <th>codsecao_gerencia_contagion</th>\n",
       "      <th>salario</th>\n",
       "      <th>funcao_descricao_clean_contagion</th>\n",
       "      <th>tempo_de_casa</th>\n",
       "      <th>engineer_promotion_indexes</th>\n",
       "    </tr>\n",
       "  </thead>\n",
       "  <tbody>\n",
       "    <tr>\n",
       "      <th>0</th>\n",
       "      <td>-0.00050</td>\n",
       "      <td>0.000000e+00</td>\n",
       "      <td>-0.00525</td>\n",
       "      <td>-0.00700</td>\n",
       "      <td>-0.01000</td>\n",
       "      <td>-0.00950</td>\n",
       "      <td>0.00550</td>\n",
       "      <td>-0.02975</td>\n",
       "      <td>-0.03625</td>\n",
       "      <td>-0.00450</td>\n",
       "      <td>-0.06300</td>\n",
       "      <td>-0.03975</td>\n",
       "    </tr>\n",
       "    <tr>\n",
       "      <th>1</th>\n",
       "      <td>0.00350</td>\n",
       "      <td>2.168404e-19</td>\n",
       "      <td>-0.00350</td>\n",
       "      <td>-0.00650</td>\n",
       "      <td>-0.00500</td>\n",
       "      <td>-0.00450</td>\n",
       "      <td>0.00725</td>\n",
       "      <td>-0.03725</td>\n",
       "      <td>-0.06625</td>\n",
       "      <td>0.00775</td>\n",
       "      <td>-0.15850</td>\n",
       "      <td>0.06300</td>\n",
       "    </tr>\n",
       "    <tr>\n",
       "      <th>2</th>\n",
       "      <td>0.00850</td>\n",
       "      <td>-7.500000e-04</td>\n",
       "      <td>-0.00075</td>\n",
       "      <td>-0.00525</td>\n",
       "      <td>0.00925</td>\n",
       "      <td>-0.00550</td>\n",
       "      <td>-0.08375</td>\n",
       "      <td>-0.03050</td>\n",
       "      <td>0.00100</td>\n",
       "      <td>-0.00925</td>\n",
       "      <td>-0.08550</td>\n",
       "      <td>0.00250</td>\n",
       "    </tr>\n",
       "    <tr>\n",
       "      <th>3</th>\n",
       "      <td>-0.04575</td>\n",
       "      <td>1.250000e-03</td>\n",
       "      <td>0.00175</td>\n",
       "      <td>-0.02000</td>\n",
       "      <td>-0.00900</td>\n",
       "      <td>0.00850</td>\n",
       "      <td>0.00675</td>\n",
       "      <td>-0.02650</td>\n",
       "      <td>-0.05050</td>\n",
       "      <td>-0.02550</td>\n",
       "      <td>-0.10600</td>\n",
       "      <td>0.06500</td>\n",
       "    </tr>\n",
       "    <tr>\n",
       "      <th>4</th>\n",
       "      <td>0.01525</td>\n",
       "      <td>1.500000e-03</td>\n",
       "      <td>-0.00950</td>\n",
       "      <td>-0.01950</td>\n",
       "      <td>-0.01700</td>\n",
       "      <td>-0.02000</td>\n",
       "      <td>0.01200</td>\n",
       "      <td>-0.02650</td>\n",
       "      <td>-0.09000</td>\n",
       "      <td>-0.02075</td>\n",
       "      <td>0.01050</td>\n",
       "      <td>-0.03600</td>\n",
       "    </tr>\n",
       "    <tr>\n",
       "      <th>...</th>\n",
       "      <td>...</td>\n",
       "      <td>...</td>\n",
       "      <td>...</td>\n",
       "      <td>...</td>\n",
       "      <td>...</td>\n",
       "      <td>...</td>\n",
       "      <td>...</td>\n",
       "      <td>...</td>\n",
       "      <td>...</td>\n",
       "      <td>...</td>\n",
       "      <td>...</td>\n",
       "      <td>...</td>\n",
       "    </tr>\n",
       "    <tr>\n",
       "      <th>437</th>\n",
       "      <td>-0.01800</td>\n",
       "      <td>-7.500000e-04</td>\n",
       "      <td>-0.00275</td>\n",
       "      <td>-0.01700</td>\n",
       "      <td>-0.01050</td>\n",
       "      <td>0.00575</td>\n",
       "      <td>0.00250</td>\n",
       "      <td>-0.04050</td>\n",
       "      <td>-0.02825</td>\n",
       "      <td>-0.00500</td>\n",
       "      <td>-0.13425</td>\n",
       "      <td>0.04875</td>\n",
       "    </tr>\n",
       "    <tr>\n",
       "      <th>438</th>\n",
       "      <td>-0.00225</td>\n",
       "      <td>-2.500000e-04</td>\n",
       "      <td>-0.00775</td>\n",
       "      <td>-0.00600</td>\n",
       "      <td>-0.02075</td>\n",
       "      <td>-0.00400</td>\n",
       "      <td>-0.00550</td>\n",
       "      <td>-0.04000</td>\n",
       "      <td>-0.13850</td>\n",
       "      <td>0.02925</td>\n",
       "      <td>0.04675</td>\n",
       "      <td>-0.05100</td>\n",
       "    </tr>\n",
       "    <tr>\n",
       "      <th>439</th>\n",
       "      <td>0.00025</td>\n",
       "      <td>-2.500000e-04</td>\n",
       "      <td>-0.01400</td>\n",
       "      <td>-0.01400</td>\n",
       "      <td>0.02750</td>\n",
       "      <td>-0.00775</td>\n",
       "      <td>0.01050</td>\n",
       "      <td>-0.01675</td>\n",
       "      <td>-0.22025</td>\n",
       "      <td>0.01525</td>\n",
       "      <td>0.07875</td>\n",
       "      <td>-0.05925</td>\n",
       "    </tr>\n",
       "    <tr>\n",
       "      <th>440</th>\n",
       "      <td>-0.00025</td>\n",
       "      <td>1.750000e-03</td>\n",
       "      <td>-0.00500</td>\n",
       "      <td>-0.01850</td>\n",
       "      <td>-0.01400</td>\n",
       "      <td>-0.01075</td>\n",
       "      <td>0.01225</td>\n",
       "      <td>-0.03925</td>\n",
       "      <td>-0.21675</td>\n",
       "      <td>0.04325</td>\n",
       "      <td>-0.03950</td>\n",
       "      <td>0.08675</td>\n",
       "    </tr>\n",
       "    <tr>\n",
       "      <th>441</th>\n",
       "      <td>0.00825</td>\n",
       "      <td>-5.000000e-04</td>\n",
       "      <td>-0.00300</td>\n",
       "      <td>-0.01475</td>\n",
       "      <td>-0.02550</td>\n",
       "      <td>-0.02625</td>\n",
       "      <td>0.00600</td>\n",
       "      <td>-0.03550</td>\n",
       "      <td>-0.09225</td>\n",
       "      <td>0.00200</td>\n",
       "      <td>-0.03450</td>\n",
       "      <td>0.01600</td>\n",
       "    </tr>\n",
       "  </tbody>\n",
       "</table>\n",
       "<p>442 rows × 12 columns</p>\n",
       "</div>"
      ],
      "text/plain": [
       "     tipo_filial_DIGITAL  VP_descricao_VICEPRESIDENCIADESERVICOSDIGITAIS  \\\n",
       "0               -0.00050                                    0.000000e+00   \n",
       "1                0.00350                                    2.168404e-19   \n",
       "2                0.00850                                   -7.500000e-04   \n",
       "3               -0.04575                                    1.250000e-03   \n",
       "4                0.01525                                    1.500000e-03   \n",
       "..                   ...                                             ...   \n",
       "437             -0.01800                                   -7.500000e-04   \n",
       "438             -0.00225                                   -2.500000e-04   \n",
       "439              0.00025                                   -2.500000e-04   \n",
       "440             -0.00025                                    1.750000e-03   \n",
       "441              0.00825                                   -5.000000e-04   \n",
       "\n",
       "     filial_descricao_AFYA  VP_descricao_VICEPRESIDENCIADEMERCADO   genero  \\\n",
       "0                 -0.00525                               -0.00700 -0.01000   \n",
       "1                 -0.00350                               -0.00650 -0.00500   \n",
       "2                 -0.00075                               -0.00525  0.00925   \n",
       "3                  0.00175                               -0.02000 -0.00900   \n",
       "4                 -0.00950                               -0.01950 -0.01700   \n",
       "..                     ...                                    ...      ...   \n",
       "437               -0.00275                               -0.01700 -0.01050   \n",
       "438               -0.00775                               -0.00600 -0.02075   \n",
       "439               -0.01400                               -0.01400  0.02750   \n",
       "440               -0.00500                               -0.01850 -0.01400   \n",
       "441               -0.00300                               -0.01475 -0.02550   \n",
       "\n",
       "     VP_descricao_VICEPRESIDENCIADEINOVACAOESERVDIGITAIS  \\\n",
       "0                                             -0.00950     \n",
       "1                                             -0.00450     \n",
       "2                                             -0.00550     \n",
       "3                                              0.00850     \n",
       "4                                             -0.02000     \n",
       "..                                                 ...     \n",
       "437                                            0.00575     \n",
       "438                                           -0.00400     \n",
       "439                                           -0.00775     \n",
       "440                                           -0.01075     \n",
       "441                                           -0.02625     \n",
       "\n",
       "     engineer_merit_indexes  codsecao_gerencia_contagion  salario  \\\n",
       "0                   0.00550                     -0.02975 -0.03625   \n",
       "1                   0.00725                     -0.03725 -0.06625   \n",
       "2                  -0.08375                     -0.03050  0.00100   \n",
       "3                   0.00675                     -0.02650 -0.05050   \n",
       "4                   0.01200                     -0.02650 -0.09000   \n",
       "..                      ...                          ...      ...   \n",
       "437                 0.00250                     -0.04050 -0.02825   \n",
       "438                -0.00550                     -0.04000 -0.13850   \n",
       "439                 0.01050                     -0.01675 -0.22025   \n",
       "440                 0.01225                     -0.03925 -0.21675   \n",
       "441                 0.00600                     -0.03550 -0.09225   \n",
       "\n",
       "     funcao_descricao_clean_contagion  tempo_de_casa  \\\n",
       "0                            -0.00450       -0.06300   \n",
       "1                             0.00775       -0.15850   \n",
       "2                            -0.00925       -0.08550   \n",
       "3                            -0.02550       -0.10600   \n",
       "4                            -0.02075        0.01050   \n",
       "..                                ...            ...   \n",
       "437                          -0.00500       -0.13425   \n",
       "438                           0.02925        0.04675   \n",
       "439                           0.01525        0.07875   \n",
       "440                           0.04325       -0.03950   \n",
       "441                           0.00200       -0.03450   \n",
       "\n",
       "     engineer_promotion_indexes  \n",
       "0                      -0.03975  \n",
       "1                       0.06300  \n",
       "2                       0.00250  \n",
       "3                       0.06500  \n",
       "4                      -0.03600  \n",
       "..                          ...  \n",
       "437                     0.04875  \n",
       "438                    -0.05100  \n",
       "439                    -0.05925  \n",
       "440                     0.08675  \n",
       "441                     0.01600  \n",
       "\n",
       "[442 rows x 12 columns]"
      ]
     },
     "execution_count": 51,
     "metadata": {},
     "output_type": "execute_result"
    }
   ],
   "source": [
    "shap_analyze= pd.DataFrame()\n",
    "\n",
    "index = 0\n",
    "\n",
    "for i in shap_values:\n",
    "    teste = pd.DataFrame(data=[list(i.values)], columns=X_test_final.columns, index=[index])\n",
    "    shap_analyze = pd.concat([shap_analyze, teste])\n",
    "    \n",
    "    index += 1\n",
    "    \n",
    "    \n",
    "shap_analyze"
   ]
  },
  {
   "cell_type": "code",
   "execution_count": 111,
   "id": "60d03b52-0ff1-425f-ac65-943adbd8fd17",
   "metadata": {
    "canvas": {
     "comments": [],
     "componentType": "CodeCell",
     "copiedOriginId": null,
     "diskcache": false,
     "headerColor": "inherit",
     "id": "eab710ce-7339-48c0-acb7-639907a322ff",
     "isComponent": true,
     "name": "Final Analysis",
     "parents": [
      {
       "id": "8f6a2b7e-a44c-4363-80a5-aeb90dadbb89",
       "name": "shap raw data"
      }
     ]
    },
    "tags": []
   },
   "outputs": [
    {
     "data": {
      "image/png": "[encoded data removed]",
      "text/plain": [
       "<Figure size 720x432 with 1 Axes>"
      ]
     },
     "metadata": {},
     "output_type": "display_data"
    },
    {
     "data": {
      "image/png": "[encoded data removed]",
      "text/plain": [
       "<Figure size 720x432 with 1 Axes>"
      ]
     },
     "metadata": {},
     "output_type": "display_data"
    },
    {
     "data": {
      "image/png": "[encoded data removed]",
      "text/plain": [
       "<Figure size 720x432 with 1 Axes>"
      ]
     },
     "metadata": {},
     "output_type": "display_data"
    },
    {
     "data": {
      "image/png": "[encoded data removed]",
      "text/plain": [
       "<Figure size 720x432 with 1 Axes>"
      ]
     },
     "metadata": {},
     "output_type": "display_data"
    }
   ],
   "source": [
    "def plot_analysis(title='test', dictionary_analysis={}):\n",
    "    \n",
    "    fig, ax = plt.subplots(figsize=(10, 6))\n",
    "    plt.title(title)\n",
    "\n",
    "    ax.boxplot(dictionary_analysis.values())\n",
    "    ax.set_xticklabels(dictionary_analysis.keys(), rotation = 90);\n",
    "\n",
    "for target_pred in range(0,2):\n",
    "    \n",
    "    index_analysis = X_test_analysis[(X_test_analysis.true == target_pred)&(X_test_analysis.pred_proba >= 0.5)].index\n",
    "    \n",
    "    shap_analyze_chosen = shap_analyze.iloc[index_analysis,:]\n",
    "    \n",
    "    shap_analyze_chosen_dict = {columns:shap_analyze_chosen[columns] for columns in shap_analyze_chosen}\n",
    "    \n",
    "    plot_analysis(f'True == {target_pred} and prob >= 0.5', shap_analyze_chosen_dict)\n",
    "    \n",
    "    index_analysis = X_test_analysis[(X_test_analysis.true == target_pred)&(X_test_analysis.pred_proba < 0.5)].index\n",
    "    \n",
    "    shap_analyze_chosen = shap_analyze.iloc[index_analysis,:]\n",
    "    \n",
    "    shap_analyze_chosen_dict = {columns:shap_analyze_chosen[columns] for columns in shap_analyze_chosen}\n",
    "    \n",
    "    plot_analysis(f'True == {target_pred} and prob < 0.5', shap_analyze_chosen_dict)"
   ]
  },
  {
   "cell_type": "code",
   "execution_count": 116,
   "id": "fc75f878-18b3-461b-8b61-656aa8416f54",
   "metadata": {
    "canvas": {
     "comments": [],
     "componentType": "CodeCell",
     "copiedOriginId": null,
     "diskcache": false,
     "headerColor": "inherit",
     "id": "a8990cde-1895-4827-bbd8-c967fb66d9d7",
     "isComponent": true,
     "name": "Raw shap analysis",
     "parents": [
      {
       "id": "8f6a2b7e-a44c-4363-80a5-aeb90dadbb89",
       "name": "shap raw data"
      }
     ]
    },
    "tags": []
   },
   "outputs": [
    {
     "data": {
      "text/html": [
       "<div>\n",
       "<style scoped>\n",
       "    .dataframe tbody tr th:only-of-type {\n",
       "        vertical-align: middle;\n",
       "    }\n",
       "\n",
       "    .dataframe tbody tr th {\n",
       "        vertical-align: top;\n",
       "    }\n",
       "\n",
       "    .dataframe thead th {\n",
       "        text-align: right;\n",
       "    }\n",
       "</style>\n",
       "<table border=\"1\" class=\"dataframe\">\n",
       "  <thead>\n",
       "    <tr style=\"text-align: right;\">\n",
       "      <th>true</th>\n",
       "      <th>0</th>\n",
       "      <th>1</th>\n",
       "      <th>dif</th>\n",
       "    </tr>\n",
       "    <tr>\n",
       "      <th>variable</th>\n",
       "      <th></th>\n",
       "      <th></th>\n",
       "      <th></th>\n",
       "    </tr>\n",
       "  </thead>\n",
       "  <tbody>\n",
       "    <tr>\n",
       "      <th>engineer_merit_indexes</th>\n",
       "      <td>-0.025000</td>\n",
       "      <td>1.666667e-02</td>\n",
       "      <td>-0.008</td>\n",
       "    </tr>\n",
       "    <tr>\n",
       "      <th>VP_descricao_VICEPRESIDENCIADEINOVACAOESERVDIGITAIS</th>\n",
       "      <td>0.058333</td>\n",
       "      <td>-5.000000e-02</td>\n",
       "      <td>0.008</td>\n",
       "    </tr>\n",
       "    <tr>\n",
       "      <th>corraca_descricao_Parda</th>\n",
       "      <td>0.016667</td>\n",
       "      <td>-8.333333e-03</td>\n",
       "      <td>0.008</td>\n",
       "    </tr>\n",
       "    <tr>\n",
       "      <th>corraca_descricao_Preta</th>\n",
       "      <td>-0.000000</td>\n",
       "      <td>8.333333e-03</td>\n",
       "      <td>0.008</td>\n",
       "    </tr>\n",
       "    <tr>\n",
       "      <th>filial_descricao_AFYA</th>\n",
       "      <td>-0.000000</td>\n",
       "      <td>8.333333e-03</td>\n",
       "      <td>0.008</td>\n",
       "    </tr>\n",
       "    <tr>\n",
       "      <th>VP_descricao_VICEPRESIDENCIADEMERCADO</th>\n",
       "      <td>0.041667</td>\n",
       "      <td>-2.500000e-02</td>\n",
       "      <td>0.017</td>\n",
       "    </tr>\n",
       "    <tr>\n",
       "      <th>engineer_promotion_indexes</th>\n",
       "      <td>0.075000</td>\n",
       "      <td>-4.166667e-02</td>\n",
       "      <td>0.033</td>\n",
       "    </tr>\n",
       "    <tr>\n",
       "      <th>funcao_descricao_clean_proportion_contagion</th>\n",
       "      <td>0.066667</td>\n",
       "      <td>-2.500000e-02</td>\n",
       "      <td>0.042</td>\n",
       "    </tr>\n",
       "    <tr>\n",
       "      <th>idade</th>\n",
       "      <td>0.141667</td>\n",
       "      <td>-1.000000e-01</td>\n",
       "      <td>0.042</td>\n",
       "    </tr>\n",
       "    <tr>\n",
       "      <th>genero</th>\n",
       "      <td>0.066667</td>\n",
       "      <td>1.156482e-17</td>\n",
       "      <td>0.067</td>\n",
       "    </tr>\n",
       "    <tr>\n",
       "      <th>codsecao_gerencia_proportion_contagion</th>\n",
       "      <td>0.083333</td>\n",
       "      <td>-8.333333e-03</td>\n",
       "      <td>0.075</td>\n",
       "    </tr>\n",
       "    <tr>\n",
       "      <th>funcao_descricao_clean_contagion</th>\n",
       "      <td>0.033333</td>\n",
       "      <td>4.166667e-02</td>\n",
       "      <td>0.075</td>\n",
       "    </tr>\n",
       "    <tr>\n",
       "      <th>salario</th>\n",
       "      <td>0.266667</td>\n",
       "      <td>-1.833333e-01</td>\n",
       "      <td>0.083</td>\n",
       "    </tr>\n",
       "    <tr>\n",
       "      <th>codsecao_gerencia_contagion</th>\n",
       "      <td>0.275000</td>\n",
       "      <td>-1.583333e-01</td>\n",
       "      <td>0.117</td>\n",
       "    </tr>\n",
       "    <tr>\n",
       "      <th>tempo_de_casa</th>\n",
       "      <td>0.083333</td>\n",
       "      <td>8.333333e-02</td>\n",
       "      <td>0.167</td>\n",
       "    </tr>\n",
       "    <tr>\n",
       "      <th>ord_faixa_tempo_casa</th>\n",
       "      <td>0.633333</td>\n",
       "      <td>-3.833333e-01</td>\n",
       "      <td>0.250</td>\n",
       "    </tr>\n",
       "  </tbody>\n",
       "</table>\n",
       "</div>"
      ],
      "text/plain": [
       "true                                                       0             1  \\\n",
       "variable                                                                     \n",
       "engineer_merit_indexes                             -0.025000  1.666667e-02   \n",
       "VP_descricao_VICEPRESIDENCIADEINOVACAOESERVDIGI...  0.058333 -5.000000e-02   \n",
       "corraca_descricao_Parda                             0.016667 -8.333333e-03   \n",
       "corraca_descricao_Preta                            -0.000000  8.333333e-03   \n",
       "filial_descricao_AFYA                              -0.000000  8.333333e-03   \n",
       "VP_descricao_VICEPRESIDENCIADEMERCADO               0.041667 -2.500000e-02   \n",
       "engineer_promotion_indexes                          0.075000 -4.166667e-02   \n",
       "funcao_descricao_clean_proportion_contagion         0.066667 -2.500000e-02   \n",
       "idade                                               0.141667 -1.000000e-01   \n",
       "genero                                              0.066667  1.156482e-17   \n",
       "codsecao_gerencia_proportion_contagion              0.083333 -8.333333e-03   \n",
       "funcao_descricao_clean_contagion                    0.033333  4.166667e-02   \n",
       "salario                                             0.266667 -1.833333e-01   \n",
       "codsecao_gerencia_contagion                         0.275000 -1.583333e-01   \n",
       "tempo_de_casa                                       0.083333  8.333333e-02   \n",
       "ord_faixa_tempo_casa                                0.633333 -3.833333e-01   \n",
       "\n",
       "true                                                  dif  \n",
       "variable                                                   \n",
       "engineer_merit_indexes                             -0.008  \n",
       "VP_descricao_VICEPRESIDENCIADEINOVACAOESERVDIGI...  0.008  \n",
       "corraca_descricao_Parda                             0.008  \n",
       "corraca_descricao_Preta                             0.008  \n",
       "filial_descricao_AFYA                               0.008  \n",
       "VP_descricao_VICEPRESIDENCIADEMERCADO               0.017  \n",
       "engineer_promotion_indexes                          0.033  \n",
       "funcao_descricao_clean_proportion_contagion         0.042  \n",
       "idade                                               0.042  \n",
       "genero                                              0.067  \n",
       "codsecao_gerencia_proportion_contagion              0.075  \n",
       "funcao_descricao_clean_contagion                    0.075  \n",
       "salario                                             0.083  \n",
       "codsecao_gerencia_contagion                         0.117  \n",
       "tempo_de_casa                                       0.167  \n",
       "ord_faixa_tempo_casa                                0.250  "
      ]
     },
     "execution_count": 116,
     "metadata": {},
     "output_type": "execute_result"
    }
   ],
   "source": [
    "X_test_analysis_trat = X_test_analysis[['true']]\n",
    "\n",
    "shap_final = pd.concat([shap_analyze, X_test_analysis_trat], axis=1  )\n",
    "\n",
    "shap_final_trat = pd.melt(shap_final, id_vars=['true']).groupby(['true', 'variable']).median().reset_index()\n",
    "\n",
    "index_true = shap_final_trat['true'] == 0\n",
    "\n",
    "shap_final_trat.loc[index_true, 'value'] = shap_final_trat[index_true]*-1\n",
    "\n",
    "shap_final_trat.loc[:, 'value'] = shap_final_trat.loc[:, 'value']*10\n",
    "\n",
    "shap_final_trat = shap_final_trat.sort_values('value', ascending=False)\n",
    "\n",
    "shap_final_trat = shap_final_trat.pivot(index='variable', columns='true')['value']\n",
    "\n",
    "shap_final_trat = shap_final_trat.reindex()\n",
    "\n",
    "shap_final_trat['dif'] = np.round(shap_final_trat[0] + shap_final_trat[1],3)\n",
    "\n",
    "feature_shap_selection = shap_final_trat[shap_final_trat.dif != 0].sort_values('dif')\n",
    "\n",
    "feature_shap_selection"
   ]
  },
  {
   "cell_type": "code",
   "execution_count": 124,
   "id": "1dd8b1e1-2af8-4d82-ada7-994b6bbfdbd9",
   "metadata": {
    "canvas": {
     "comments": [],
     "componentType": "CodeCell",
     "copiedOriginId": null,
     "diskcache": false,
     "headerColor": "inherit",
     "id": "a6001fef-b609-4bfa-8b80-36078a767df8",
     "isComponent": false,
     "name": "",
     "parents": []
    }
   },
   "outputs": [],
   "source": [
    "a = ['tipo_filial_DIGITAL', 'filial_descricao_AFYA',\n",
    "       'genero',\n",
    "       'engineer_merit_indexes',\n",
    "       'codsecao_gerencia_contagion',\n",
    "       'salario', 'funcao_descricao_clean_contagion',\n",
    "       'tempo_de_casa', 'engineer_promotion_indexes']"
   ]
  },
  {
   "cell_type": "code",
   "execution_count": 125,
   "id": "6b1fd4de-8c93-4fdc-a4e0-08b04a152650",
   "metadata": {
    "canvas": {
     "comments": [],
     "componentType": "CodeCell",
     "copiedOriginId": null,
     "diskcache": false,
     "headerColor": "inherit",
     "id": "1bc393d7-dd2b-4460-ac0c-6f8df2be2467",
     "isComponent": false,
     "name": "",
     "parents": []
    }
   },
   "outputs": [
    {
     "data": {
      "text/html": [
       "<div>\n",
       "<style scoped>\n",
       "    .dataframe tbody tr th:only-of-type {\n",
       "        vertical-align: middle;\n",
       "    }\n",
       "\n",
       "    .dataframe tbody tr th {\n",
       "        vertical-align: top;\n",
       "    }\n",
       "\n",
       "    .dataframe thead th {\n",
       "        text-align: right;\n",
       "    }\n",
       "</style>\n",
       "<table border=\"1\" class=\"dataframe\">\n",
       "  <thead>\n",
       "    <tr style=\"text-align: right;\">\n",
       "      <th>true</th>\n",
       "      <th>0</th>\n",
       "      <th>1</th>\n",
       "      <th>dif</th>\n",
       "    </tr>\n",
       "    <tr>\n",
       "      <th>variable</th>\n",
       "      <th></th>\n",
       "      <th></th>\n",
       "      <th></th>\n",
       "    </tr>\n",
       "  </thead>\n",
       "  <tbody>\n",
       "    <tr>\n",
       "      <th>engineer_merit_indexes</th>\n",
       "      <td>-0.025000</td>\n",
       "      <td>1.666667e-02</td>\n",
       "      <td>-0.008</td>\n",
       "    </tr>\n",
       "    <tr>\n",
       "      <th>filial_descricao_AFYA</th>\n",
       "      <td>-0.000000</td>\n",
       "      <td>8.333333e-03</td>\n",
       "      <td>0.008</td>\n",
       "    </tr>\n",
       "    <tr>\n",
       "      <th>engineer_promotion_indexes</th>\n",
       "      <td>0.075000</td>\n",
       "      <td>-4.166667e-02</td>\n",
       "      <td>0.033</td>\n",
       "    </tr>\n",
       "    <tr>\n",
       "      <th>genero</th>\n",
       "      <td>0.066667</td>\n",
       "      <td>1.156482e-17</td>\n",
       "      <td>0.067</td>\n",
       "    </tr>\n",
       "    <tr>\n",
       "      <th>funcao_descricao_clean_contagion</th>\n",
       "      <td>0.033333</td>\n",
       "      <td>4.166667e-02</td>\n",
       "      <td>0.075</td>\n",
       "    </tr>\n",
       "    <tr>\n",
       "      <th>salario</th>\n",
       "      <td>0.266667</td>\n",
       "      <td>-1.833333e-01</td>\n",
       "      <td>0.083</td>\n",
       "    </tr>\n",
       "    <tr>\n",
       "      <th>codsecao_gerencia_contagion</th>\n",
       "      <td>0.275000</td>\n",
       "      <td>-1.583333e-01</td>\n",
       "      <td>0.117</td>\n",
       "    </tr>\n",
       "    <tr>\n",
       "      <th>tempo_de_casa</th>\n",
       "      <td>0.083333</td>\n",
       "      <td>8.333333e-02</td>\n",
       "      <td>0.167</td>\n",
       "    </tr>\n",
       "  </tbody>\n",
       "</table>\n",
       "</div>"
      ],
      "text/plain": [
       "true                                     0             1    dif\n",
       "variable                                                       \n",
       "engineer_merit_indexes           -0.025000  1.666667e-02 -0.008\n",
       "filial_descricao_AFYA            -0.000000  8.333333e-03  0.008\n",
       "engineer_promotion_indexes        0.075000 -4.166667e-02  0.033\n",
       "genero                            0.066667  1.156482e-17  0.067\n",
       "funcao_descricao_clean_contagion  0.033333  4.166667e-02  0.075\n",
       "salario                           0.266667 -1.833333e-01  0.083\n",
       "codsecao_gerencia_contagion       0.275000 -1.583333e-01  0.117\n",
       "tempo_de_casa                     0.083333  8.333333e-02  0.167"
      ]
     },
     "execution_count": 125,
     "metadata": {},
     "output_type": "execute_result"
    }
   ],
   "source": [
    "feature_shap_selection[feature_shap_selection.index.isin(a)]"
   ]
  },
  {
   "cell_type": "code",
   "execution_count": null,
   "id": "ac5749b8-41df-4460-a906-ebc61f8fd47a",
   "metadata": {
    "canvas": {
     "comments": [],
     "componentType": "CodeCell",
     "copiedOriginId": null,
     "diskcache": false,
     "headerColor": "inherit",
     "id": "c1cb2f29-eb0c-4c6f-b8e8-eddea57c96cb",
     "isComponent": false,
     "name": "",
     "parents": []
    }
   },
   "outputs": [],
   "source": [
    "['tipo_filial_DIGITAL', 'VP_descricao_VICEPRESIDENCIADESERVICOSDIGITAIS',\n",
    "       'filial_descricao_AFYA', 'VP_descricao_VICEPRESIDENCIADEMERCADO',\n",
    "       'genero', 'corraca_descricao_Branca',\n",
    "       'VP_descricao_VICEPRESIDENCIADEINOVACAOESERVDIGITAIS',\n",
    "       'funcao_descricao_clean_proportion_contagion', 'engineer_merit_indexes',\n",
    "       'codsecao_gerencia_proportion_contagion', 'codsecao_gerencia_contagion',\n",
    "       'salario', 'funcao_descricao_clean_contagion', 'ord_faixa_tempo_casa',\n",
    "       'tempo_de_casa', 'engineer_promotion_indexes']"
   ]
  },
  {
   "cell_type": "code",
   "execution_count": 138,
   "id": "63adc98e-349a-4d40-9043-7587ed4c3b8e",
   "metadata": {
    "canvas": {
     "comments": [],
     "componentType": "CodeCell",
     "copiedOriginId": null,
     "diskcache": false,
     "headerColor": "inherit",
     "id": "b92fccc0-7bb1-4c27-a1a0-f5642df563ac",
     "isComponent": true,
     "name": "Yellowbricks threshold",
     "parents": [
      {
       "id": "5fc0c45d-b30d-4092-b717-eeaf44c5e2c7",
       "name": "Final model params"
      }
     ]
    },
    "tags": []
   },
   "outputs": [
    {
     "data": {
      "image/png": "[encoded data removed]",
      "text/plain": [
       "<Figure size 576x396 with 1 Axes>"
      ]
     },
     "metadata": {},
     "output_type": "display_data"
    },
    {
     "data": {
      "text/plain": [
       "<AxesSubplot:title={'center':'Threshold Plot for XGBClassifier'}, xlabel='discrimination threshold', ylabel='score'>"
      ]
     },
     "execution_count": 138,
     "metadata": {},
     "output_type": "execute_result"
    }
   ],
   "source": [
    "from yellowbrick.classifier import DiscriminationThreshold\n",
    "\n",
    "\n",
    "# Instantiate the classification model and visualizer\n",
    "model = XGBClassifier(use_label_encoder=False, verbosity=0, **params)\n",
    "visualizer = DiscriminationThreshold(model)\n",
    "\n",
    "visualizer.fit(X_train_final, y_train_final)        # Fit the data to the visualizer\n",
    "visualizer.show()           # Finalize and render the figure"
   ]
  },
  {
   "cell_type": "code",
   "execution_count": 26,
   "id": "4b407308-0571-4992-a86b-7fcb99270a3e",
   "metadata": {
    "canvas": {
     "comments": [],
     "componentType": "CodeCell",
     "copiedOriginId": null,
     "diskcache": false,
     "headerColor": "inherit",
     "id": "e8288067-3467-4652-ad40-782306573788",
     "isComponent": true,
     "name": "Validation Curve",
     "parents": [
      {
       "id": "b92fccc0-7bb1-4c27-a1a0-f5642df563ac",
       "name": "Yellowbricks threshold"
      }
     ]
    },
    "tags": []
   },
   "outputs": [
    {
     "ename": "MRXLinkPipelineError",
     "evalue": "Failed at component 'Validation Curve'.",
     "output_type": "error",
     "traceback": [
      "\u001b[1;31m---------------------------------------------------------------------------\u001b[0m",
      "\u001b[1;31mValueError\u001b[0m                                Traceback (most recent call last)",
      "File \u001b[1;32m~\\.cache\\mrx-link\\executors\\executor_nds5wkwc.py:76\u001b[0m, in \u001b[0;36mrun_cell_code\u001b[1;34m(_kwargs)\u001b[0m\n\u001b[0;32m     74\u001b[0m \u001b[38;5;28;01mfrom\u001b[39;00m \u001b[38;5;21;01myellowbrick\u001b[39;00m\u001b[38;5;21;01m.\u001b[39;00m\u001b[38;5;21;01mmodel_selection\u001b[39;00m \u001b[38;5;28;01mimport\u001b[39;00m validation_curve\n\u001b[1;32m---> 76\u001b[0m viz \u001b[38;5;241m=\u001b[39m \u001b[43mvalidation_curve\u001b[49m\u001b[43m(\u001b[49m\n\u001b[0;32m     77\u001b[0m \u001b[43m    \u001b[49m\u001b[43mxgb\u001b[49m\u001b[43m,\u001b[49m\u001b[43m \u001b[49m\u001b[43mX_train_final\u001b[49m\u001b[43m,\u001b[49m\u001b[43m \u001b[49m\u001b[43my_train_final\u001b[49m\u001b[43m,\u001b[49m\u001b[43m \u001b[49m\u001b[43mparam_name\u001b[49m\u001b[38;5;241;43m=\u001b[39;49m\u001b[38;5;124;43m\"\u001b[39;49m\u001b[38;5;124;43mgamma\u001b[39;49m\u001b[38;5;124;43m\"\u001b[39;49m\u001b[43m,\u001b[49m\u001b[43m \u001b[49m\u001b[43mparam_range\u001b[49m\u001b[38;5;241;43m=\u001b[39;49m\u001b[43mnp\u001b[49m\u001b[38;5;241;43m.\u001b[39;49m\u001b[43marange\u001b[49m\u001b[43m(\u001b[49m\u001b[38;5;241;43m1\u001b[39;49m\u001b[43m,\u001b[49m\u001b[43m \u001b[49m\u001b[38;5;241;43m7\u001b[39;49m\u001b[43m)\u001b[49m\u001b[43m,\u001b[49m\u001b[43m \u001b[49m\u001b[43mcv\u001b[49m\u001b[38;5;241;43m=\u001b[39;49m\u001b[38;5;241;43m10\u001b[39;49m\u001b[43m,\u001b[49m\u001b[43m \u001b[49m\u001b[43mscoring\u001b[49m\u001b[38;5;241;43m=\u001b[39;49m\u001b[38;5;124;43m\"\u001b[39;49m\u001b[38;5;124;43mf1\u001b[39;49m\u001b[38;5;124;43m\"\u001b[39;49m\n\u001b[0;32m     78\u001b[0m \u001b[43m\u001b[49m\u001b[43m)\u001b[49m\n",
      "File \u001b[1;32m~\\anaconda3\\lib\\site-packages\\yellowbrick\\model_selection\\validation_curve.py:422\u001b[0m, in \u001b[0;36mvalidation_curve\u001b[1;34m(estimator, X, y, param_name, param_range, ax, logx, groups, cv, scoring, n_jobs, pre_dispatch, show, markers, **kwargs)\u001b[0m\n\u001b[0;32m    421\u001b[0m \u001b[38;5;66;03m# Fit the visualizer\u001b[39;00m\n\u001b[1;32m--> 422\u001b[0m \u001b[43moz\u001b[49m\u001b[38;5;241;43m.\u001b[39;49m\u001b[43mfit\u001b[49m\u001b[43m(\u001b[49m\u001b[43mX\u001b[49m\u001b[43m,\u001b[49m\u001b[43m \u001b[49m\u001b[43my\u001b[49m\u001b[43m)\u001b[49m\n\u001b[0;32m    424\u001b[0m \u001b[38;5;66;03m# Draw final visualization\u001b[39;00m\n",
      "File \u001b[1;32m~\\anaconda3\\lib\\site-packages\\yellowbrick\\model_selection\\validation_curve.py:233\u001b[0m, in \u001b[0;36mValidationCurve.fit\u001b[1;34m(self, X, y)\u001b[0m\n\u001b[0;32m    232\u001b[0m \u001b[38;5;66;03m# compute the validation curve and store scores\u001b[39;00m\n\u001b[1;32m--> 233\u001b[0m curve \u001b[38;5;241m=\u001b[39m sk_validation_curve(\u001b[38;5;28mself\u001b[39m\u001b[38;5;241m.\u001b[39mestimator, X, y, \u001b[38;5;241m*\u001b[39m\u001b[38;5;241m*\u001b[39mskvc_kwargs)\n\u001b[0;32m    234\u001b[0m \u001b[38;5;28mself\u001b[39m\u001b[38;5;241m.\u001b[39mtrain_scores_, \u001b[38;5;28mself\u001b[39m\u001b[38;5;241m.\u001b[39mtest_scores_ \u001b[38;5;241m=\u001b[39m curve\n",
      "File \u001b[1;32m~\\anaconda3\\lib\\site-packages\\sklearn\\model_selection\\_validation.py:1837\u001b[0m, in \u001b[0;36mvalidation_curve\u001b[1;34m(estimator, X, y, param_name, param_range, groups, cv, scoring, n_jobs, pre_dispatch, verbose, error_score, fit_params)\u001b[0m\n\u001b[0;32m   1836\u001b[0m parallel \u001b[38;5;241m=\u001b[39m Parallel(n_jobs\u001b[38;5;241m=\u001b[39mn_jobs, pre_dispatch\u001b[38;5;241m=\u001b[39mpre_dispatch, verbose\u001b[38;5;241m=\u001b[39mverbose)\n\u001b[1;32m-> 1837\u001b[0m results \u001b[38;5;241m=\u001b[39m \u001b[43mparallel\u001b[49m\u001b[43m(\u001b[49m\n\u001b[0;32m   1838\u001b[0m \u001b[43m    \u001b[49m\u001b[43mdelayed\u001b[49m\u001b[43m(\u001b[49m\u001b[43m_fit_and_score\u001b[49m\u001b[43m)\u001b[49m\u001b[43m(\u001b[49m\n\u001b[0;32m   1839\u001b[0m \u001b[43m        \u001b[49m\u001b[43mclone\u001b[49m\u001b[43m(\u001b[49m\u001b[43mestimator\u001b[49m\u001b[43m)\u001b[49m\u001b[43m,\u001b[49m\n\u001b[0;32m   1840\u001b[0m \u001b[43m        \u001b[49m\u001b[43mX\u001b[49m\u001b[43m,\u001b[49m\n\u001b[0;32m   1841\u001b[0m \u001b[43m        \u001b[49m\u001b[43my\u001b[49m\u001b[43m,\u001b[49m\n\u001b[0;32m   1842\u001b[0m \u001b[43m        \u001b[49m\u001b[43mscorer\u001b[49m\u001b[43m,\u001b[49m\n\u001b[0;32m   1843\u001b[0m \u001b[43m        \u001b[49m\u001b[43mtrain\u001b[49m\u001b[43m,\u001b[49m\n\u001b[0;32m   1844\u001b[0m \u001b[43m        \u001b[49m\u001b[43mtest\u001b[49m\u001b[43m,\u001b[49m\n\u001b[0;32m   1845\u001b[0m \u001b[43m        \u001b[49m\u001b[43mverbose\u001b[49m\u001b[43m,\u001b[49m\n\u001b[0;32m   1846\u001b[0m \u001b[43m        \u001b[49m\u001b[43mparameters\u001b[49m\u001b[38;5;241;43m=\u001b[39;49m\u001b[43m{\u001b[49m\u001b[43mparam_name\u001b[49m\u001b[43m:\u001b[49m\u001b[43m \u001b[49m\u001b[43mv\u001b[49m\u001b[43m}\u001b[49m\u001b[43m,\u001b[49m\n\u001b[0;32m   1847\u001b[0m \u001b[43m        \u001b[49m\u001b[43mfit_params\u001b[49m\u001b[38;5;241;43m=\u001b[39;49m\u001b[43mfit_params\u001b[49m\u001b[43m,\u001b[49m\n\u001b[0;32m   1848\u001b[0m \u001b[43m        \u001b[49m\u001b[43mreturn_train_score\u001b[49m\u001b[38;5;241;43m=\u001b[39;49m\u001b[38;5;28;43;01mTrue\u001b[39;49;00m\u001b[43m,\u001b[49m\n\u001b[0;32m   1849\u001b[0m \u001b[43m        \u001b[49m\u001b[43merror_score\u001b[49m\u001b[38;5;241;43m=\u001b[39;49m\u001b[43merror_score\u001b[49m\u001b[43m,\u001b[49m\n\u001b[0;32m   1850\u001b[0m \u001b[43m    \u001b[49m\u001b[43m)\u001b[49m\n\u001b[0;32m   1851\u001b[0m \u001b[43m    \u001b[49m\u001b[38;5;66;43;03m# NOTE do not change order of iteration to allow one time cv splitters\u001b[39;49;00m\n\u001b[0;32m   1852\u001b[0m \u001b[43m    \u001b[49m\u001b[38;5;28;43;01mfor\u001b[39;49;00m\u001b[43m \u001b[49m\u001b[43mtrain\u001b[49m\u001b[43m,\u001b[49m\u001b[43m \u001b[49m\u001b[43mtest\u001b[49m\u001b[43m \u001b[49m\u001b[38;5;129;43;01min\u001b[39;49;00m\u001b[43m \u001b[49m\u001b[43mcv\u001b[49m\u001b[38;5;241;43m.\u001b[39;49m\u001b[43msplit\u001b[49m\u001b[43m(\u001b[49m\u001b[43mX\u001b[49m\u001b[43m,\u001b[49m\u001b[43m \u001b[49m\u001b[43my\u001b[49m\u001b[43m,\u001b[49m\u001b[43m \u001b[49m\u001b[43mgroups\u001b[49m\u001b[43m)\u001b[49m\n\u001b[0;32m   1853\u001b[0m \u001b[43m    \u001b[49m\u001b[38;5;28;43;01mfor\u001b[39;49;00m\u001b[43m \u001b[49m\u001b[43mv\u001b[49m\u001b[43m \u001b[49m\u001b[38;5;129;43;01min\u001b[39;49;00m\u001b[43m \u001b[49m\u001b[43mparam_range\u001b[49m\n\u001b[0;32m   1854\u001b[0m \u001b[43m\u001b[49m\u001b[43m)\u001b[49m\n\u001b[0;32m   1855\u001b[0m n_params \u001b[38;5;241m=\u001b[39m \u001b[38;5;28mlen\u001b[39m(param_range)\n",
      "File \u001b[1;32m~\\anaconda3\\lib\\site-packages\\joblib\\parallel.py:968\u001b[0m, in \u001b[0;36mParallel.__call__\u001b[1;34m(self, iterable)\u001b[0m\n\u001b[0;32m    967\u001b[0m \u001b[38;5;28;01mif\u001b[39;00m \u001b[38;5;129;01mnot\u001b[39;00m \u001b[38;5;28mself\u001b[39m\u001b[38;5;241m.\u001b[39m_managed_backend:\n\u001b[1;32m--> 968\u001b[0m     n_jobs \u001b[38;5;241m=\u001b[39m \u001b[38;5;28;43mself\u001b[39;49m\u001b[38;5;241;43m.\u001b[39;49m\u001b[43m_initialize_backend\u001b[49m\u001b[43m(\u001b[49m\u001b[43m)\u001b[49m\n\u001b[0;32m    969\u001b[0m \u001b[38;5;28;01melse\u001b[39;00m:\n",
      "File \u001b[1;32m~\\anaconda3\\lib\\site-packages\\joblib\\parallel.py:735\u001b[0m, in \u001b[0;36mParallel._initialize_backend\u001b[1;34m(self)\u001b[0m\n\u001b[0;32m    734\u001b[0m \u001b[38;5;28;01mtry\u001b[39;00m:\n\u001b[1;32m--> 735\u001b[0m     n_jobs \u001b[38;5;241m=\u001b[39m \u001b[38;5;28mself\u001b[39m\u001b[38;5;241m.\u001b[39m_backend\u001b[38;5;241m.\u001b[39mconfigure(n_jobs\u001b[38;5;241m=\u001b[39m\u001b[38;5;28mself\u001b[39m\u001b[38;5;241m.\u001b[39mn_jobs, parallel\u001b[38;5;241m=\u001b[39m\u001b[38;5;28mself\u001b[39m,\n\u001b[0;32m    736\u001b[0m                                      \u001b[38;5;241m*\u001b[39m\u001b[38;5;241m*\u001b[39m\u001b[38;5;28mself\u001b[39m\u001b[38;5;241m.\u001b[39m_backend_args)\n\u001b[0;32m    737\u001b[0m     \u001b[38;5;28;01mif\u001b[39;00m \u001b[38;5;28mself\u001b[39m\u001b[38;5;241m.\u001b[39mtimeout \u001b[38;5;129;01mis\u001b[39;00m \u001b[38;5;129;01mnot\u001b[39;00m \u001b[38;5;28;01mNone\u001b[39;00m \u001b[38;5;129;01mand\u001b[39;00m \u001b[38;5;129;01mnot\u001b[39;00m \u001b[38;5;28mself\u001b[39m\u001b[38;5;241m.\u001b[39m_backend\u001b[38;5;241m.\u001b[39msupports_timeout:\n",
      "File \u001b[1;32m~\\anaconda3\\lib\\site-packages\\joblib\\_parallel_backends.py:489\u001b[0m, in \u001b[0;36mLokyBackend.configure\u001b[1;34m(self, n_jobs, parallel, prefer, require, idle_worker_timeout, **memmappingexecutor_args)\u001b[0m\n\u001b[0;32m    488\u001b[0m \u001b[38;5;124;03m\"\"\"Build a process executor and return the number of workers\"\"\"\u001b[39;00m\n\u001b[1;32m--> 489\u001b[0m n_jobs \u001b[38;5;241m=\u001b[39m \u001b[38;5;28;43mself\u001b[39;49m\u001b[38;5;241;43m.\u001b[39;49m\u001b[43meffective_n_jobs\u001b[49m\u001b[43m(\u001b[49m\u001b[43mn_jobs\u001b[49m\u001b[43m)\u001b[49m\n\u001b[0;32m    490\u001b[0m \u001b[38;5;28;01mif\u001b[39;00m n_jobs \u001b[38;5;241m==\u001b[39m \u001b[38;5;241m1\u001b[39m:\n",
      "File \u001b[1;32m~\\anaconda3\\lib\\site-packages\\joblib\\_parallel_backends.py:504\u001b[0m, in \u001b[0;36mLokyBackend.effective_n_jobs\u001b[1;34m(self, n_jobs)\u001b[0m\n\u001b[0;32m    503\u001b[0m \u001b[38;5;28;01mif\u001b[39;00m n_jobs \u001b[38;5;241m==\u001b[39m \u001b[38;5;241m0\u001b[39m:\n\u001b[1;32m--> 504\u001b[0m     \u001b[38;5;28;01mraise\u001b[39;00m \u001b[38;5;167;01mValueError\u001b[39;00m(\u001b[38;5;124m'\u001b[39m\u001b[38;5;124mn_jobs == 0 in Parallel has no meaning\u001b[39m\u001b[38;5;124m'\u001b[39m)\n\u001b[0;32m    505\u001b[0m \u001b[38;5;28;01melif\u001b[39;00m mp \u001b[38;5;129;01mis\u001b[39;00m \u001b[38;5;28;01mNone\u001b[39;00m \u001b[38;5;129;01mor\u001b[39;00m n_jobs \u001b[38;5;129;01mis\u001b[39;00m \u001b[38;5;28;01mNone\u001b[39;00m:\n\u001b[0;32m    506\u001b[0m     \u001b[38;5;66;03m# multiprocessing is not available or disabled, fallback\u001b[39;00m\n\u001b[0;32m    507\u001b[0m     \u001b[38;5;66;03m# to sequential mode\u001b[39;00m\n",
      "\u001b[1;31mValueError\u001b[0m: n_jobs == 0 in Parallel has no meaning",
      "\nThe above exception was the direct cause of the following exception:\n",
      "\u001b[1;31mMRXLinkPipelineError\u001b[0m: Failed at component 'Validation Curve'."
     ]
    },
    {
     "data": {
      "image/png": "[encoded data removed]",
      "text/plain": [
       "<Figure size 576x396 with 1 Axes>"
      ]
     },
     "metadata": {},
     "output_type": "display_data"
    }
   ],
   "source": [
    "from yellowbrick.model_selection import validation_curve\n",
    "\n",
    "viz = validation_curve(\n",
    "    xgb, X_train_final, y_train_final,\n",
    "    param_name= 'gamma',\n",
    "    param_range= np.arange(1,7),\n",
    "    cv=10, scoring='f1'\n",
    ")"
   ]
  },
  {
   "cell_type": "code",
   "execution_count": null,
   "id": "7a574e7a-2663-4248-a7ba-5665ba04eafb",
   "metadata": {
    "canvas": {
     "comments": [],
     "componentType": "CodeCell",
     "copiedOriginId": null,
     "diskcache": false,
     "headerColor": "inherit",
     "id": "c8fa1b75-b23c-4fd1-8f4a-a6c565a0621d",
     "isComponent": false,
     "name": "",
     "parents": []
    }
   },
   "outputs": [],
   "source": [
    "index = 0\n",
    "chosen_index = 0\n",
    "last_best = 0\n",
    "\n",
    "\n",
    "for i in visualizer.cv_scores_['precision'].tolist():\n",
    "    \n",
    "    if i > last_best:\n",
    "        last_best = i\n",
    "        chosen_index = index\n",
    "        consecutive_better = 0\n",
    "    else:\n",
    "        consecutive_better += 1\n",
    "        \n",
    "    if consecutive_better > 9:\n",
    "        break\n",
    "        \n",
    "    index += 1\n",
    "        \n",
    "print(str(last_best)+'/n'+ str(chosen_index))   \n",
    "\n",
    "print(str(visualizer.thresholds_[chosen_index]))"
   ]
  },
  {
   "cell_type": "code",
   "execution_count": 140,
   "id": "4608c941-2f54-411d-aab2-b1ab9af228cc",
   "metadata": {
    "canvas": {
     "comments": [],
     "componentType": "CodeCell",
     "copiedOriginId": null,
     "diskcache": false,
     "headerColor": "inherit",
     "id": "4eed2dda-4508-42ca-9d82-1d58c3b6a41d",
     "isComponent": true,
     "name": "Final model stats",
     "parents": [
      {
       "id": "5fc0c45d-b30d-4092-b717-eeaf44c5e2c7",
       "name": "Final model params"
      }
     ]
    },
    "tags": []
   },
   "outputs": [
    {
     "name": "stdout",
     "output_type": "stream",
     "text": [
      "Shuffle 100\r"
     ]
    }
   ],
   "source": [
    "X_dataset, y_dataset = X_optuna, y_optuna\n",
    "\n",
    "model = xgb\n",
    "\n",
    "evaluation = pd.DataFrame()\n",
    "\n",
    "assertiveness = pd.DataFrame()\n",
    "\n",
    "shf = ShuffleSplit(n_splits=100,test_size=0.3)\n",
    "\n",
    "count = 0\n",
    "\n",
    "for train_index, test_index in shf.split(X_dataset,y_dataset):\n",
    "\n",
    "        X_train, y_train  = X_dataset.iloc[train_index].copy(), y_dataset.iloc[train_index].copy()\n",
    "        X_test, y_test = X_dataset.iloc[test_index].copy(), y_dataset.iloc[test_index].copy()\n",
    "        \n",
    "        #Exclude if no oversample\n",
    "        #X_train, y_train = over_under.fit_resample(X_train, y_train)\n",
    "\n",
    "        model.fit(X_train,y_train)\n",
    "\n",
    "        probabilities = [round(x,2) for x in model.predict_proba(X_test)[:,-1]]\n",
    "        \n",
    "        evaluation = pd.concat([evaluation, useful_metrics(X_test, y_test, model, threshold)],ignore_index=True)\n",
    "        \n",
    "        assertiveness_rec = pd.DataFrame({'index':X_test.index, 'probabilities': probabilities, 'y_true': y_test})\n",
    "        \n",
    "        assertiveness = pd.concat([assertiveness, assertiveness_rec])\n",
    "        \n",
    "\n",
    "        count+=1\n",
    "        \n",
    "        print(\"Shuffle \" + str(count), end = \"\\r\")\n",
    "        \n",
    "assertiveness['correct'] = assertiveness.y_true == (assertiveness.probabilities > threshold)\n",
    "assertiveness['brier'] = abs(assertiveness.y_true - assertiveness.probabilities)\n",
    "assertiveness['precision'] = [y if x ==0 else np.nan for x,y in zip(assertiveness.y_true,assertiveness.correct)]\n",
    "assertiveness['recall'] = [y if x ==1 else np.nan for x,y in zip(assertiveness.y_true,assertiveness.correct)]\n",
    "        \n",
    "grouped_stats = assertiveness.groupby('index').agg(\n",
    "        avg_correct_percent =('correct', 'mean'),\n",
    "        avg_precision = ('precision', np.nanmean),\n",
    "        avg_recall = ('recall', np.nanmean),\n",
    "        std = ('brier', np.std),\n",
    "        brier = ('brier', np.mean),\n",
    "        count = ('brier', 'count')\n",
    "        )\n",
    "        \n",
    "X_dataset_stats = pd.merge(X_dataset,grouped_stats, left_index=True, right_index=True)\n",
    "\n",
    "X_dataset_stats = pd.merge(X_dataset_stats,pd.get_dummies(y_dataset, prefix='target'), left_index=True, right_index=True)\n"
   ]
  },
  {
   "cell_type": "code",
   "execution_count": 141,
   "id": "d401cbc1-1ce8-407b-9414-a9d26b48fe69",
   "metadata": {
    "canvas": {
     "comments": [],
     "componentType": "CodeCell",
     "copiedOriginId": null,
     "diskcache": false,
     "headerColor": "inherit",
     "id": "1dd18a01-147a-489b-941e-867a5fc7389b",
     "isComponent": true,
     "name": "Stats visualization",
     "parents": [
      {
       "id": "4eed2dda-4508-42ca-9d82-1d58c3b6a41d",
       "name": "Final model stats"
      }
     ]
    },
    "tags": []
   },
   "outputs": [
    {
     "data": {
      "image/png": "[encoded data removed]",
      "text/plain": [
       "<Figure size 576x396 with 1 Axes>"
      ]
     },
     "metadata": {},
     "output_type": "display_data"
    },
    {
     "data": {
      "text/plain": [
       "[Text(0, 0, 'f1_score'),\n",
       " Text(1, 0, 'recall_score'),\n",
       " Text(2, 0, 'precision_score'),\n",
       " Text(3, 0, 'brier_score_loss')]"
      ]
     },
     "execution_count": 141,
     "metadata": {},
     "output_type": "execute_result"
    }
   ],
   "source": [
    "duration = 1000  # milliseconds\n",
    "freq = 440# Hz\n",
    "winsound.Beep(freq, duration)\n",
    "ax = sns.boxplot(x='variable', y='value', data=pd.melt(evaluation))\n",
    "ax.set_xticklabels(ax.get_xticklabels(),rotation=30);"
   ]
  },
  {
   "cell_type": "code",
   "execution_count": null,
   "id": "de0d643a-cb73-40df-88d7-11999c9bf450",
   "metadata": {
    "canvas": {
     "comments": [],
     "componentType": "CodeCell",
     "copiedOriginId": null,
     "diskcache": true,
     "headerColor": "inherit",
     "id": "7122c816-b17e-4185-9c99-0fc03101be5b",
     "isComponent": true,
     "name": "Prepare X_holdout dataset",
     "parents": [
      {
       "id": "5fc0c45d-b30d-4092-b717-eeaf44c5e2c7",
       "name": "Final model params"
      },
      {
       "id": "ce04c155-4800-4dae-9253-501682182090",
       "name": "Holdout"
      }
     ]
    },
    "tags": []
   },
   "outputs": [],
   "source": [
    "X_holdout_final = final_transformation(X_holdout,feature_final, 0, 'N')"
   ]
  },
  {
   "cell_type": "code",
   "execution_count": 142,
   "id": "8e2ff7b6-2f1c-4b87-94f8-1bfe0fc3bbf0",
   "metadata": {
    "canvas": {
     "comments": [],
     "componentType": "CodeCell",
     "copiedOriginId": null,
     "diskcache": true,
     "headerColor": "inherit",
     "id": "54cd23f1-9a30-44d0-9ae0-d2e25a0baeb0",
     "isComponent": true,
     "name": "Final Results",
     "parents": [
      {
       "id": "7122c816-b17e-4185-9c99-0fc03101be5b",
       "name": "Prepare X_holdout dataset"
      }
     ]
    },
    "tags": []
   },
   "outputs": [],
   "source": [
    "xgb.fit(X_optuna, y_optuna)\n",
    "\n",
    "metrics_final = useful_metrics(X_holdout_final, y_holdout, xgb, threshold)\n",
    "\n",
    "confusion_matrix = metrics.confusion_matrix(\n",
    "    y_holdout, xgb.predict_proba(X_holdout_final)[:, -1] > threshold)\n",
    "\n",
    "tn, fp, fn, tp = confusion_matrix.ravel()\n",
    "specificity = tn / (tn+fp)"
   ]
  },
  {
   "cell_type": "code",
   "execution_count": 143,
   "id": "9e991c9d-066d-4126-90e2-4a560acff213",
   "metadata": {
    "canvas": {
     "comments": [],
     "componentType": "CodeCell",
     "copiedOriginId": null,
     "diskcache": false,
     "headerColor": "inherit",
     "id": "be46cbe8-0cef-4517-9fcf-3a087cbb0439",
     "isComponent": false,
     "name": "",
     "parents": []
    }
   },
   "outputs": [
    {
     "data": {
      "text/plain": [
       "<AxesSubplot:ylabel='Frequency'>"
      ]
     },
     "execution_count": 143,
     "metadata": {},
     "output_type": "execute_result"
    },
    {
     "data": {
      "image/png": "[encoded data removed]",
      "text/plain": [
       "<Figure size 576x396 with 1 Axes>"
      ]
     },
     "metadata": {},
     "output_type": "display_data"
    }
   ],
   "source": [
    "test = pd.DataFrame({'true': y_holdout, 'pred':xgb.predict_proba(X_holdout_final)[:, -1]})\n",
    "\n",
    "limit = 40\n",
    "bins = 50\n",
    "\n",
    "test[test.true==1].pred.plot.hist(bins=bins, ylim=(0,limit), fc=(0, 0, 1, 0.5), legend='Legend', label='Voluntary Attrition', yticks=np.arange(0,limit,2))\n",
    "test[test.true==0].pred.plot.hist(bins=bins, ylim=(0,limit), fc=(0, 0.4, 0.3, 0.5), legend='Legend', label='Active')"
   ]
  },
  {
   "cell_type": "code",
   "execution_count": 146,
   "id": "96938b6f-a5d3-41b9-96c7-28f3f674104e",
   "metadata": {
    "canvas": {
     "comments": [],
     "componentType": "CodeCell",
     "copiedOriginId": null,
     "diskcache": true,
     "headerColor": "inherit",
     "id": "2b54670b-7be3-4478-a89c-0fb50685bba2",
     "isComponent": true,
     "name": "Confusion Matrix",
     "parents": [
      {
       "id": "54cd23f1-9a30-44d0-9ae0-d2e25a0baeb0",
       "name": "Final Results"
      }
     ]
    },
    "tags": []
   },
   "outputs": [
    {
     "data": {
      "image/png": "[encoded data removed]",
      "text/plain": [
       "<Figure size 576x396 with 2 Axes>"
      ]
     },
     "metadata": {},
     "output_type": "display_data"
    }
   ],
   "source": [
    "cm_display = metrics.ConfusionMatrixDisplay(confusion_matrix=confusion_matrix)\n",
    "\n",
    "cm_display.plot()\n",
    "plt.grid(False)\n",
    "plt.show()"
   ]
  },
  {
   "cell_type": "code",
   "execution_count": 150,
   "id": "bf723e0a-464e-47d4-b8aa-866a9fba57ed",
   "metadata": {
    "canvas": {
     "comments": [],
     "componentType": "CodeCell",
     "copiedOriginId": null,
     "diskcache": true,
     "headerColor": "inherit",
     "id": "4b0268ef-ea00-4441-a8ad-58cdb5372c28",
     "isComponent": true,
     "name": "Laymans Results",
     "parents": [
      {
       "id": "2b54670b-7be3-4478-a89c-0fb50685bba2",
       "name": "Confusion Matrix"
      }
     ]
    },
    "tags": []
   },
   "outputs": [
    {
     "name": "stdout",
     "output_type": "stream",
     "text": [
      "O teste final do modelo conseguiu capturar 46.0% (12 pessoa(s)) que iriam sair.\n",
      "    \n",
      "O custo desse tipo de predição foi de 0.7%.\n",
      "     Resumindo, o modelo previu que 1 pessoa(s) da base iria sair, mas não saiu...\n",
      "\n",
      "    Excelente notícia!!!!\n"
     ]
    }
   ],
   "source": [
    "print(f\"O teste final do modelo conseguiu capturar {round(metrics_final['recall_score'][0]*100,2)}% ({tp} pessoa(s)) que iriam sair.\\n\")\n",
    "\n",
    "print(f'O custo desse tipo de predição foi de {round(100-specificity*100,1)}%.\\n Resumindo, o modelo previu que {fp} pessoa(s) da base iria sair, mas não saiu...')\n",
    "\n",
    "print('\\nExcelente notícia!!!!')\n",
    "\n",
    "\n",
    "\n",
    "duration = 1000  # milliseconds\n",
    "freq = 440  # Hz\n",
    "winsound.Beep(freq, duration)\n"
   ]
  },
  {
   "cell_type": "code",
   "execution_count": 152,
   "id": "f7070fe8-7c1b-4105-ac04-9f7bc46ee706",
   "metadata": {
    "canvas": {
     "comments": [],
     "componentType": "CodeCell",
     "copiedOriginId": null,
     "diskcache": false,
     "headerColor": "inherit",
     "id": "2b107a46-0cd0-49cb-9e5f-9a88fd5f07ca",
     "isComponent": true,
     "name": "Save Model",
     "parents": [
      {
       "id": "4b0268ef-ea00-4441-a8ad-58cdb5372c28",
       "name": "Laymans Results"
      }
     ]
    },
    "tags": []
   },
   "outputs": [],
   "source": [
    "dump(xgb, open('turnover_general_model.pkl', 'wb'))\n",
    "\n",
    "dump(threshold, open('threshold.pkl', 'wb'))"
   ]
  }
 ],
 "metadata": {
  "canvas": {
   "colorPalette": [
    "inherit",
    "inherit",
    "inherit",
    "inherit",
    "inherit",
    "inherit",
    "inherit",
    "inherit",
    "inherit",
    "inherit"
   ],
   "parameters": [],
   "version": "1.0"
  },
  "kernelspec": {
   "display_name": "Python 3 (ipykernel)",
   "language": "python",
   "name": "python3"
  },
  "language_info": {
   "codemirror_mode": {
    "name": "ipython",
    "version": 3
   },
   "file_extension": ".py",
   "mimetype": "text/x-python",
   "name": "python",
   "nbconvert_exporter": "python",
   "pygments_lexer": "ipython3",
   "version": "3.9.12"
  },
  "vscode": {
   "interpreter": {
    "hash": "170b8c02c5d9a17f4c6e32a810ccf454aef4bd67e276acae3c871a0f5763d93e"
   }
  }
 },
 "nbformat": 4,
 "nbformat_minor": 5
}
