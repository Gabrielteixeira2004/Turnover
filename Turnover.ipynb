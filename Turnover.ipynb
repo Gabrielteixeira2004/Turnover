{
 "cells": [
  {
   "cell_type": "code",
   "execution_count": null,
   "id": "6ded8459-ac6b-4025-849d-5d737d4300b7",
   "metadata": {
    "canvas": {
     "comments": [],
     "componentType": "CodeCell",
     "copiedOriginId": null,
     "diskcache": false,
     "headerColor": "inherit",
     "id": "de981481-fc84-46dc-9c10-9367b39aca68",
     "isComponent": false,
     "name": "",
     "parents": []
    }
   },
   "outputs": [],
   "source": [
    "# This notebook's pipeline is managed through mrxlinx extension.\n",
    "# Looks like it's not organized, but in this extension shows \n",
    "# the whole pipeline correctly."
   ]
  },
  {
   "cell_type": "code",
   "execution_count": null,
   "id": "76f04b1b-f263-4a5c-ba37-f2f8464b6f7f",
   "metadata": {
    "canvas": {
     "comments": [],
     "componentType": "CodeCell",
     "copiedOriginId": null,
     "diskcache": true,
     "headerColor": "none",
     "id": "74e47343-3dbf-44f8-8228-e584f90a0e16",
     "isComponent": true,
     "name": "Import libs",
     "parents": []
    },
    "tags": []
   },
   "outputs": [],
   "source": [
    "import pandas as pd\n",
    "import numpy as np\n",
    "import polars as pl\n",
    "from pickle import dump, load\n",
    "import itertools\n",
    "import winsound\n",
    "\n",
    "import Custom_Tools\n",
    "from sksurv.nonparametric import kaplan_meier_estimator\n",
    "from target_definition_polars import target_definition_polars\n",
    "from drop_turnover import drop_turnover\n",
    "from preprocess_turnover import preprocess_turnover\n",
    "from scale_dataset import scale_dataset\n",
    "from final_transformation import final_transformation\n",
    "\n",
    "\n",
    "from sklearn.model_selection import train_test_split, StratifiedKFold, ShuffleSplit\n",
    "from sklearn.preprocessing import MinMaxScaler\n",
    "from sklearn.feature_selection import chi2, f_classif, mutual_info_classif\n",
    "\n",
    "\n",
    "from imblearn.over_sampling import ADASYN\n",
    "from sklearn.ensemble import RandomForestClassifier, ExtraTreesClassifier\n",
    "from sklearn.linear_model import LogisticRegression\n",
    "from lightgbm import LGBMClassifier\n",
    "from xgboost import XGBClassifier\n",
    "from catboost import CatBoostClassifier\n",
    "from sklearn.naive_bayes import GaussianNB\n",
    "from sklearn import metrics\n",
    "\n",
    "import optuna\n",
    "\n",
    "import plotly.express as px\n",
    "import seaborn as sns\n",
    "import matplotlib.pyplot as plt\n",
    "import shap\n",
    "\n",
    "\n"
   ]
  },
  {
   "cell_type": "code",
   "execution_count": null,
   "id": "1f8b59bc-7c49-44cc-a7b3-855119a3e9f3",
   "metadata": {
    "canvas": {
     "comments": [],
     "componentType": "CodeCell",
     "copiedOriginId": null,
     "diskcache": true,
     "headerColor": "inherit",
     "id": "f4e84cf3-2314-400d-8d85-f6c630928b76",
     "isComponent": true,
     "name": "Path",
     "parents": [
      {
       "id": "74e47343-3dbf-44f8-8228-e584f90a0e16",
       "name": "Import libs"
      }
     ]
    },
    "tags": []
   },
   "outputs": [],
   "source": [
    "path = 'C:/Users/Gabriel.Gomes/Downloads/Turnover/23-01-16/'"
   ]
  },
  {
   "cell_type": "code",
   "execution_count": null,
   "id": "534d67e1-9df1-42f9-aa4a-fb99829430f6",
   "metadata": {
    "canvas": {
     "comments": [],
     "componentType": "CodeCell",
     "copiedOriginId": null,
     "diskcache": false,
     "headerColor": "inherit",
     "id": "8e431cdc-4bbd-41ad-889d-c59c578e9741",
     "isComponent": true,
     "name": "Convert to parquet",
     "parents": [
      {
       "id": "f4e84cf3-2314-400d-8d85-f6c630928b76",
       "name": "Path"
      }
     ]
    },
    "tags": []
   },
   "outputs": [],
   "source": [
    "df_pd = pd.read_excel(path + 'Análise_Headcount.xlsx')\n",
    "df_pd.astype(str).to_parquet(path + 'Análise_Headcount.parquet', index=False)\n",
    "\n",
    "df_mov_pd = pd.read_excel(path + 'Movimentações.xlsx')\n",
    "df_mov_pd['dtmudanca'] = df_mov_pd.dtmudanca.dt.date\n",
    "df_mov_pd = df_mov_pd[df_mov_pd.descricao.isin(['MÉRITO', 'PROMOÇÃO'])]\n",
    "df_mov_pd.astype(str).to_parquet(path + 'Movimentações.parquet', index=False)\n",
    "\n",
    "\n",
    "duration = 1000  # milliseconds\n",
    "freq = 440  # Hz\n",
    "winsound.Beep(freq, duration)"
   ]
  },
  {
   "cell_type": "code",
   "execution_count": null,
   "id": "b8f7e0c9-66b9-4228-b072-38660cee58b0",
   "metadata": {
    "canvas": {
     "comments": [],
     "componentType": "CodeCell",
     "copiedOriginId": null,
     "diskcache": true,
     "headerColor": "none",
     "id": "df37f106-a4ff-49cb-9f22-c550f0812b37",
     "isComponent": true,
     "name": "First dataset",
     "parents": [
      {
       "id": "f4e84cf3-2314-400d-8d85-f6c630928b76",
       "name": "Path"
      }
     ]
    },
    "tags": []
   },
   "outputs": [],
   "source": [
    "df = pl.read_parquet(path + 'Análise_Headcount.parquet')\n",
    "df_mov = pl.read_parquet(path + 'Movimentações.parquet')\n",
    "\n",
    "'''\n",
    "Adicionar tipo de função (Gestor, não gestor)\n",
    "Salário, méritos e promoções\n",
    "Pulses\n",
    "\n",
    "\n",
    "'''"
   ]
  },
  {
   "cell_type": "code",
   "execution_count": null,
   "id": "f18c6d37-ff07-4e0e-b995-9abfecf1e212",
   "metadata": {
    "canvas": {
     "comments": [],
     "componentType": "CodeCell",
     "copiedOriginId": null,
     "diskcache": false,
     "headerColor": "inherit",
     "id": "606f4556-0b33-4952-a6e1-8f69796bc173",
     "isComponent": false,
     "name": "",
     "parents": []
    }
   },
   "outputs": [],
   "source": [
    "df.columns"
   ]
  },
  {
   "cell_type": "code",
   "execution_count": null,
   "id": "c480e075-3d01-4a2e-9a8f-8d706d663cac",
   "metadata": {
    "canvas": {
     "comments": [],
     "componentType": "CodeCell",
     "copiedOriginId": null,
     "diskcache": false,
     "headerColor": "inherit",
     "id": "651d005e-5f45-4ca8-96ed-50c5783a308d",
     "isComponent": true,
     "name": "Survival analysis preparation",
     "parents": [
      {
       "id": "df37f106-a4ff-49cb-9f22-c550f0812b37",
       "name": "First dataset"
      }
     ]
    },
    "tags": []
   },
   "outputs": [],
   "source": [
    "# Needs to be fixed, target_definition is excluding more than 1 year dismissals\n",
    "\n",
    "df_surv = target_definition(df, 'tipo_colaborador', 'CLT')\n",
    "df_surv = df_surv[(df_surv.tempo_de_casa > 0) & (df_surv.tempo_de_casa < 62)]\n",
    "df_surv.loc[df_surv.tipo_função == 'Docente','tipo_filial'] = 'DOCENTE'"
   ]
  },
  {
   "cell_type": "code",
   "execution_count": null,
   "id": "0d6e02ca-860d-4d51-82ba-98b726464f1c",
   "metadata": {
    "canvas": {
     "comments": [],
     "componentType": "CodeCell",
     "copiedOriginId": null,
     "diskcache": false,
     "headerColor": "inherit",
     "id": "c5f37c46-43b7-4de0-ab93-060a818a308d",
     "isComponent": false,
     "name": "",
     "parents": []
    }
   },
   "outputs": [],
   "source": [
    "df_surv.cod"
   ]
  },
  {
   "cell_type": "code",
   "execution_count": null,
   "id": "a6485dd3-6aa4-4f8f-b999-d21d5b0a090d",
   "metadata": {
    "canvas": {
     "comments": [],
     "componentType": "CodeCell",
     "copiedOriginId": null,
     "diskcache": false,
     "headerColor": "inherit",
     "id": "7eb6e6b2-a7a3-487d-8ed9-b36c7d14bd2b",
     "isComponent": false,
     "name": "",
     "parents": []
    }
   },
   "outputs": [],
   "source": [
    "fig = px.histogram(df_surv, x=\"tempo_de_casa\",  color=\"desligado\", facet_col=\"corraca_descricao\", facet_row=\"escolaridade_classificação\",height=1500, width = 1000) # noqa E501\n",
    "fig.for_each_annotation(lambda a: a.update(text=a.text.split(\"=\")[-1]))\n",
    "\n",
    "for annotation in fig['layout']['annotations']: \n",
    "    annotation['textangle']= 25\n",
    "fig.show()"
   ]
  },
  {
   "cell_type": "code",
   "execution_count": null,
   "id": "6093e34e-2981-4754-86c2-05d6c3c05b4b",
   "metadata": {
    "canvas": {
     "comments": [],
     "componentType": "CodeCell",
     "copiedOriginId": null,
     "diskcache": false,
     "headerColor": "inherit",
     "id": "7d4bd98c-77e1-4ec1-96a6-ab0d4438efe2",
     "isComponent": false,
     "name": "",
     "parents": []
    }
   },
   "outputs": [],
   "source": [
    "g = sns.FacetGrid(data=df_surv, row=\"escolaridade_classificação\", col=\"corraca_descricao\", hue = 'desligado')\n",
    "\n",
    "\n",
    "g.map(sns.kdeplot, \"tempo_de_casa\", warn_singular=False);\n",
    "\n",
    "\n",
    "\n",
    "\n"
   ]
  },
  {
   "cell_type": "code",
   "execution_count": null,
   "id": "0c58bdda-a87b-4b90-912a-232f9829979c",
   "metadata": {
    "canvas": {
     "comments": [],
     "componentType": "CodeCell",
     "copiedOriginId": null,
     "diskcache": false,
     "headerColor": "inherit",
     "id": "d695fd5d-fedd-440a-933a-e6b09ae9902b",
     "isComponent": true,
     "name": "Generate plots",
     "parents": [
      {
       "id": "651d005e-5f45-4ca8-96ed-50c5783a308d",
       "name": "Survival analysis preparation"
      }
     ]
    },
    "tags": []
   },
   "outputs": [],
   "source": [
    "data_x = df_surv.copy()\n",
    "\n",
    "data_y = df_surv.desligado==1\n",
    "\n",
    "surv_days = data_x.tempo_de_casa\n",
    "\n",
    "analyze = ['tipo_filial','VP_descricao','genero', 'corraca_descricao']\n",
    "\n",
    "for i in analyze:\n",
    "\n",
    "    analisar = i\n",
    "\n",
    "    plt.figure(figsize=(12, 12), dpi=80)\n",
    "\n",
    "    for value in data_x[analisar].unique():\n",
    "        mask = data_x[analisar] == value\n",
    "        time_cell, survival_prob_cell = kaplan_meier_estimator(data_y[mask],\n",
    "                                                               surv_days[mask])\n",
    "        plt.step(time_cell, survival_prob_cell, where=\"post\",\n",
    "                 label=\"%s (n = %d)\" % (value, mask.sum()));\n",
    "\n",
    "    plt.ylabel(\"est. probability of survival $\\hat{S}(t)$\")\n",
    "    plt.xlabel(\"Months\")\n",
    "    plt.legend(loc=\"best\");\n"
   ]
  },
  {
   "cell_type": "code",
   "execution_count": null,
   "id": "cfc9b8e1-a680-4129-b02c-6d255ba3ac92",
   "metadata": {
    "canvas": {
     "comments": [],
     "componentType": "CodeCell",
     "copiedOriginId": null,
     "diskcache": true,
     "headerColor": "none",
     "id": "4dabbcf4-809d-4903-8e32-26279499c336",
     "isComponent": true,
     "name": "Target definition",
     "parents": [
      {
       "id": "df37f106-a4ff-49cb-9f22-c550f0812b37",
       "name": "First dataset"
      }
     ]
    },
    "tags": []
   },
   "outputs": [],
   "source": [
    "df_alvo = target_definition_polars(df, df_mov, 'tipo_colaborador', 'CLT')"
   ]
  },
  {
   "cell_type": "code",
   "execution_count": null,
   "id": "97a55ce4-4c67-424b-b88f-f9b0930c2e6c",
   "metadata": {
    "canvas": {
     "comments": [],
     "componentType": "CodeCell",
     "copiedOriginId": null,
     "diskcache": false,
     "headerColor": "inherit",
     "id": "75456744-c35f-4bf6-ab2d-c7ff4b742b69",
     "isComponent": false,
     "name": "",
     "parents": []
    }
   },
   "outputs": [],
   "source": []
  },
  {
   "cell_type": "code",
   "execution_count": null,
   "id": "d85c142c-b6b9-473d-9e1c-14f357ba17e3",
   "metadata": {
    "canvas": {
     "comments": [],
     "componentType": "CodeCell",
     "copiedOriginId": null,
     "diskcache": true,
     "headerColor": "none",
     "id": "ce04c155-4800-4dae-9253-501682182090",
     "isComponent": true,
     "name": "Holdout",
     "parents": [
      {
       "id": "4dabbcf4-809d-4903-8e32-26279499c336",
       "name": "Target definition"
      }
     ]
    },
    "tags": []
   },
   "outputs": [],
   "source": [
    "X, X_holdout, y, y_holdout = train_test_split(df_alvo.drop(['desligado'], axis=1), df_alvo['desligado'], test_size=0.1, random_state=42, stratify=df_alvo['desligado']) # noqa E501"
   ]
  },
  {
   "cell_type": "code",
   "execution_count": null,
   "id": "7dad1061-d3d7-496c-8e7d-b08358c8a11c",
   "metadata": {
    "canvas": {
     "comments": [],
     "componentType": "CodeCell",
     "copiedOriginId": null,
     "diskcache": false,
     "headerColor": "none",
     "id": "daf95a54-ce4c-46cc-92a8-93cafd7fbb64",
     "isComponent": true,
     "name": "Check proportions Holdout",
     "parents": [
      {
       "id": "ce04c155-4800-4dae-9253-501682182090",
       "name": "Holdout"
      }
     ]
    },
    "tags": []
   },
   "outputs": [],
   "source": [
    "print(y.value_counts()/y.shape[0])\n",
    "print(y_holdout.value_counts()/y_holdout.shape[0])"
   ]
  },
  {
   "cell_type": "code",
   "execution_count": null,
   "id": "c86e926d-9fb5-4e77-add2-0604e1269a2f",
   "metadata": {
    "canvas": {
     "comments": [],
     "componentType": "CodeCell",
     "copiedOriginId": null,
     "diskcache": true,
     "headerColor": "none",
     "id": "2c4a93db-e6d0-47c0-87ec-4a71151ad0e7",
     "isComponent": true,
     "name": "Train test",
     "parents": [
      {
       "id": "ce04c155-4800-4dae-9253-501682182090",
       "name": "Holdout"
      }
     ]
    },
    "tags": []
   },
   "outputs": [],
   "source": [
    "X_train, X_test, y_train, y_test = train_test_split(X, y, test_size=0.3, random_state=42, stratify=y) # noqa E501\n",
    "\n",
    "df_trat = X_train\n",
    "\n",
    "y_trat = y_train.loc[df_trat.index]\n",
    "\n"
   ]
  },
  {
   "cell_type": "code",
   "execution_count": null,
   "id": "c92ece53-d55c-4f48-804b-6d0274412855",
   "metadata": {
    "canvas": {
     "comments": [],
     "componentType": "CodeCell",
     "copiedOriginId": null,
     "diskcache": false,
     "headerColor": "none",
     "id": "55d86d91-0a4f-4b95-8f8b-30ade51cc1f3",
     "isComponent": true,
     "name": "Check proportion Train Test",
     "parents": [
      {
       "id": "2c4a93db-e6d0-47c0-87ec-4a71151ad0e7",
       "name": "Train test"
      }
     ]
    },
    "tags": []
   },
   "outputs": [],
   "source": [
    "print(y_train.value_counts()/y_train.shape[0])\n",
    "print(y_test.value_counts()/y_test.shape[0])"
   ]
  },
  {
   "cell_type": "code",
   "execution_count": null,
   "id": "56f7d231-9867-4613-8485-33fd9022da1a",
   "metadata": {
    "canvas": {
     "comments": [],
     "componentType": "CodeCell",
     "copiedOriginId": null,
     "diskcache": false,
     "headerColor": "inherit",
     "id": "d3a63656-d9e4-4200-80a2-ff1e529262ab",
     "isComponent": true,
     "name": "Averages for input",
     "parents": [
      {
       "id": "2c4a93db-e6d0-47c0-87ec-4a71151ad0e7",
       "name": "Train test"
      }
     ]
    },
    "tags": []
   },
   "outputs": [],
   "source": [
    "print(X_train.idade.mean())"
   ]
  },
  {
   "cell_type": "code",
   "execution_count": null,
   "id": "3aa753aa-6568-4e9c-968b-a4407dbfb90c",
   "metadata": {
    "canvas": {
     "comments": [],
     "componentType": "CodeCell",
     "copiedOriginId": null,
     "diskcache": true,
     "headerColor": "none",
     "id": "501b8112-a010-4f1a-9bed-41508f2b1acb",
     "isComponent": true,
     "name": "Drop and Preprocess",
     "parents": [
      {
       "id": "2c4a93db-e6d0-47c0-87ec-4a71151ad0e7",
       "name": "Train test"
      }
     ]
    },
    "tags": []
   },
   "outputs": [],
   "source": [
    "df_trat_drop = drop_turnover(df_trat)\n",
    "\n",
    "df_preprocess = preprocess_turnover(df_trat_drop)"
   ]
  },
  {
   "cell_type": "code",
   "execution_count": null,
   "id": "1552d95e-764b-4777-bd96-0fc04c75dba0",
   "metadata": {
    "canvas": {
     "comments": [],
     "componentType": "CodeCell",
     "copiedOriginId": null,
     "diskcache": false,
     "headerColor": "inherit",
     "id": "07418f20-7249-4065-945e-3e8298399c6e",
     "isComponent": false,
     "name": "",
     "parents": []
    }
   },
   "outputs": [],
   "source": [
    "teste = df_trat_drop.copy()\n",
    "\n",
    "for i in teste:\n",
    "    print(f'{i} - {teste[i].dtype}')"
   ]
  },
  {
   "cell_type": "code",
   "execution_count": null,
   "id": "a56d4749-fe21-47d8-a365-d908166d234f",
   "metadata": {
    "canvas": {
     "comments": [],
     "componentType": "CodeCell",
     "copiedOriginId": null,
     "diskcache": false,
     "headerColor": "none",
     "id": "953422cc-3fb0-4601-952c-2840da505de3",
     "isComponent": true,
     "name": "Engineer info",
     "parents": [
      {
       "id": "501b8112-a010-4f1a-9bed-41508f2b1acb",
       "name": "Drop and Preprocess"
      }
     ]
    },
    "tags": []
   },
   "outputs": [],
   "source": [
    "print(df_preprocess.columns)\n",
    "print(df_preprocess.shape)\n",
    "print(y_trat.shape)\n",
    "#print(pd.cut(df_trat_drop.salario, [0,5000,10000,15000,20000]).value_counts()/df_trat_drop.shape[0])\n",
    "print(df_preprocess.isnull().sum())\n",
    "\n",
    "duration = 1000  # milliseconds\n",
    "freq = 440  # Hz\n",
    "winsound.Beep(freq, duration)\n"
   ]
  },
  {
   "cell_type": "code",
   "execution_count": null,
   "id": "aaa7714d-cf10-458a-af19-a0cb814ff01f",
   "metadata": {
    "canvas": {
     "comments": [],
     "componentType": "CodeCell",
     "copiedOriginId": null,
     "diskcache": false,
     "headerColor": "inherit",
     "id": "9df4131d-be46-4d7a-92c7-efdeb3211dc6",
     "isComponent": false,
     "name": "",
     "parents": []
    }
   },
   "outputs": [],
   "source": [
    "df_preprocess.columns"
   ]
  },
  {
   "cell_type": "code",
   "execution_count": null,
   "id": "53cab566-272a-4e53-a721-57fda1a68f05",
   "metadata": {
    "canvas": {
     "comments": [],
     "componentType": "CodeCell",
     "copiedOriginId": null,
     "diskcache": false,
     "headerColor": "#FAFF00",
     "id": "719aa0e4-d5ec-44f6-a6c2-79117c96874e",
     "isComponent": true,
     "name": "Scaling fit",
     "parents": [
      {
       "id": "11d639e9-9f16-4840-9ca2-932561027791",
       "name": "Features selected and save"
      }
     ]
    },
    "tags": []
   },
   "outputs": [],
   "source": [
    "Scaler = MinMaxScaler((0,1))\n",
    "Scaler.fit(df_preprocess[feature_final])\n",
    "dump(Scaler, open('Scaler.pkl', 'wb'))"
   ]
  },
  {
   "cell_type": "code",
   "execution_count": null,
   "id": "36b4be8f-b02e-4130-95bf-201a206350dd",
   "metadata": {
    "canvas": {
     "comments": [],
     "componentType": "CodeCell",
     "copiedOriginId": null,
     "diskcache": false,
     "headerColor": "inherit",
     "id": "590a45d6-397a-4bb8-9351-c0bf299c598d",
     "isComponent": false,
     "name": "",
     "parents": []
    }
   },
   "outputs": [],
   "source": [
    "df_eng.loc[df_eng.filial_descricao.str.contains('IPEMED'), 'filial_descricao'] = 'IPEMED'\n",
    "\n",
    "df_eng.filial_descricao.unique()"
   ]
  },
  {
   "cell_type": "code",
   "execution_count": null,
   "id": "e13a076c-7a0d-4b35-b5a2-270b147ad1e6",
   "metadata": {
    "canvas": {
     "comments": [],
     "componentType": "CodeCell",
     "copiedOriginId": null,
     "diskcache": false,
     "headerColor": "inherit",
     "id": "962749c9-3724-4721-b0a4-a46d74b20aba",
     "isComponent": false,
     "name": "",
     "parents": []
    }
   },
   "outputs": [],
   "source": [
    "df_eng.filial_descricao.unique()"
   ]
  },
  {
   "cell_type": "code",
   "execution_count": null,
   "id": "9cb5e23d-1dde-486d-bcdb-34701629fca9",
   "metadata": {
    "canvas": {
     "comments": [],
     "componentType": "CodeCell",
     "copiedOriginId": null,
     "diskcache": false,
     "headerColor": "inherit",
     "id": "a7324ce3-3533-4319-82d0-3360324d7249",
     "isComponent": true,
     "name": "Hashing High Cardinality test",
     "parents": [
      {
       "id": "2c4a93db-e6d0-47c0-87ec-4a71151ad0e7",
       "name": "Train test"
      }
     ]
    },
    "tags": []
   },
   "outputs": [],
   "source": [
    "from sklearn.feature_extraction import FeatureHasher\n",
    "\n",
    "def useful_metrics(X_df, y_df, model, threshold=0.5):\n",
    "    evaluation = {}\n",
    "    \n",
    "    results = model.predict_proba(X_df)[:,-1]>threshold\n",
    "\n",
    "    base_metrics = [\n",
    "                metrics.f1_score,\n",
    "                metrics.recall_score,\n",
    "                metrics.precision_score,\n",
    "                metrics.brier_score_loss]\n",
    "\n",
    "    for metric in base_metrics:\n",
    "            \n",
    "        if metric.__name__ == 'brier_score_loss':\n",
    "        \n",
    "            evaluation[metric.__name__] = round(metric(y_df, model.predict_proba(X_df)[:,-1]),2)\n",
    "        \n",
    "        else:\n",
    "            \n",
    "            evaluation[metric.__name__] = round(metric(y_df, results, zero_division=0),2)\n",
    "\n",
    "    return pd.DataFrame(evaluation, index=[0])\n",
    "\n",
    "\n",
    "\n",
    "\n",
    "\n",
    "def feature_hashing_optimum(col_name, final_number_of_columns = 0):\n",
    "    \n",
    "    from tqdm.notebook import tqdm\n",
    "    \n",
    "    scores = pd.DataFrame()\n",
    "    \n",
    "    if final_number_of_columns == 0:\n",
    "\n",
    "        for i in tqdm(range(3,20)):\n",
    "\n",
    "            n_features = i\n",
    "\n",
    "            hashf = FeatureHasher(n_features=n_features,  input_type='string')\n",
    "\n",
    "            cols = ['Test_'+str(i) for i in range(n_features)]\n",
    "\n",
    "            train_hash = pd.DataFrame(hashf.fit_transform(df_trat[col_name]).toarray(), columns = cols )\n",
    "\n",
    "            test_hash = pd.DataFrame(hashf.transform(X_test[col_name]).toarray(), columns = cols)\n",
    "\n",
    "            model = XGBClassifier(use_label_encoder=False, verbosity=0)\n",
    "\n",
    "            model.fit(train_hash, y_trat)\n",
    "\n",
    "            score = useful_metrics(test_hash, y_test, model)\n",
    "\n",
    "            score['cols'] = i\n",
    "\n",
    "            scores = pd.concat([scores, score])\n",
    "\n",
    "        return scores\n",
    "\n",
    "    else:\n",
    "\n",
    "        hashf = FeatureHasher(n_features=final_number_of_columns,  input_type='string')\n",
    "        hashf.fit(df_trat[col_name])\n",
    "\n",
    "        return hashf\n",
    "\n"
   ]
  },
  {
   "cell_type": "code",
   "execution_count": null,
   "id": "eee64ea7-0484-43a7-acdb-5ece0448095b",
   "metadata": {
    "canvas": {
     "comments": [],
     "componentType": "CodeCell",
     "copiedOriginId": null,
     "diskcache": false,
     "headerColor": "inherit",
     "id": "5669ed67-1b77-4450-872b-1f553bc24b2e",
     "isComponent": true,
     "name": "Scores chart",
     "parents": [
      {
       "id": "a7324ce3-3533-4319-82d0-3360324d7249",
       "name": "Hashing High Cardinality test"
      }
     ]
    },
    "tags": []
   },
   "outputs": [],
   "source": [
    "final_score = feature_hashing_optimum('codsecao')\n",
    "final_score\n",
    "scores_trat = final_score.copy() \n",
    "scores_trat.index = scores_trat.cols\n",
    "scores_trat[['f1_score', 'recall_score', 'precision_score']].plot(figsize=(10, 6))"
   ]
  },
  {
   "cell_type": "code",
   "execution_count": null,
   "id": "7d8ae86b-ca36-4b69-abcf-2fb89ce3a0dc",
   "metadata": {
    "canvas": {
     "comments": [],
     "componentType": "CodeCell",
     "copiedOriginId": null,
     "diskcache": false,
     "headerColor": "inherit",
     "id": "62d0dfa4-99a4-48be-86e0-0e9f318271e2",
     "isComponent": false,
     "name": "",
     "parents": []
    }
   },
   "outputs": [],
   "source": [
    "df_trat.columns"
   ]
  },
  {
   "cell_type": "code",
   "execution_count": null,
   "id": "e94acaa6-978e-45c3-a726-081bbf153b8b",
   "metadata": {
    "canvas": {
     "comments": [],
     "componentType": "CodeCell",
     "copiedOriginId": null,
     "diskcache": false,
     "headerColor": "inherit",
     "id": "14d6be4b-11b8-41de-a586-024ccad375e4",
     "isComponent": true,
     "name": "Choose number of columns",
     "parents": [
      {
       "id": "5669ed67-1b77-4450-872b-1f553bc24b2e",
       "name": "Scores chart"
      }
     ]
    },
    "tags": []
   },
   "outputs": [],
   "source": [
    "scores_trat['score'] = scores_trat.cols*3 - scores_trat.f1_score*200\n",
    "\n",
    "scores_trat.sort_values('score')"
   ]
  },
  {
   "cell_type": "code",
   "execution_count": null,
   "id": "be70f026-2e82-4c4f-a690-9d63525d9ecb",
   "metadata": {
    "canvas": {
     "comments": [],
     "componentType": "CodeCell",
     "copiedOriginId": null,
     "diskcache": false,
     "headerColor": "inherit",
     "id": "0e56a607-10b4-4729-84c6-c6a3cf2cdc34",
     "isComponent": false,
     "name": "",
     "parents": []
    }
   },
   "outputs": [],
   "source": [
    "a = feature_hashing_optimum('codsecao', 11)"
   ]
  },
  {
   "cell_type": "code",
   "execution_count": null,
   "id": "31865e40-3cbb-4e19-8095-bfb747f1600b",
   "metadata": {
    "canvas": {
     "comments": [],
     "componentType": "CodeCell",
     "copiedOriginId": null,
     "diskcache": false,
     "headerColor": "inherit",
     "id": "52a87b1a-f4ef-4c87-9a15-944b983ea7d3",
     "isComponent": false,
     "name": "",
     "parents": []
    }
   },
   "outputs": [],
   "source": [
    "a.fit_transform(df_trat['codsecao']).toarray()"
   ]
  },
  {
   "cell_type": "code",
   "execution_count": null,
   "id": "39c17e00-cd58-4d89-8d29-8e00e642707c",
   "metadata": {
    "canvas": {
     "comments": [],
     "componentType": "CodeCell",
     "copiedOriginId": null,
     "diskcache": false,
     "headerColor": "inherit",
     "id": "d32a99ad-b5cd-493b-a45d-d1e94ee007b5",
     "isComponent": true,
     "name": "Dump hasher",
     "parents": [
      {
       "id": "a7324ce3-3533-4319-82d0-3360324d7249",
       "name": "Hashing High Cardinality test"
      }
     ]
    },
    "tags": []
   },
   "outputs": [],
   "source": [
    "dump(feature_hashing_optimum('codsecao', 11),\n",
    "     open('codsecao_hasher.pkl', 'wb'))"
   ]
  },
  {
   "cell_type": "code",
   "execution_count": null,
   "id": "59430098-f3cc-439a-a3a4-8f3e843a958e",
   "metadata": {
    "canvas": {
     "comments": [],
     "componentType": "CodeCell",
     "copiedOriginId": null,
     "diskcache": false,
     "headerColor": "inherit",
     "id": "33d1cc7f-6e09-44f3-a0a6-5fc0e9d1dbda",
     "isComponent": false,
     "name": "",
     "parents": []
    }
   },
   "outputs": [],
   "source": [
    "tt.columns"
   ]
  },
  {
   "cell_type": "code",
   "execution_count": null,
   "id": "d600fabe-bee0-4a61-bcd8-d04e635f6e35",
   "metadata": {
    "canvas": {
     "comments": [],
     "componentType": "CodeCell",
     "copiedOriginId": null,
     "diskcache": false,
     "headerColor": "inherit",
     "id": "66a0a9f2-25dd-41a0-a90a-5b36211e7cc1",
     "isComponent": false,
     "name": "",
     "parents": []
    }
   },
   "outputs": [],
   "source": [
    "def feature_hashing(df, col_name, hasher):\n",
    "\n",
    "    cols = [col_name+'_'+str(i) for i in range(hasher.get_params()['n_features'])]\n",
    "\n",
    "    return  pd.concat([df, pd.DataFrame(hasher.transform(df[col_name]).toarray(), columns = cols, index=df.index)], axis=1)"
   ]
  },
  {
   "cell_type": "code",
   "execution_count": null,
   "id": "cf03808a-1594-43a9-ac68-643726efe374",
   "metadata": {
    "canvas": {
     "comments": [],
     "componentType": "CodeCell",
     "copiedOriginId": null,
     "diskcache": false,
     "headerColor": "inherit",
     "id": "f6acf242-bdfa-4553-911e-fe799537effb",
     "isComponent": false,
     "name": "",
     "parents": []
    }
   },
   "outputs": [],
   "source": [
    "pd.DataFrame()"
   ]
  },
  {
   "cell_type": "code",
   "execution_count": null,
   "id": "5ccc2d94",
   "metadata": {
    "canvas": {
     "comments": [],
     "componentType": "CodeCell",
     "copiedOriginId": null,
     "diskcache": false,
     "headerColor": "none",
     "id": "a0a0ac22-58ae-4f9b-9106-fb48dce72a38",
     "isComponent": false,
     "name": "",
     "parents": []
    }
   },
   "outputs": [],
   "source": [
    "\n",
    "a = feature_hashing(df_trat, 'codsecao', hasher1)\n",
    "a"
   ]
  },
  {
   "cell_type": "code",
   "execution_count": null,
   "id": "4ee2afe7-22dd-40f4-91cf-ea9680bcbc86",
   "metadata": {
    "canvas": {
     "comments": [],
     "componentType": "CodeCell",
     "copiedOriginId": null,
     "diskcache": false,
     "headerColor": "inherit",
     "id": "dc3a1beb-1805-4b81-b1a7-62b5786c7892",
     "isComponent": false,
     "name": "",
     "parents": []
    },
    "tags": []
   },
   "outputs": [],
   "source": [
    "Scaler = load(open('Scaler.pkl', 'rb'))\n",
    "feature_final = load(open('feature_selection.pkl', 'rb'))\n",
    "#feature_final = df_preprocess.columns.tolist()\n",
    "scaled_df = df_preprocess[feature_final]\n",
    "scaled_df = scale_dataset(df_preprocess, feature_final, Scaler)"
   ]
  },
  {
   "cell_type": "code",
   "execution_count": null,
   "id": "98f9d1d7-4db6-4a66-999c-2d4003be395f",
   "metadata": {
    "canvas": {
     "comments": [],
     "componentType": "CodeCell",
     "copiedOriginId": null,
     "diskcache": false,
     "headerColor": "inherit",
     "id": "d191f08e-5e37-4384-b761-f5ce8597035d",
     "isComponent": false,
     "name": "",
     "parents": []
    }
   },
   "outputs": [],
   "source": [
    "df_preprocess.columns"
   ]
  },
  {
   "cell_type": "code",
   "execution_count": null,
   "id": "bef3221e-f343-4cb8-bfaf-ca5fcab46df9",
   "metadata": {
    "canvas": {
     "comments": [],
     "componentType": "CodeCell",
     "copiedOriginId": null,
     "diskcache": false,
     "headerColor": "none",
     "id": "825318b2-890f-4cd9-984b-5d282130a117",
     "isComponent": true,
     "name": "Custom Tool analysis",
     "parents": [
      {
       "id": "501b8112-a010-4f1a-9bed-41508f2b1acb",
       "name": "Drop and Preprocess"
      }
     ]
    },
    "tags": []
   },
   "outputs": [],
   "source": [
    "df_preprocess_analysis = scaled_df.copy()\n",
    "df_preprocess_analysis['desligado'] = y_train\n",
    "\n",
    "aval = Custom_Tools.preprocess_afya(df_preprocess_analysis)\n",
    "\n",
    "cols = aval.col_missing()\n",
    "\n",
    "card = aval.cardinality()\n",
    "\n",
    "rws = aval.row_missing()"
   ]
  },
  {
   "cell_type": "code",
   "execution_count": null,
   "id": "0fa0872f-d3a3-403e-90b4-6692131c0494",
   "metadata": {
    "canvas": {
     "comments": [],
     "componentType": "CodeCell",
     "copiedOriginId": null,
     "diskcache": false,
     "headerColor": "none",
     "id": "04b793a6-4c8e-4598-828a-62fa4903b5bb",
     "isComponent": true,
     "name": "Row evaluation",
     "parents": [
      {
       "id": "825318b2-890f-4cd9-984b-5d282130a117",
       "name": "Custom Tool analysis"
      }
     ]
    },
    "tags": []
   },
   "outputs": [],
   "source": [
    "print(rws[rws > 0])"
   ]
  },
  {
   "cell_type": "code",
   "execution_count": null,
   "id": "d4a9f3e1-03a4-476a-a189-dfd05190b505",
   "metadata": {
    "canvas": {
     "comments": [],
     "componentType": "CodeCell",
     "copiedOriginId": null,
     "diskcache": false,
     "headerColor": "none",
     "id": "c649590d-5e04-47b6-8889-a0bd2901b1ba",
     "isComponent": true,
     "name": "Column evaluation",
     "parents": [
      {
       "id": "04b793a6-4c8e-4598-828a-62fa4903b5bb",
       "name": "Row evaluation"
      }
     ]
    },
    "tags": []
   },
   "outputs": [],
   "source": [
    "print(cols[cols > 0])"
   ]
  },
  {
   "cell_type": "code",
   "execution_count": null,
   "id": "2cb82114-65e5-4911-be0b-f4fc906e31e0",
   "metadata": {
    "canvas": {
     "comments": [],
     "componentType": "CodeCell",
     "copiedOriginId": null,
     "diskcache": false,
     "headerColor": "none",
     "id": "71d97441-9ca3-4f82-85ec-fd6b861e7abf",
     "isComponent": false,
     "name": "",
     "parents": []
    }
   },
   "outputs": [],
   "source": [
    "cols = df_preprocess_analysis.columns.tolist()"
   ]
  },
  {
   "cell_type": "code",
   "execution_count": null,
   "id": "43c35e6f-47a7-40f5-964a-43ef46fec5ba",
   "metadata": {
    "canvas": {
     "comments": [],
     "componentType": "CodeCell",
     "copiedOriginId": null,
     "diskcache": false,
     "headerColor": "none",
     "id": "1da59815-cace-45d8-af1d-73152da11c26",
     "isComponent": false,
     "name": "",
     "parents": []
    }
   },
   "outputs": [],
   "source": [
    "cols.remove('desligado')"
   ]
  },
  {
   "cell_type": "code",
   "execution_count": null,
   "id": "2020585d-6960-46ca-8e57-f0fd7a4ea2a5",
   "metadata": {
    "canvas": {
     "comments": [],
     "componentType": "CodeCell",
     "copiedOriginId": null,
     "diskcache": false,
     "headerColor": "none",
     "id": "32f34cd9-0931-401f-a9d6-9a693ac009c7",
     "isComponent": false,
     "name": "",
     "parents": []
    },
    "tags": []
   },
   "outputs": [],
   "source": [
    "aval.distribution(cols, 'desligado')"
   ]
  },
  {
   "cell_type": "markdown",
   "id": "4b1bb84f-ecbf-4c6b-b56e-35053e980aa1",
   "metadata": {
    "canvas": {
     "comments": [],
     "componentType": "CodeCell",
     "copiedOriginId": null,
     "diskcache": false,
     "headerColor": "none",
     "id": "f357bed5-2762-4366-8780-ea2ee65a36c5",
     "isComponent": false,
     "name": "",
     "parents": []
    }
   },
   "source": [
    "# Feature Selection"
   ]
  },
  {
   "cell_type": "code",
   "execution_count": null,
   "id": "58ac2990-8b03-4516-8037-bd971a33c056",
   "metadata": {
    "canvas": {
     "comments": [],
     "componentType": "CodeCell",
     "copiedOriginId": null,
     "diskcache": false,
     "headerColor": "none",
     "id": "fe377f68-53d0-49a6-9ba2-75dc995540a6",
     "isComponent": false,
     "name": "",
     "parents": []
    }
   },
   "outputs": [],
   "source": []
  },
  {
   "cell_type": "code",
   "execution_count": null,
   "id": "01938789-bf2a-41ad-a475-6ac880dc1c90",
   "metadata": {
    "canvas": {
     "comments": [],
     "componentType": "CodeCell",
     "copiedOriginId": null,
     "diskcache": false,
     "headerColor": "none",
     "id": "1d823b21-d279-4e1e-892a-20660260bbbb",
     "isComponent": false,
     "name": "",
     "parents": []
    }
   },
   "outputs": [],
   "source": [
    "y_trat.shape"
   ]
  },
  {
   "cell_type": "code",
   "execution_count": null,
   "id": "fdb2f0c3-34cb-48a6-a7a9-5744f4afc47e",
   "metadata": {
    "canvas": {
     "comments": [],
     "componentType": "CodeCell",
     "copiedOriginId": null,
     "diskcache": false,
     "headerColor": "inherit",
     "id": "53ae2420-6e0d-4fe6-8016-7eef6928de3a",
     "isComponent": false,
     "name": "",
     "parents": []
    }
   },
   "outputs": [],
   "source": [
    "df_preprocess.iloc[:,11]"
   ]
  },
  {
   "cell_type": "code",
   "execution_count": null,
   "id": "6d3d3f2c-84ff-4b88-9a30-ee7331085de7",
   "metadata": {
    "canvas": {
     "comments": [],
     "componentType": "CodeCell",
     "copiedOriginId": null,
     "diskcache": false,
     "headerColor": "inherit",
     "id": "71269304-ddf9-4591-a4d0-c45357dfb043",
     "isComponent": true,
     "name": "Feature Selection run",
     "parents": [
      {
       "id": "501b8112-a010-4f1a-9bed-41508f2b1acb",
       "name": "Drop and Preprocess"
      }
     ]
    },
    "tags": []
   },
   "outputs": [],
   "source": [
    "feature_check = [x for x in df_preprocess.columns]\n",
    "algorithms = [chi2, f_classif, mutual_info_classif]\n",
    "selection = Custom_Tools.feature_selection(df_preprocess[feature_check], y_trat, algorithms, 500)\n"
   ]
  },
  {
   "cell_type": "code",
   "execution_count": null,
   "id": "be08dc34-e359-4793-853f-1cba68b28b87",
   "metadata": {
    "canvas": {
     "comments": [],
     "componentType": "CodeCell",
     "copiedOriginId": null,
     "diskcache": false,
     "headerColor": "none",
     "id": "682bc2af-bc55-4ab6-b54e-6fe993e32e8f",
     "isComponent": true,
     "name": "Feature Selection results",
     "parents": [
      {
       "id": "71269304-ddf9-4591-a4d0-c45357dfb043",
       "name": "Feature Selection run"
      }
     ]
    },
    "tags": []
   },
   "outputs": [],
   "source": [
    "features = selection.columns.tolist()\n",
    "features.remove('Total_points')\n",
    "Kbest_eval = selection.groupby('Columns').sum()['Total_points'].sort_values(ascending=False) # noqa E501\n",
    "Kbest_eval"
   ]
  },
  {
   "cell_type": "code",
   "execution_count": null,
   "id": "c8ae115b-84e2-4078-aacb-77bf0eaf6704",
   "metadata": {
    "canvas": {
     "comments": [],
     "componentType": "CodeCell",
     "copiedOriginId": null,
     "diskcache": false,
     "headerColor": "inherit",
     "id": "1104da9c-538f-466e-8ff4-7ec4154c050e",
     "isComponent": false,
     "name": "",
     "parents": []
    }
   },
   "outputs": [],
   "source": [
    "Kbest_eval[(Kbest_eval/Kbest_eval[0])>0.3].index.tolist()"
   ]
  },
  {
   "cell_type": "code",
   "execution_count": null,
   "id": "a9a0a679-dbc4-4b4b-8a07-88e369eba9e0",
   "metadata": {
    "canvas": {
     "comments": [],
     "componentType": "CodeCell",
     "copiedOriginId": null,
     "diskcache": false,
     "headerColor": "none",
     "id": "11d639e9-9f16-4840-9ca2-932561027791",
     "isComponent": true,
     "name": "Features selected and save",
     "parents": [
      {
       "id": "501b8112-a010-4f1a-9bed-41508f2b1acb",
       "name": "Drop and Preprocess"
      }
     ]
    },
    "tags": []
   },
   "outputs": [],
   "source": [
    "# Tempo de casa redundante com ord_faixa_tempo_casa\n",
    "feature_final = ['tipo_filial_DIGITAL', 'filial_descricao_AFYA',\n",
    "       'genero',\n",
    "       'engineer_merit_indexes',\n",
    "       'codsecao_gerencia_contagion',\n",
    "       'salario', 'funcao_descricao_clean_contagion',\n",
    "       'tempo_de_casa', 'engineer_promotion_indexes']\n",
    "\n",
    "#feature_final = df_preprocess.columns\n",
    "\n",
    "dump(feature_final, open('feature_selection.pkl', 'wb'))"
   ]
  },
  {
   "cell_type": "code",
   "execution_count": null,
   "id": "60d60310-3c4b-48e3-a515-7640519d0e43",
   "metadata": {
    "canvas": {
     "comments": [],
     "componentType": "CodeCell",
     "copiedOriginId": null,
     "diskcache": true,
     "headerColor": "none",
     "id": "68316262-8a81-4e81-8305-99a17550bfcc",
     "isComponent": true,
     "name": "Scaling transform",
     "parents": [
      {
       "id": "501b8112-a010-4f1a-9bed-41508f2b1acb",
       "name": "Drop and Preprocess"
      }
     ]
    },
    "tags": []
   },
   "outputs": [],
   "source": [
    "Scaler = load(open('Scaler.pkl', 'rb'))\n",
    "feature_final = load(open('feature_selection.pkl', 'rb'))\n",
    "#feature_final = df_preprocess.columns.tolist()\n",
    "scaled_df = df_preprocess[feature_final].copy()\n",
    "scaled_df = scale_dataset(df_preprocess, feature_final, None)\n",
    "\n",
    "\n",
    "# Comment if feature selection was used\n",
    "# dump(feature_final, open('feature_selection.pkl', 'wb'))\n",
    "\n",
    "X_train_final = scaled_df[feature_final].copy()"
   ]
  },
  {
   "cell_type": "code",
   "execution_count": null,
   "id": "de285aec-1eeb-40dd-ba68-ecf80d11afa2",
   "metadata": {
    "canvas": {
     "comments": [],
     "componentType": "CodeCell",
     "copiedOriginId": null,
     "diskcache": false,
     "headerColor": "inherit",
     "id": "a64980d3-525f-4ab5-bb2b-af17041f4cbd",
     "isComponent": false,
     "name": "",
     "parents": []
    }
   },
   "outputs": [],
   "source": [
    "feature_final"
   ]
  },
  {
   "cell_type": "code",
   "execution_count": null,
   "id": "8806d1c9-b260-4867-bc88-b823c58988f8",
   "metadata": {
    "canvas": {
     "comments": [],
     "componentType": "CodeCell",
     "copiedOriginId": null,
     "diskcache": false,
     "headerColor": "none",
     "id": "616712eb-bc91-4af4-9b97-9bf57d3df147",
     "isComponent": true,
     "name": "Models init overfit eval",
     "parents": [
      {
       "id": "68316262-8a81-4e81-8305-99a17550bfcc",
       "name": "Scaling transform"
      }
     ]
    },
    "tags": []
   },
   "outputs": [],
   "source": [
    "lr = LogisticRegression(max_iter=10000)\n",
    "lgbm = LGBMClassifier()\n",
    "gnb = GaussianNB()\n",
    "\n",
    "\n",
    "models = {'Logistic Regression': lr,\n",
    "          'LGBM': lgbm,\n",
    "          'Gaussian NB': gnb,\n",
    "          'Random Forest | Default': RandomForestClassifier()}\n",
    "\n",
    "for a in range(5, 3, -1):\n",
    "    models['Random Forest - Max_depth:'+str(a)] = RandomForestClassifier(max_depth=a) # noqa E501\n"
   ]
  },
  {
   "cell_type": "code",
   "execution_count": null,
   "id": "16693039-5283-41aa-97b7-5ecba87b43ed",
   "metadata": {
    "canvas": {
     "comments": [],
     "componentType": "CodeCell",
     "copiedOriginId": null,
     "diskcache": false,
     "headerColor": "none",
     "id": "debb4de3-4dc3-47f9-bc4a-2fdc9b774ed4",
     "isComponent": true,
     "name": "One model test",
     "parents": [
      {
       "id": "68316262-8a81-4e81-8305-99a17550bfcc",
       "name": "Scaling transform"
      }
     ]
    },
    "tags": []
   },
   "outputs": [],
   "source": [
    "models_1 = {'Random Forest - Default': RandomForestClassifier()}"
   ]
  },
  {
   "cell_type": "code",
   "execution_count": null,
   "id": "6d500ba1-87fb-4f20-a9ce-b911a1ca6787",
   "metadata": {
    "canvas": {
     "comments": [],
     "componentType": "CodeCell",
     "copiedOriginId": null,
     "diskcache": false,
     "headerColor": "none",
     "id": "ef1548bb-523d-4e9d-bb0b-5e25c8f4bbeb",
     "isComponent": true,
     "name": "Test results",
     "parents": [
      {
       "id": "debb4de3-4dc3-47f9-bc4a-2fdc9b774ed4",
       "name": "One model test"
      }
     ]
    },
    "tags": []
   },
   "outputs": [],
   "source": [
    "test = Custom_Tools.overfit(X_train_final, y_trat, models_1, None, None)\n",
    "test_results = test.overfit(metrics.f1_score)\n",
    "test_results"
   ]
  },
  {
   "cell_type": "code",
   "execution_count": null,
   "id": "bb0aca77-2dc0-4d70-8a76-23dcb69bd615",
   "metadata": {
    "canvas": {
     "comments": [],
     "componentType": "CodeCell",
     "copiedOriginId": null,
     "diskcache": false,
     "headerColor": "none",
     "id": "b2b08397-d1fa-49bb-b121-6d2fbd86f821",
     "isComponent": true,
     "name": "Test results chart",
     "parents": [
      {
       "id": "ef1548bb-523d-4e9d-bb0b-5e25c8f4bbeb",
       "name": "Test results"
      }
     ]
    },
    "tags": []
   },
   "outputs": [],
   "source": [
    "fig = px.line(test_results, x=\"Sample\", y=\"f1_score\", color=\"Dataset\", facet_col=\"Model\", facet_col_wrap=4, height=500, range_y=[0,1]) # noqa E501\n",
    "fig.show()"
   ]
  },
  {
   "cell_type": "code",
   "execution_count": null,
   "id": "3fe0989a-a872-4504-bb8f-c39b75cec68e",
   "metadata": {
    "canvas": {
     "comments": [],
     "componentType": "CodeCell",
     "copiedOriginId": null,
     "diskcache": false,
     "headerColor": "inherit",
     "id": "dac101ac-b57e-445a-8101-b90e36ac28f7",
     "isComponent": true,
     "name": "All models run F1 score",
     "parents": [
      {
       "id": "616712eb-bc91-4af4-9b97-9bf57d3df147",
       "name": "Models init overfit eval"
      }
     ]
    },
    "tags": []
   },
   "outputs": [],
   "source": [
    "All_models_f1 = Custom_Tools.overfit(X_train_final, y_trat, models, None, None)\n",
    "All_models_results_f1 = All_models_f1.overfit(metrics.f1_score)\n",
    "All_models_f1 = Custom_Tools.overfit(X_train_final, y_trat, models, None, ADASYN(sampling_strategy= 1.0)) # noqa E501\n",
    "All_models_results_f1 = pd.concat([All_models_results_f1, All_models_f1.overfit(metrics.f1_score)]) # noqa E501"
   ]
  },
  {
   "cell_type": "code",
   "execution_count": null,
   "id": "f6814abe-71c9-43f1-bfbb-240b1697955f",
   "metadata": {
    "canvas": {
     "comments": [],
     "componentType": "CodeCell",
     "copiedOriginId": null,
     "diskcache": false,
     "headerColor": "inherit",
     "id": "60fd0370-09a6-49e3-abdf-9c29067c6754",
     "isComponent": true,
     "name": "F1 Score",
     "parents": [
      {
       "id": "dac101ac-b57e-445a-8101-b90e36ac28f7",
       "name": "All models run F1 score"
      }
     ]
    },
    "tags": []
   },
   "outputs": [],
   "source": [
    "pivot_f1 = All_models_results_f1.pivot(index=['Sample', 'Model'], columns='Dataset', values='f1_score') # noqa E501\n",
    "pivot_f1['Overfit'] = abs(pivot_f1['Test']-pivot_f1['Train'])\n",
    "pivot_f1 = pivot_f1.groupby(['Model'])[['Overfit', 'Test']].mean().sort_values(['Overfit']) # noqa E501\n",
    "pivot_f1[pivot_f1.Test > 0]"
   ]
  },
  {
   "cell_type": "code",
   "execution_count": null,
   "id": "b01292e7-8a7e-4c9a-a5a9-672c35720f8c",
   "metadata": {
    "canvas": {
     "comments": [],
     "componentType": "CodeCell",
     "copiedOriginId": null,
     "diskcache": false,
     "headerColor": "inherit",
     "id": "1119e28a-1d6f-4bb5-b243-be1a37bafa68",
     "isComponent": false,
     "name": "",
     "parents": []
    }
   },
   "outputs": [],
   "source": [
    "All_models_recall = Custom_Tools.overfit(X_train_final, y_trat, models, None, None) # noqa E501\n",
    "All_models_results_recall = All_models_recall.overfit(metrics.recall_score)\n",
    "All_models_recall = Custom_Tools.overfit(X_train_final, y_trat, models, None, ADASYN(sampling_strategy= 1.0)) # noqa E501\n",
    "All_models_results_recall = pd.concat([All_models_results_recall, All_models_recall.overfit(metrics.recall_score)]) # noqa E501"
   ]
  },
  {
   "cell_type": "code",
   "execution_count": null,
   "id": "d125dc7b-2083-4987-8840-1401d1401a5b",
   "metadata": {
    "canvas": {
     "comments": [],
     "componentType": "CodeCell",
     "copiedOriginId": null,
     "diskcache": false,
     "headerColor": "inherit",
     "id": "3b7b5c94-c5c8-4e8a-b3bd-44ba9599ffe4",
     "isComponent": true,
     "name": "All models run recall score",
     "parents": [
      {
       "id": "dac101ac-b57e-445a-8101-b90e36ac28f7",
       "name": "All models run F1 score"
      }
     ]
    },
    "tags": []
   },
   "outputs": [],
   "source": [
    "All_models_recall = Custom_Tools.overfit(X_train_final, y_trat, models, None, None) # noqa E501\n",
    "All_models_results_recall = All_models_recall.overfit(metrics.recall_score)\n",
    "All_models_recall = Custom_Tools.overfit(X_train_final, y_trat, models, None, ADASYN(sampling_strategy= 1.0)) # noqa E501\n",
    "All_models_results_recall = pd.concat([All_models_results_recall, All_models_recall.overfit(metrics.recall_score)]) # noqa E501"
   ]
  },
  {
   "cell_type": "code",
   "execution_count": null,
   "id": "a9356e73-66f3-40b6-8312-32c23036d551",
   "metadata": {
    "canvas": {
     "comments": [],
     "componentType": "CodeCell",
     "copiedOriginId": null,
     "diskcache": false,
     "headerColor": "inherit",
     "id": "ccc11b2b-9de9-48b0-83f2-e68c8c091fbf",
     "isComponent": true,
     "name": "Recall score",
     "parents": [
      {
       "id": "3b7b5c94-c5c8-4e8a-b3bd-44ba9599ffe4",
       "name": "All models run recall score"
      }
     ]
    },
    "tags": []
   },
   "outputs": [],
   "source": [
    "pivot_recall = All_models_results_recall.pivot(index=['Sample', 'Model'], columns='Dataset', values='recall_score') # noqa E501\n",
    "pivot_recall['Overfit'] = abs(pivot_recall['Test']-pivot_recall['Train'])\n",
    "pivot_recall = pivot_recall.groupby('Model')['Overfit', 'Test'].mean().sort_values('Overfit') # noqa E501\n",
    "pivot_recall[pivot_recall.Test > 0]"
   ]
  },
  {
   "cell_type": "code",
   "execution_count": null,
   "id": "3918e8d3-f55b-420e-928b-5f2fa2ba140b",
   "metadata": {
    "canvas": {
     "comments": [],
     "componentType": "CodeCell",
     "copiedOriginId": null,
     "diskcache": false,
     "headerColor": "inherit",
     "id": "031c15a8-39ef-4fbe-8dfd-30eb5cc95288",
     "isComponent": true,
     "name": "All models run precision score",
     "parents": [
      {
       "id": "3b7b5c94-c5c8-4e8a-b3bd-44ba9599ffe4",
       "name": "All models run recall score"
      }
     ]
    },
    "tags": []
   },
   "outputs": [],
   "source": [
    "All_models_precision = Custom_Tools.overfit(X_train_final, y_trat, models, None, None) # noqa E501\n",
    "All_models_results_precision = All_models_precision.overfit(metrics.f1_score)\n",
    "All_models_precision = Custom_Tools.overfit(X_train_final, y_trat, models, None, ADASYN(sampling_strategy= 1.0)) # noqa E501\n",
    "All_models_results_precision = pd.concat([All_models_results_precision, All_models_precision.overfit(metrics.precision_score)]) # noqa E501\n"
   ]
  },
  {
   "cell_type": "code",
   "execution_count": null,
   "id": "4714fa8f-2578-4391-bc58-a5f132118fd7",
   "metadata": {
    "canvas": {
     "comments": [],
     "componentType": "CodeCell",
     "copiedOriginId": null,
     "diskcache": false,
     "headerColor": "inherit",
     "id": "2873ca00-5d55-4437-9f3d-1c723e51a070",
     "isComponent": true,
     "name": "Precision score",
     "parents": [
      {
       "id": "031c15a8-39ef-4fbe-8dfd-30eb5cc95288",
       "name": "All models run precision score"
      }
     ]
    },
    "tags": []
   },
   "outputs": [],
   "source": [
    "pivot_precision = All_models_results_precision.pivot(index=['Sample', 'Model'], columns='Dataset', values='precision_score') # noqa E501\n",
    "pivot_precision['Overfit'] = abs(pivot_precision['Test']-pivot_precision['Train'])\n",
    "pivot_precision = pivot_precision.groupby('Model')[['Overfit', 'Test']].mean().sort_values('Overfit') # noqa E501\n",
    "pivot_precision[pivot_precision.Test > 0]"
   ]
  },
  {
   "cell_type": "code",
   "execution_count": null,
   "id": "e06880b8-21c1-4239-8c25-748621549a34",
   "metadata": {
    "canvas": {
     "comments": [],
     "componentType": "CodeCell",
     "copiedOriginId": null,
     "diskcache": false,
     "headerColor": "inherit",
     "id": "3f3ebc60-249b-4113-948e-ce6e3f8a891e",
     "isComponent": false,
     "name": "",
     "parents": []
    },
    "tags": []
   },
   "outputs": [],
   "source": [
    "fig = px.line(All_models_results_f1, x=\"Sample\", y=\"f1_score\",color=\"Dataset\",facet_col=\"Model\",facet_col_wrap=4, height=2500,range_y=[0,1]) # noqa E501\n",
    "fig.show()"
   ]
  },
  {
   "cell_type": "code",
   "execution_count": null,
   "id": "b03f424d-f98a-4068-9d88-4defd8c2a1f9",
   "metadata": {
    "canvas": {
     "comments": [],
     "componentType": "CodeCell",
     "copiedOriginId": null,
     "diskcache": true,
     "headerColor": "inherit",
     "id": "180c9593-1123-4208-aa33-b2bf9c86b1e8",
     "isComponent": true,
     "name": "Prepare X_test dataset",
     "parents": [
      {
       "id": "68316262-8a81-4e81-8305-99a17550bfcc",
       "name": "Scaling transform"
      },
      {
       "id": "2c4a93db-e6d0-47c0-87ec-4a71151ad0e7",
       "name": "Train test"
      }
     ]
    },
    "tags": []
   },
   "outputs": [],
   "source": [
    "X_test_final = final_transformation(X_test, feature_final, 0, None)"
   ]
  },
  {
   "cell_type": "code",
   "execution_count": null,
   "id": "3ac756f6-fd99-466b-a3a8-cc7dc20fcc94",
   "metadata": {
    "canvas": {
     "comments": [],
     "componentType": "CodeCell",
     "copiedOriginId": null,
     "diskcache": false,
     "headerColor": "inherit",
     "id": "ed11713f-0689-4c22-8af1-bbb8c5aee1ce",
     "isComponent": false,
     "name": "",
     "parents": []
    }
   },
   "outputs": [],
   "source": [
    "X_test_final.columns"
   ]
  },
  {
   "cell_type": "code",
   "execution_count": null,
   "id": "38187ee2-42d0-457e-ab30-2ec04f8a3970",
   "metadata": {
    "canvas": {
     "comments": [],
     "componentType": "CodeCell",
     "copiedOriginId": null,
     "diskcache": true,
     "headerColor": "inherit",
     "id": "bdd387d9-c775-4d8e-9f80-bac1575a1ef0",
     "isComponent": true,
     "name": "Wrap up final datasets",
     "parents": [
      {
       "id": "180c9593-1123-4208-aa33-b2bf9c86b1e8",
       "name": "Prepare X_test dataset"
      }
     ]
    },
    "tags": []
   },
   "outputs": [],
   "source": [
    "X_train_final, y_train_final = X_train_final, y_trat"
   ]
  },
  {
   "cell_type": "code",
   "execution_count": null,
   "id": "f3f4ccfb-2295-41c7-b4eb-1bb1e5adb64c",
   "metadata": {
    "canvas": {
     "comments": [],
     "componentType": "CodeCell",
     "copiedOriginId": null,
     "diskcache": false,
     "headerColor": "inherit",
     "id": "c969afb6-beca-462c-994b-3711f45b9725",
     "isComponent": true,
     "name": "Check shapes",
     "parents": [
      {
       "id": "bdd387d9-c775-4d8e-9f80-bac1575a1ef0",
       "name": "Wrap up final datasets"
      }
     ]
    },
    "tags": []
   },
   "outputs": [],
   "source": [
    "print(X_train_final.shape)\n",
    "print(y_train_final.shape)\n",
    "print(X_test_final.shape)\n",
    "print(y_test.shape)"
   ]
  },
  {
   "cell_type": "code",
   "execution_count": null,
   "id": "45dd0021-251b-425e-93f3-47515a942c54",
   "metadata": {
    "canvas": {
     "comments": [],
     "componentType": "CodeCell",
     "copiedOriginId": null,
     "diskcache": true,
     "headerColor": "inherit",
     "id": "16da288a-1d46-4d2f-96e9-b9e59c5505f3",
     "isComponent": true,
     "name": "Metrics function",
     "parents": [
      {
       "id": "bdd387d9-c775-4d8e-9f80-bac1575a1ef0",
       "name": "Wrap up final datasets"
      }
     ]
    },
    "tags": []
   },
   "outputs": [],
   "source": [
    "def useful_metrics(X_df, y_df, model, threshold=0.5):\n",
    "    evaluation = {}\n",
    "    \n",
    "    results = model.predict_proba(X_df)[:,-1]>threshold\n",
    "\n",
    "    base_metrics = [\n",
    "                metrics.f1_score,\n",
    "                metrics.recall_score,\n",
    "                metrics.precision_score,\n",
    "                metrics.brier_score_loss]\n",
    "\n",
    "    for metric in base_metrics:\n",
    "            \n",
    "        if metric.__name__ == 'brier_score_loss':\n",
    "        \n",
    "            evaluation[metric.__name__] = round(metric(y_df, model.predict_proba(X_df)[:,-1]),2)\n",
    "        \n",
    "        else:\n",
    "            \n",
    "            evaluation[metric.__name__] = round(metric(y_df, results, zero_division=0),2)\n",
    "\n",
    "    return pd.DataFrame(evaluation, index=[0])"
   ]
  },
  {
   "cell_type": "code",
   "execution_count": null,
   "id": "97cf6f68-bdc2-40f6-9221-faee728c7071",
   "metadata": {
    "canvas": {
     "comments": [],
     "componentType": "CodeCell",
     "copiedOriginId": null,
     "diskcache": false,
     "headerColor": "inherit",
     "id": "10188aaf-83cc-4fcb-afe3-d7520346a34a",
     "isComponent": true,
     "name": "Chosen model baseline",
     "parents": [
      {
       "id": "16da288a-1d46-4d2f-96e9-b9e59c5505f3",
       "name": "Metrics function"
      }
     ]
    },
    "tags": []
   },
   "outputs": [],
   "source": [
    "gnb = GaussianNB()\n",
    "\n",
    "cat = CatBoostClassifier(silent=True)\n",
    "\n",
    "xgb = XGBClassifier(use_label_encoder=False, verbosity=0)\n",
    "\n",
    "lr = LogisticRegression()\n",
    "\n",
    "models = [gnb, cat, xgb, lr]\n",
    "\n",
    "for model in models:\n",
    "\n",
    "    print(model.__class__.__name__)\n",
    "\n",
    "    model.fit(X_train_final, y_train_final)\n",
    "\n",
    "    print(useful_metrics(X_test_final[X_train_final.columns.tolist()],\n",
    "                         y_test, model))\n"
   ]
  },
  {
   "cell_type": "code",
   "execution_count": null,
   "id": "51db22ae-8f8e-438f-8de8-3bd86f855fb2",
   "metadata": {
    "canvas": {
     "comments": [],
     "componentType": "CodeCell",
     "copiedOriginId": null,
     "diskcache": false,
     "headerColor": "inherit",
     "id": "7acf7ed6-5d99-48f5-a277-cd9973b9a2a6",
     "isComponent": false,
     "name": "",
     "parents": []
    }
   },
   "outputs": [],
   "source": [
    "xgb.a"
   ]
  },
  {
   "cell_type": "code",
   "execution_count": null,
   "id": "fa1f3062-bec9-4049-86bb-e298c0644459",
   "metadata": {
    "canvas": {
     "comments": [],
     "componentType": "CodeCell",
     "copiedOriginId": null,
     "diskcache": false,
     "headerColor": "inherit",
     "id": "6df8c49c-0056-46e7-92f7-abc1b172b73e",
     "isComponent": false,
     "name": "",
     "parents": []
    }
   },
   "outputs": [],
   "source": [
    "X_optuna.shape"
   ]
  },
  {
   "cell_type": "code",
   "execution_count": null,
   "id": "6d3e02ac-7e16-4041-82d4-401c9377b868",
   "metadata": {
    "canvas": {
     "comments": [],
     "componentType": "CodeCell",
     "copiedOriginId": null,
     "diskcache": true,
     "headerColor": "inherit",
     "id": "a878d86e-3707-49be-bb85-3a5c0cbe3972",
     "isComponent": true,
     "name": "Optuna dataset",
     "parents": [
      {
       "id": "16da288a-1d46-4d2f-96e9-b9e59c5505f3",
       "name": "Metrics function"
      }
     ]
    },
    "tags": []
   },
   "outputs": [],
   "source": [
    "X_optuna = pd.concat([X_train_final, X_test_final])\n",
    "y_optuna = pd.concat([y_train_final, y_test])"
   ]
  },
  {
   "cell_type": "code",
   "execution_count": null,
   "id": "94411012-e2e7-4804-8ad4-056d5e8f0abf",
   "metadata": {
    "canvas": {
     "comments": [],
     "componentType": "CodeCell",
     "copiedOriginId": null,
     "diskcache": false,
     "headerColor": "inherit",
     "id": "d5742407-e18a-4185-a945-f5ac11dcb854",
     "isComponent": true,
     "name": "Optuna function Gaussian",
     "parents": [
      {
       "id": "a878d86e-3707-49be-bb85-3a5c0cbe3972",
       "name": "Optuna dataset"
      }
     ]
    },
    "tags": []
   },
   "outputs": [],
   "source": [
    "\n",
    "sequence = [ ]\n",
    "for i in range(-9, 1):\n",
    "    sequence.append(10**i)\n",
    "\n",
    "def objective_gnb(trial):\n",
    "\n",
    "    skf = StratifiedKFold(n_splits=5)\n",
    "    \n",
    "    model_grid = {\n",
    "        'var_smoothing': trial.suggest_categorical('var_smoothing', sequence)\n",
    "    }\n",
    "    \n",
    "\n",
    "    param_grid = {\n",
    "    'threshold': trial.suggest_float('threshold',0.2,1.0,step=0.01)\n",
    "    }\n",
    "\n",
    "    model = GaussianNB(**model_grid)\n",
    "\n",
    "    F_evaluation = pd.DataFrame()\n",
    "\n",
    "\n",
    "    for train_index, test_index in skf.split(X_optuna, y_optuna):\n",
    "        X_train, y_train = X_optuna.iloc[train_index], y_optuna.iloc[train_index]\n",
    "        X_test, y_test = X_optuna.iloc[test_index], y_optuna.iloc[test_index]\n",
    "\n",
    "        model.fit(X_train, y_train)\n",
    "        \n",
    "        evaluation = useful_metrics(X_test, y_test, model, **param_grid)\n",
    "\n",
    "        F_evaluation = pd.concat([F_evaluation,evaluation])\n",
    "\n",
    "    return(F_evaluation.f1_score.mean(), F_evaluation.precision_score.mean(),F_evaluation.recall_score.mean(),F_evaluation.brier_score_loss.mean())"
   ]
  },
  {
   "cell_type": "code",
   "execution_count": null,
   "id": "dfca367c-af21-4e25-a732-9c0077091a37",
   "metadata": {
    "canvas": {
     "comments": [],
     "componentType": "CodeCell",
     "copiedOriginId": null,
     "diskcache": false,
     "headerColor": "inherit",
     "id": "4c1c6b7a-df84-4315-87d9-7f5cf80bf175",
     "isComponent": true,
     "name": "Optuna function LR",
     "parents": [
      {
       "id": "a878d86e-3707-49be-bb85-3a5c0cbe3972",
       "name": "Optuna dataset"
      }
     ]
    },
    "tags": []
   },
   "outputs": [],
   "source": [
    "def objective_lr(trial):\n",
    "\n",
    "    skf = StratifiedKFold(n_splits=5)\n",
    "    \n",
    "    model_grid = {\n",
    "        'max_iter':10000\n",
    "    }\n",
    "    \n",
    "    oversample_grid = {\n",
    "        'sampling_strategy': trial.suggest_float('sampling_strategy',0.5,1.0,step=0.01)\n",
    "    }\n",
    "    \n",
    "\n",
    "    param_grid = {\n",
    "    'threshold': trial.suggest_float('threshold',0.2,1.0,step=0.01)\n",
    "    }\n",
    "\n",
    "    model = LogisticRegression(**model_grid)\n",
    "\n",
    "    F_evaluation = pd.DataFrame()\n",
    "    \n",
    "    over_under = ADASYN(**oversample_grid)\n",
    "\n",
    "\n",
    "    for train_index, test_index in skf.split(X_optuna, y_optuna):\n",
    "        X_train, y_train = X_optuna.iloc[train_index], y_optuna.iloc[train_index]\n",
    "        X_test, y_test = X_optuna.iloc[test_index], y_optuna.iloc[test_index]\n",
    "        \n",
    "        X_train, y_train = over_under.fit_resample(X_train, y_train)\n",
    "\n",
    "        model.fit(X_train, y_train)\n",
    "        \n",
    "        evaluation = useful_metrics(X_test, y_test, model, **param_grid)\n",
    "\n",
    "        F_evaluation = pd.concat([F_evaluation,evaluation])\n",
    "\n",
    "    return(F_evaluation.f1_score.mean(), F_evaluation.precision_score.mean(),F_evaluation.recall_score.mean(),F_evaluation.brier_score_loss.mean())"
   ]
  },
  {
   "cell_type": "code",
   "execution_count": null,
   "id": "b186ba60-e7ef-483d-8771-110fb2a7f53f",
   "metadata": {
    "canvas": {
     "comments": [],
     "componentType": "CodeCell",
     "copiedOriginId": null,
     "diskcache": false,
     "headerColor": "inherit",
     "id": "2ff29722-5176-486b-8ec0-7b138fbe2c05",
     "isComponent": true,
     "name": "Optuna Run LR",
     "parents": [
      {
       "id": "4c1c6b7a-df84-4315-87d9-7f5cf80bf175",
       "name": "Optuna function LR"
      }
     ]
    },
    "tags": []
   },
   "outputs": [],
   "source": [
    "study = optuna.create_study(directions=['maximize','maximize', 'maximize', 'minimize'])\n",
    "study.optimize(objective_lr, n_trials=100)"
   ]
  },
  {
   "cell_type": "code",
   "execution_count": null,
   "id": "fc59b144-2220-4956-885d-1e609793a6a1",
   "metadata": {
    "canvas": {
     "comments": [],
     "componentType": "CodeCell",
     "copiedOriginId": null,
     "diskcache": false,
     "headerColor": "inherit",
     "id": "88d3d4bc-b1c4-4988-bbf4-44be5ff37fc4",
     "isComponent": true,
     "name": "Optuna Results LR",
     "parents": [
      {
       "id": "2ff29722-5176-486b-8ec0-7b138fbe2c05",
       "name": "Optuna Run LR"
      }
     ]
    },
    "tags": []
   },
   "outputs": [],
   "source": [
    "metrics_name = ['F1','Precision','Recall','Brier']\n",
    "\n",
    "tries = pd.DataFrame()\n",
    "try_1 = {}\n",
    "for trial in study.best_trials:\n",
    "    \n",
    "    for metric, value in zip(metrics_name,trial.values):\n",
    "        \n",
    "        try_1[metric] = value\n",
    "        \n",
    "    try_1['Params'] = str(trial.params)\n",
    "    \n",
    "    tries = pd.concat([tries, pd.DataFrame(try_1, index=[0])], ignore_index=True)\n",
    "    \n",
    "    tries = tries[tries.Precision > 0]\n",
    "    \n",
    "tries.sort_values(['F1','Brier','Precision'], ascending= [False, True, False]).head(20)"
   ]
  },
  {
   "cell_type": "code",
   "execution_count": null,
   "id": "ee44b8fb-c32b-4da6-bfbf-87b19ecfe457",
   "metadata": {
    "canvas": {
     "comments": [],
     "componentType": "CodeCell",
     "copiedOriginId": null,
     "diskcache": true,
     "headerColor": "inherit",
     "id": "8f560d16-8a82-4a85-821e-0a6dbf399eaf",
     "isComponent": true,
     "name": "Optuna function XGB",
     "parents": [
      {
       "id": "a878d86e-3707-49be-bb85-3a5c0cbe3972",
       "name": "Optuna dataset"
      }
     ]
    },
    "tags": []
   },
   "outputs": [],
   "source": [
    "def objective_xgb(trial):\n",
    "\n",
    "    skf = StratifiedKFold(n_splits=5)\n",
    "\n",
    "    model_grid = {\n",
    "        # Prevent Overfit\n",
    "        'max_depth': trial.suggest_int('max_depth', 3, 7, step=1),\n",
    "        'min_child_weight': trial.suggest_int('min_child_weight', 1, 7, step=1),\n",
    "        'gamma': trial.suggest_int('gamma', 0, 7, step=1),\n",
    "        # Imbalanced dataset\n",
    "        'max_delta_step': trial.suggest_int('max_delta_step', 0, 10, step=1)\n",
    "    }\n",
    "    '''\n",
    "    param_grid = {\n",
    "        'threshold': trial.suggest_float('threshold', 0.2, 1.0, step=0.01)\n",
    "    }'''\n",
    "    \n",
    "    param_grid = {'threshold':0.5}\n",
    "\n",
    "    model = XGBClassifier(use_label_encoder=False, verbosity=0, **model_grid)\n",
    "\n",
    "    F_evaluation = pd.DataFrame()\n",
    "\n",
    "    for train_index, test_index in skf.split(X_optuna, y_optuna):\n",
    "        X_train, y_train = X_optuna.iloc[train_index], y_optuna.iloc[train_index]\n",
    "        X_test, y_test = X_optuna.iloc[test_index], y_optuna.iloc[test_index]\n",
    "\n",
    "        model.fit(X_train, y_train)\n",
    "\n",
    "        evaluation = useful_metrics(X_test, y_test, model, **param_grid)\n",
    "\n",
    "        F_evaluation = pd.concat([F_evaluation, evaluation])\n",
    "\n",
    "    return(F_evaluation.f1_score.std(),\n",
    "           F_evaluation.f1_score.mean(), F_evaluation.precision_score.mean(),\n",
    "           F_evaluation.recall_score.mean(),\n",
    "           F_evaluation.brier_score_loss.mean())"
   ]
  },
  {
   "cell_type": "code",
   "execution_count": null,
   "id": "c6258d00-ebdf-4e2d-bdd5-b84a5a4bc0a5",
   "metadata": {
    "canvas": {
     "comments": [],
     "componentType": "CodeCell",
     "copiedOriginId": null,
     "diskcache": true,
     "headerColor": "inherit",
     "id": "eff17d3c-b5ab-4ccc-8088-4f7673a9e4a0",
     "isComponent": true,
     "name": "Optuna Run XGB",
     "parents": [
      {
       "id": "8f560d16-8a82-4a85-821e-0a6dbf399eaf",
       "name": "Optuna function XGB"
      }
     ]
    },
    "tags": []
   },
   "outputs": [],
   "source": [
    "study = optuna.create_study(directions=['minimize', 'maximize','maximize', 'maximize', 'minimize'])\n",
    "study.optimize(objective_xgb, n_trials=100)\n",
    "\n",
    "duration = 2000  # milliseconds\n",
    "freq = 440  # Hz\n",
    "winsound.Beep(freq, duration)\n"
   ]
  },
  {
   "cell_type": "code",
   "execution_count": null,
   "id": "ec29f302-ca29-462c-adf6-33bcb22d82e9",
   "metadata": {
    "canvas": {
     "comments": [],
     "componentType": "CodeCell",
     "copiedOriginId": null,
     "diskcache": true,
     "headerColor": "inherit",
     "id": "c8443305-4d7a-4455-9492-a7aeaaff5e07",
     "isComponent": true,
     "name": "Optuna Results XGB",
     "parents": [
      {
       "id": "eff17d3c-b5ab-4ccc-8088-4f7673a9e4a0",
       "name": "Optuna Run XGB"
      }
     ]
    },
    "tags": []
   },
   "outputs": [],
   "source": [
    "metrics_name = ['std_F1','F1', 'Precision', 'Recall', 'Brier']\n",
    "\n",
    "tries = pd.DataFrame()\n",
    "try_1 = {}\n",
    "for trial in study.best_trials:\n",
    "\n",
    "    for metric, value in zip(metrics_name, trial.values):\n",
    "\n",
    "        try_1[metric] = value\n",
    "\n",
    "    try_1.update(trial.params)\n",
    "    try_1['Params'] = str(trial.params)\n",
    "\n",
    "    tries = pd.concat([tries, pd.DataFrame(try_1, index=[0])], ignore_index=True)\n",
    "\n",
    "    tries = tries[tries.Precision > 0]\n",
    "\n",
    "best_params = tries.sort_values(['std_F1', 'Precision','F1','Brier'], ascending= [True, False, True, False]).head(100)\n",
    "\n",
    "best_params[(best_params.Recall > 0.200) & (best_params.Precision > 0.900)].drop_duplicates().sort_values('F1', ascending=False)"
   ]
  },
  {
   "cell_type": "code",
   "execution_count": null,
   "id": "25207b73-52d7-49b6-b57b-1f11850b0582",
   "metadata": {
    "canvas": {
     "comments": [],
     "componentType": "CodeCell",
     "copiedOriginId": null,
     "diskcache": false,
     "headerColor": "inherit",
     "id": "c38556e2-ae00-43f3-bd45-9f5c8dec1597",
     "isComponent": false,
     "name": "",
     "parents": []
    }
   },
   "outputs": [],
   "source": [
    "best_params.loc[best_params.index == 4,\"Params\"].to_dict()"
   ]
  },
  {
   "cell_type": "code",
   "execution_count": null,
   "id": "68538e12-7707-4756-982c-78bdf004af2f",
   "metadata": {
    "canvas": {
     "comments": [],
     "componentType": "CodeCell",
     "copiedOriginId": null,
     "diskcache": false,
     "headerColor": "inherit",
     "id": "871e9ac7-aa0b-4abc-82a3-450b1bb7b257",
     "isComponent": true,
     "name": "Optuna run Gaussian",
     "parents": [
      {
       "id": "d5742407-e18a-4185-a945-f5ac11dcb854",
       "name": "Optuna function Gaussian"
      }
     ]
    },
    "tags": []
   },
   "outputs": [],
   "source": [
    "study = optuna.create_study(directions=['maximize','maximize', 'maximize', 'minimize'])\n",
    "study.optimize(objective_gnb, n_trials=200)"
   ]
  },
  {
   "cell_type": "code",
   "execution_count": null,
   "id": "778a5e8b-f87e-4c95-a9f3-09ed049a6dcd",
   "metadata": {
    "canvas": {
     "comments": [],
     "componentType": "CodeCell",
     "copiedOriginId": null,
     "diskcache": false,
     "headerColor": "inherit",
     "id": "05f7e787-a336-4342-b603-78809382262e",
     "isComponent": true,
     "name": "Optuna results",
     "parents": [
      {
       "id": "871e9ac7-aa0b-4abc-82a3-450b1bb7b257",
       "name": "Optuna run Gaussian"
      }
     ]
    },
    "tags": []
   },
   "outputs": [],
   "source": [
    "metrics_name = ['F1','Precision','Recall','Brier']\n",
    "\n",
    "tries = pd.DataFrame()\n",
    "try_1 = {}\n",
    "for trial in study.best_trials:\n",
    "    \n",
    "    for metric, value in zip(metrics_name,trial.values):\n",
    "        \n",
    "        try_1[metric] = value\n",
    "        \n",
    "    try_1['Params'] = str(trial.params)\n",
    "    \n",
    "    tries = pd.concat([tries, pd.DataFrame(try_1, index=[0])], ignore_index=True)\n",
    "    \n",
    "    tries = tries[tries.Precision > 0]\n",
    "    \n",
    "tries"
   ]
  },
  {
   "cell_type": "code",
   "execution_count": null,
   "id": "38865532-740a-4de0-af0f-4358b5338334",
   "metadata": {
    "canvas": {
     "comments": [],
     "componentType": "CodeCell",
     "copiedOriginId": null,
     "diskcache": false,
     "headerColor": "inherit",
     "id": "d7fdb49f-1502-43d4-87ef-e452da6ecf74",
     "isComponent": true,
     "name": "Top 20 results optuna",
     "parents": [
      {
       "id": "05f7e787-a336-4342-b603-78809382262e",
       "name": "Optuna results"
      }
     ]
    },
    "tags": []
   },
   "outputs": [],
   "source": [
    "tries.sort_values(['F1','Brier','Precision'], ascending= [False, True, False]).head(20)"
   ]
  },
  {
   "cell_type": "code",
   "execution_count": null,
   "id": "c0c029e3-d857-49d9-bc9f-8c14e1efa205",
   "metadata": {
    "canvas": {
     "comments": [],
     "componentType": "CodeCell",
     "copiedOriginId": null,
     "diskcache": true,
     "headerColor": "inherit",
     "id": "5fc0c45d-b30d-4092-b717-eeaf44c5e2c7",
     "isComponent": true,
     "name": "Final model params",
     "parents": [
      {
       "id": "a878d86e-3707-49be-bb85-3a5c0cbe3972",
       "name": "Optuna dataset"
      }
     ]
    },
    "tags": []
   },
   "outputs": [],
   "source": [
    "params = {'max_depth': 4, 'min_child_weight': 4, 'gamma': 1, 'max_delta_step': 9}\n",
    "\n",
    "\n",
    "threshold = 0.5\n",
    "\n",
    "xgb = XGBClassifier(use_label_encoder=False, verbosity=0, random_state=42, **params)\n",
    "\n",
    "#xgb = XGBClassifier(use_label_encoder=False, verbosity=0, random_state=42)"
   ]
  },
  {
   "cell_type": "code",
   "execution_count": null,
   "id": "85ce49bd-6e94-4401-a063-52820c0f892e",
   "metadata": {
    "canvas": {
     "comments": [],
     "componentType": "CodeCell",
     "copiedOriginId": null,
     "diskcache": false,
     "headerColor": "inherit",
     "id": "0f59996a-a2d4-43df-8a8a-4bcfaee7adc7",
     "isComponent": false,
     "name": "",
     "parents": []
    }
   },
   "outputs": [],
   "source": [
    "X_test_final.columns"
   ]
  },
  {
   "cell_type": "code",
   "execution_count": null,
   "id": "5fcffc89-6efb-4939-8b37-812ca37b238a",
   "metadata": {
    "canvas": {
     "comments": [],
     "componentType": "CodeCell",
     "copiedOriginId": null,
     "diskcache": true,
     "headerColor": "inherit",
     "id": "514f62d4-03db-4a35-b1a7-e1487f81d6f8",
     "isComponent": true,
     "name": "Why",
     "parents": [
      {
       "id": "5fc0c45d-b30d-4092-b717-eeaf44c5e2c7",
       "name": "Final model params"
      }
     ]
    },
    "tags": []
   },
   "outputs": [],
   "source": [
    "\n",
    "\n",
    "xgb.fit(X_train_final, y_train_final)\n",
    "\n",
    "explainer = shap.Explainer(xgb.predict, X_train_final)\n",
    "shap_values = explainer(X_test_final)"
   ]
  },
  {
   "cell_type": "code",
   "execution_count": null,
   "id": "f68836b7-dc4c-4cce-a11f-adbf73fb154b",
   "metadata": {
    "canvas": {
     "comments": [],
     "componentType": "CodeCell",
     "copiedOriginId": null,
     "diskcache": true,
     "headerColor": "inherit",
     "id": "fbfdab1e-5273-4851-8ccd-e8293d6011f8",
     "isComponent": true,
     "name": "Shap summary plot",
     "parents": [
      {
       "id": "514f62d4-03db-4a35-b1a7-e1487f81d6f8",
       "name": "Why"
      }
     ]
    },
    "tags": []
   },
   "outputs": [],
   "source": [
    "shap.summary_plot(shap_values, plot_type='violin')"
   ]
  },
  {
   "cell_type": "code",
   "execution_count": null,
   "id": "50dbf251-941f-4b33-8a29-fa51edfcb4c8",
   "metadata": {
    "canvas": {
     "comments": [],
     "componentType": "CodeCell",
     "copiedOriginId": null,
     "diskcache": true,
     "headerColor": "inherit",
     "id": "95127e46-d9bb-4f24-9c39-41ed4c9603fd",
     "isComponent": true,
     "name": "Target true e pred analysis",
     "parents": [
      {
       "id": "fbfdab1e-5273-4851-8ccd-e8293d6011f8",
       "name": "Shap summary plot"
      }
     ]
    },
    "tags": []
   },
   "outputs": [],
   "source": [
    "X_test_analysis = X_test_final.copy()\n",
    "\n",
    "X_test_analysis['pred_proba'] = xgb.predict_proba(X_test_final)[:, -1]\n",
    "\n",
    "X_test_analysis['true'] = y_test\n",
    "\n",
    "X_test_analysis = X_test_analysis.reset_index()\n",
    "\n",
    "test = pd.DataFrame({'true': y_test, 'pred':xgb.predict_proba(X_test_final)[:, -1]})\n",
    "\n",
    "limit = 40\n",
    "bins = 50\n",
    "\n",
    "test[test.true==1].pred.plot.hist(bins=bins, ylim=(0,limit), fc=(0, 0, 1, 0.5), legend='Legend', label='Voluntary Attrition', yticks=np.arange(0,limit,2))\n",
    "test[test.true==0].pred.plot.hist(bins=bins, ylim=(0,limit), fc=(0, 0.4, 0.3, 0.5), legend='Legend', label='Active')"
   ]
  },
  {
   "cell_type": "code",
   "execution_count": null,
   "id": "1ca76e46-e595-49e0-aace-b3ff682a8988",
   "metadata": {
    "canvas": {
     "comments": [],
     "componentType": "CodeCell",
     "copiedOriginId": null,
     "diskcache": true,
     "headerColor": "inherit",
     "id": "8f6a2b7e-a44c-4363-80a5-aeb90dadbb89",
     "isComponent": true,
     "name": "shap raw data",
     "parents": [
      {
       "id": "95127e46-d9bb-4f24-9c39-41ed4c9603fd",
       "name": "Target true e pred analysis"
      }
     ]
    },
    "tags": []
   },
   "outputs": [],
   "source": [
    "shap_analyze= pd.DataFrame()\n",
    "\n",
    "index = 0\n",
    "\n",
    "for i in shap_values:\n",
    "    teste = pd.DataFrame(data=[list(i.values)], columns=X_test_final.columns, index=[index])\n",
    "    shap_analyze = pd.concat([shap_analyze, teste])\n",
    "    \n",
    "    index += 1\n",
    "    \n",
    "    \n",
    "shap_analyze"
   ]
  },
  {
   "cell_type": "code",
   "execution_count": null,
   "id": "60d03b52-0ff1-425f-ac65-943adbd8fd17",
   "metadata": {
    "canvas": {
     "comments": [],
     "componentType": "CodeCell",
     "copiedOriginId": null,
     "diskcache": false,
     "headerColor": "inherit",
     "id": "eab710ce-7339-48c0-acb7-639907a322ff",
     "isComponent": true,
     "name": "Final Analysis",
     "parents": [
      {
       "id": "8f6a2b7e-a44c-4363-80a5-aeb90dadbb89",
       "name": "shap raw data"
      }
     ]
    },
    "tags": []
   },
   "outputs": [],
   "source": [
    "def plot_analysis(title='test', dictionary_analysis={}):\n",
    "    \n",
    "    fig, ax = plt.subplots(figsize=(10, 6))\n",
    "    plt.title(title)\n",
    "\n",
    "    ax.boxplot(dictionary_analysis.values())\n",
    "    ax.set_xticklabels(dictionary_analysis.keys(), rotation = 90);\n",
    "\n",
    "for target_pred in range(0,2):\n",
    "    \n",
    "    index_analysis = X_test_analysis[(X_test_analysis.true == target_pred)&(X_test_analysis.pred_proba >= 0.5)].index\n",
    "    \n",
    "    shap_analyze_chosen = shap_analyze.iloc[index_analysis,:]\n",
    "    \n",
    "    shap_analyze_chosen_dict = {columns:shap_analyze_chosen[columns] for columns in shap_analyze_chosen}\n",
    "    \n",
    "    plot_analysis(f'True == {target_pred} and prob >= 0.5', shap_analyze_chosen_dict)\n",
    "    \n",
    "    index_analysis = X_test_analysis[(X_test_analysis.true == target_pred)&(X_test_analysis.pred_proba < 0.5)].index\n",
    "    \n",
    "    shap_analyze_chosen = shap_analyze.iloc[index_analysis,:]\n",
    "    \n",
    "    shap_analyze_chosen_dict = {columns:shap_analyze_chosen[columns] for columns in shap_analyze_chosen}\n",
    "    \n",
    "    plot_analysis(f'True == {target_pred} and prob < 0.5', shap_analyze_chosen_dict)"
   ]
  },
  {
   "cell_type": "code",
   "execution_count": null,
   "id": "fc75f878-18b3-461b-8b61-656aa8416f54",
   "metadata": {
    "canvas": {
     "comments": [],
     "componentType": "CodeCell",
     "copiedOriginId": null,
     "diskcache": false,
     "headerColor": "inherit",
     "id": "a8990cde-1895-4827-bbd8-c967fb66d9d7",
     "isComponent": true,
     "name": "Raw shap analysis",
     "parents": [
      {
       "id": "8f6a2b7e-a44c-4363-80a5-aeb90dadbb89",
       "name": "shap raw data"
      }
     ]
    },
    "tags": []
   },
   "outputs": [],
   "source": [
    "X_test_analysis_trat = X_test_analysis[['true']]\n",
    "\n",
    "shap_final = pd.concat([shap_analyze, X_test_analysis_trat], axis=1  )\n",
    "\n",
    "shap_final_trat = pd.melt(shap_final, id_vars=['true']).groupby(['true', 'variable']).median().reset_index()\n",
    "\n",
    "index_true = shap_final_trat['true'] == 0\n",
    "\n",
    "shap_final_trat.loc[index_true, 'value'] = shap_final_trat[index_true]*-1\n",
    "\n",
    "shap_final_trat.loc[:, 'value'] = shap_final_trat.loc[:, 'value']*10\n",
    "\n",
    "shap_final_trat = shap_final_trat.sort_values('value', ascending=False)\n",
    "\n",
    "shap_final_trat = shap_final_trat.pivot(index='variable', columns='true')['value']\n",
    "\n",
    "shap_final_trat = shap_final_trat.reindex()\n",
    "\n",
    "shap_final_trat['dif'] = np.round(shap_final_trat[0] + shap_final_trat[1],3)\n",
    "\n",
    "feature_shap_selection = shap_final_trat[shap_final_trat.dif != 0].sort_values('dif')\n",
    "\n",
    "feature_shap_selection"
   ]
  },
  {
   "cell_type": "code",
   "execution_count": null,
   "id": "1dd8b1e1-2af8-4d82-ada7-994b6bbfdbd9",
   "metadata": {
    "canvas": {
     "comments": [],
     "componentType": "CodeCell",
     "copiedOriginId": null,
     "diskcache": false,
     "headerColor": "inherit",
     "id": "a6001fef-b609-4bfa-8b80-36078a767df8",
     "isComponent": false,
     "name": "",
     "parents": []
    }
   },
   "outputs": [],
   "source": [
    "a = ['tipo_filial_DIGITAL', 'filial_descricao_AFYA',\n",
    "       'genero',\n",
    "       'engineer_merit_indexes',\n",
    "       'codsecao_gerencia_contagion',\n",
    "       'salario', 'funcao_descricao_clean_contagion',\n",
    "       'tempo_de_casa', 'engineer_promotion_indexes']"
   ]
  },
  {
   "cell_type": "code",
   "execution_count": null,
   "id": "6b1fd4de-8c93-4fdc-a4e0-08b04a152650",
   "metadata": {
    "canvas": {
     "comments": [],
     "componentType": "CodeCell",
     "copiedOriginId": null,
     "diskcache": false,
     "headerColor": "inherit",
     "id": "1bc393d7-dd2b-4460-ac0c-6f8df2be2467",
     "isComponent": false,
     "name": "",
     "parents": []
    }
   },
   "outputs": [],
   "source": [
    "feature_shap_selection[feature_shap_selection.index.isin(a)]"
   ]
  },
  {
   "cell_type": "code",
   "execution_count": null,
   "id": "ac5749b8-41df-4460-a906-ebc61f8fd47a",
   "metadata": {
    "canvas": {
     "comments": [],
     "componentType": "CodeCell",
     "copiedOriginId": null,
     "diskcache": false,
     "headerColor": "inherit",
     "id": "c1cb2f29-eb0c-4c6f-b8e8-eddea57c96cb",
     "isComponent": false,
     "name": "",
     "parents": []
    }
   },
   "outputs": [],
   "source": [
    "['tipo_filial_DIGITAL', 'VP_descricao_VICEPRESIDENCIADESERVICOSDIGITAIS',\n",
    "       'filial_descricao_AFYA', 'VP_descricao_VICEPRESIDENCIADEMERCADO',\n",
    "       'genero', 'corraca_descricao_Branca',\n",
    "       'VP_descricao_VICEPRESIDENCIADEINOVACAOESERVDIGITAIS',\n",
    "       'funcao_descricao_clean_proportion_contagion', 'engineer_merit_indexes',\n",
    "       'codsecao_gerencia_proportion_contagion', 'codsecao_gerencia_contagion',\n",
    "       'salario', 'funcao_descricao_clean_contagion', 'ord_faixa_tempo_casa',\n",
    "       'tempo_de_casa', 'engineer_promotion_indexes']"
   ]
  },
  {
   "cell_type": "code",
   "execution_count": null,
   "id": "63adc98e-349a-4d40-9043-7587ed4c3b8e",
   "metadata": {
    "canvas": {
     "comments": [],
     "componentType": "CodeCell",
     "copiedOriginId": null,
     "diskcache": false,
     "headerColor": "inherit",
     "id": "b92fccc0-7bb1-4c27-a1a0-f5642df563ac",
     "isComponent": true,
     "name": "Yellowbricks threshold",
     "parents": [
      {
       "id": "5fc0c45d-b30d-4092-b717-eeaf44c5e2c7",
       "name": "Final model params"
      }
     ]
    },
    "tags": []
   },
   "outputs": [],
   "source": [
    "from yellowbrick.classifier import DiscriminationThreshold\n",
    "\n",
    "\n",
    "# Instantiate the classification model and visualizer\n",
    "model = XGBClassifier(use_label_encoder=False, verbosity=0, **params)\n",
    "visualizer = DiscriminationThreshold(model)\n",
    "\n",
    "visualizer.fit(X_train_final, y_train_final)        # Fit the data to the visualizer\n",
    "visualizer.show()           # Finalize and render the figure"
   ]
  },
  {
   "cell_type": "code",
   "execution_count": null,
   "id": "4b407308-0571-4992-a86b-7fcb99270a3e",
   "metadata": {
    "canvas": {
     "comments": [],
     "componentType": "CodeCell",
     "copiedOriginId": null,
     "diskcache": false,
     "headerColor": "inherit",
     "id": "e8288067-3467-4652-ad40-782306573788",
     "isComponent": true,
     "name": "Validation Curve",
     "parents": [
      {
       "id": "b92fccc0-7bb1-4c27-a1a0-f5642df563ac",
       "name": "Yellowbricks threshold"
      }
     ]
    },
    "tags": []
   },
   "outputs": [],
   "source": [
    "from yellowbrick.model_selection import validation_curve\n",
    "\n",
    "viz = validation_curve(\n",
    "    xgb, X_train_final, y_train_final,\n",
    "    param_name= 'gamma',\n",
    "    param_range= np.arange(1,7),\n",
    "    cv=10, scoring='f1'\n",
    ")"
   ]
  },
  {
   "cell_type": "code",
   "execution_count": null,
   "id": "7a574e7a-2663-4248-a7ba-5665ba04eafb",
   "metadata": {
    "canvas": {
     "comments": [],
     "componentType": "CodeCell",
     "copiedOriginId": null,
     "diskcache": false,
     "headerColor": "inherit",
     "id": "c8fa1b75-b23c-4fd1-8f4a-a6c565a0621d",
     "isComponent": false,
     "name": "",
     "parents": []
    }
   },
   "outputs": [],
   "source": [
    "index = 0\n",
    "chosen_index = 0\n",
    "last_best = 0\n",
    "\n",
    "\n",
    "for i in visualizer.cv_scores_['precision'].tolist():\n",
    "    \n",
    "    if i > last_best:\n",
    "        last_best = i\n",
    "        chosen_index = index\n",
    "        consecutive_better = 0\n",
    "    else:\n",
    "        consecutive_better += 1\n",
    "        \n",
    "    if consecutive_better > 9:\n",
    "        break\n",
    "        \n",
    "    index += 1\n",
    "        \n",
    "print(str(last_best)+'/n'+ str(chosen_index))   \n",
    "\n",
    "print(str(visualizer.thresholds_[chosen_index]))"
   ]
  },
  {
   "cell_type": "code",
   "execution_count": null,
   "id": "4608c941-2f54-411d-aab2-b1ab9af228cc",
   "metadata": {
    "canvas": {
     "comments": [],
     "componentType": "CodeCell",
     "copiedOriginId": null,
     "diskcache": false,
     "headerColor": "inherit",
     "id": "4eed2dda-4508-42ca-9d82-1d58c3b6a41d",
     "isComponent": true,
     "name": "Final model stats",
     "parents": [
      {
       "id": "5fc0c45d-b30d-4092-b717-eeaf44c5e2c7",
       "name": "Final model params"
      }
     ]
    },
    "tags": []
   },
   "outputs": [],
   "source": [
    "X_dataset, y_dataset = X_optuna, y_optuna\n",
    "\n",
    "model = xgb\n",
    "\n",
    "evaluation = pd.DataFrame()\n",
    "\n",
    "assertiveness = pd.DataFrame()\n",
    "\n",
    "shf = ShuffleSplit(n_splits=100,test_size=0.3)\n",
    "\n",
    "count = 0\n",
    "\n",
    "for train_index, test_index in shf.split(X_dataset,y_dataset):\n",
    "\n",
    "        X_train, y_train  = X_dataset.iloc[train_index].copy(), y_dataset.iloc[train_index].copy()\n",
    "        X_test, y_test = X_dataset.iloc[test_index].copy(), y_dataset.iloc[test_index].copy()\n",
    "        \n",
    "        #Exclude if no oversample\n",
    "        #X_train, y_train = over_under.fit_resample(X_train, y_train)\n",
    "\n",
    "        model.fit(X_train,y_train)\n",
    "\n",
    "        probabilities = [round(x,2) for x in model.predict_proba(X_test)[:,-1]]\n",
    "        \n",
    "        evaluation = pd.concat([evaluation, useful_metrics(X_test, y_test, model, threshold)],ignore_index=True)\n",
    "        \n",
    "        assertiveness_rec = pd.DataFrame({'index':X_test.index, 'probabilities': probabilities, 'y_true': y_test})\n",
    "        \n",
    "        assertiveness = pd.concat([assertiveness, assertiveness_rec])\n",
    "        \n",
    "\n",
    "        count+=1\n",
    "        \n",
    "        print(\"Shuffle \" + str(count), end = \"\\r\")\n",
    "        \n",
    "assertiveness['correct'] = assertiveness.y_true == (assertiveness.probabilities > threshold)\n",
    "assertiveness['brier'] = abs(assertiveness.y_true - assertiveness.probabilities)\n",
    "assertiveness['precision'] = [y if x ==0 else np.nan for x,y in zip(assertiveness.y_true,assertiveness.correct)]\n",
    "assertiveness['recall'] = [y if x ==1 else np.nan for x,y in zip(assertiveness.y_true,assertiveness.correct)]\n",
    "        \n",
    "grouped_stats = assertiveness.groupby('index').agg(\n",
    "        avg_correct_percent =('correct', 'mean'),\n",
    "        avg_precision = ('precision', np.nanmean),\n",
    "        avg_recall = ('recall', np.nanmean),\n",
    "        std = ('brier', np.std),\n",
    "        brier = ('brier', np.mean),\n",
    "        count = ('brier', 'count')\n",
    "        )\n",
    "        \n",
    "X_dataset_stats = pd.merge(X_dataset,grouped_stats, left_index=True, right_index=True)\n",
    "\n",
    "X_dataset_stats = pd.merge(X_dataset_stats,pd.get_dummies(y_dataset, prefix='target'), left_index=True, right_index=True)\n"
   ]
  },
  {
   "cell_type": "code",
   "execution_count": null,
   "id": "d401cbc1-1ce8-407b-9414-a9d26b48fe69",
   "metadata": {
    "canvas": {
     "comments": [],
     "componentType": "CodeCell",
     "copiedOriginId": null,
     "diskcache": false,
     "headerColor": "inherit",
     "id": "1dd18a01-147a-489b-941e-867a5fc7389b",
     "isComponent": true,
     "name": "Stats visualization",
     "parents": [
      {
       "id": "4eed2dda-4508-42ca-9d82-1d58c3b6a41d",
       "name": "Final model stats"
      }
     ]
    },
    "tags": []
   },
   "outputs": [],
   "source": [
    "duration = 1000  # milliseconds\n",
    "freq = 440# Hz\n",
    "winsound.Beep(freq, duration)\n",
    "ax = sns.boxplot(x='variable', y='value', data=pd.melt(evaluation))\n",
    "ax.set_xticklabels(ax.get_xticklabels(),rotation=30);"
   ]
  },
  {
   "cell_type": "code",
   "execution_count": null,
   "id": "de0d643a-cb73-40df-88d7-11999c9bf450",
   "metadata": {
    "canvas": {
     "comments": [],
     "componentType": "CodeCell",
     "copiedOriginId": null,
     "diskcache": true,
     "headerColor": "inherit",
     "id": "7122c816-b17e-4185-9c99-0fc03101be5b",
     "isComponent": true,
     "name": "Prepare X_holdout dataset",
     "parents": [
      {
       "id": "5fc0c45d-b30d-4092-b717-eeaf44c5e2c7",
       "name": "Final model params"
      },
      {
       "id": "ce04c155-4800-4dae-9253-501682182090",
       "name": "Holdout"
      }
     ]
    },
    "tags": []
   },
   "outputs": [],
   "source": [
    "X_holdout_final = final_transformation(X_holdout,feature_final, 0, 'N')"
   ]
  },
  {
   "cell_type": "code",
   "execution_count": null,
   "id": "8e2ff7b6-2f1c-4b87-94f8-1bfe0fc3bbf0",
   "metadata": {
    "canvas": {
     "comments": [],
     "componentType": "CodeCell",
     "copiedOriginId": null,
     "diskcache": true,
     "headerColor": "inherit",
     "id": "54cd23f1-9a30-44d0-9ae0-d2e25a0baeb0",
     "isComponent": true,
     "name": "Final Results",
     "parents": [
      {
       "id": "7122c816-b17e-4185-9c99-0fc03101be5b",
       "name": "Prepare X_holdout dataset"
      }
     ]
    },
    "tags": []
   },
   "outputs": [],
   "source": [
    "xgb.fit(X_optuna, y_optuna)\n",
    "\n",
    "metrics_final = useful_metrics(X_holdout_final, y_holdout, xgb, threshold)\n",
    "\n",
    "confusion_matrix = metrics.confusion_matrix(\n",
    "    y_holdout, xgb.predict_proba(X_holdout_final)[:, -1] > threshold)\n",
    "\n",
    "tn, fp, fn, tp = confusion_matrix.ravel()\n",
    "specificity = tn / (tn+fp)"
   ]
  },
  {
   "cell_type": "code",
   "execution_count": null,
   "id": "9e991c9d-066d-4126-90e2-4a560acff213",
   "metadata": {
    "canvas": {
     "comments": [],
     "componentType": "CodeCell",
     "copiedOriginId": null,
     "diskcache": false,
     "headerColor": "inherit",
     "id": "be46cbe8-0cef-4517-9fcf-3a087cbb0439",
     "isComponent": false,
     "name": "",
     "parents": []
    }
   },
   "outputs": [],
   "source": [
    "test = pd.DataFrame({'true': y_holdout, 'pred':xgb.predict_proba(X_holdout_final)[:, -1]})\n",
    "\n",
    "limit = 40\n",
    "bins = 50\n",
    "\n",
    "test[test.true==1].pred.plot.hist(bins=bins, ylim=(0,limit), fc=(0, 0, 1, 0.5), legend='Legend', label='Voluntary Attrition', yticks=np.arange(0,limit,2))\n",
    "test[test.true==0].pred.plot.hist(bins=bins, ylim=(0,limit), fc=(0, 0.4, 0.3, 0.5), legend='Legend', label='Active')"
   ]
  },
  {
   "cell_type": "code",
   "execution_count": null,
   "id": "96938b6f-a5d3-41b9-96c7-28f3f674104e",
   "metadata": {
    "canvas": {
     "comments": [],
     "componentType": "CodeCell",
     "copiedOriginId": null,
     "diskcache": true,
     "headerColor": "inherit",
     "id": "2b54670b-7be3-4478-a89c-0fb50685bba2",
     "isComponent": true,
     "name": "Confusion Matrix",
     "parents": [
      {
       "id": "54cd23f1-9a30-44d0-9ae0-d2e25a0baeb0",
       "name": "Final Results"
      }
     ]
    },
    "tags": []
   },
   "outputs": [],
   "source": [
    "cm_display = metrics.ConfusionMatrixDisplay(confusion_matrix=confusion_matrix)\n",
    "\n",
    "cm_display.plot()\n",
    "plt.grid(False)\n",
    "plt.show()"
   ]
  },
  {
   "cell_type": "code",
   "execution_count": null,
   "id": "bf723e0a-464e-47d4-b8aa-866a9fba57ed",
   "metadata": {
    "canvas": {
     "comments": [],
     "componentType": "CodeCell",
     "copiedOriginId": null,
     "diskcache": true,
     "headerColor": "inherit",
     "id": "4b0268ef-ea00-4441-a8ad-58cdb5372c28",
     "isComponent": true,
     "name": "Laymans Results",
     "parents": [
      {
       "id": "2b54670b-7be3-4478-a89c-0fb50685bba2",
       "name": "Confusion Matrix"
      }
     ]
    },
    "tags": []
   },
   "outputs": [],
   "source": [
    "print(f\"O teste final do modelo conseguiu capturar {round(metrics_final['recall_score'][0]*100,2)}% ({tp} pessoa(s)) que iriam sair.\\n\")\n",
    "\n",
    "print(f'O custo desse tipo de predição foi de {round(100-specificity*100,1)}%.\\n Resumindo, o modelo previu que {fp} pessoa(s) da base iria sair, mas não saiu...')\n",
    "\n",
    "print('\\nExcelente notícia!!!!')\n",
    "\n",
    "\n",
    "\n",
    "duration = 1000  # milliseconds\n",
    "freq = 440  # Hz\n",
    "winsound.Beep(freq, duration)\n"
   ]
  },
  {
   "cell_type": "code",
   "execution_count": null,
   "id": "f7070fe8-7c1b-4105-ac04-9f7bc46ee706",
   "metadata": {
    "canvas": {
     "comments": [],
     "componentType": "CodeCell",
     "copiedOriginId": null,
     "diskcache": false,
     "headerColor": "inherit",
     "id": "2b107a46-0cd0-49cb-9e5f-9a88fd5f07ca",
     "isComponent": true,
     "name": "Save Model",
     "parents": [
      {
       "id": "4b0268ef-ea00-4441-a8ad-58cdb5372c28",
       "name": "Laymans Results"
      }
     ]
    },
    "tags": []
   },
   "outputs": [],
   "source": [
    "dump(xgb, open('turnover_general_model.pkl', 'wb'))\n",
    "\n",
    "dump(threshold, open('threshold.pkl', 'wb'))"
   ]
  }
 ],
 "metadata": {
  "canvas": {
   "colorPalette": [
    "inherit",
    "inherit",
    "inherit",
    "inherit",
    "inherit",
    "inherit",
    "inherit",
    "inherit",
    "inherit",
    "inherit"
   ],
   "parameters": [],
   "version": "1.0"
  },
  "kernelspec": {
   "display_name": "Python 3 (ipykernel)",
   "language": "python",
   "name": "python3"
  },
  "language_info": {
   "codemirror_mode": {
    "name": "ipython",
    "version": 3
   },
   "file_extension": ".py",
   "mimetype": "text/x-python",
   "name": "python",
   "nbconvert_exporter": "python",
   "pygments_lexer": "ipython3",
   "version": "3.9.12"
  },
  "vscode": {
   "interpreter": {
    "hash": "170b8c02c5d9a17f4c6e32a810ccf454aef4bd67e276acae3c871a0f5763d93e"
   }
  }
 },
 "nbformat": 4,
 "nbformat_minor": 5
}
